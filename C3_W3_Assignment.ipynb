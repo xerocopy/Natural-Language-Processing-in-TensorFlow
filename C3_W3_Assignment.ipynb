{
  "cells": [
    {
      "cell_type": "code",
      "execution_count": null,
      "metadata": {
        "id": "zX4Kg8DUTKWO"
      },
      "outputs": [],
      "source": [
        "#@title Licensed under the Apache License, Version 2.0 (the \"License\");\n",
        "# you may not use this file except in compliance with the License.\n",
        "# You may obtain a copy of the License at\n",
        "#\n",
        "# https://www.apache.org/licenses/LICENSE-2.0\n",
        "#\n",
        "# Unless required by applicable law or agreed to in writing, software\n",
        "# distributed under the License is distributed on an \"AS IS\" BASIS,\n",
        "# WITHOUT WARRANTIES OR CONDITIONS OF ANY KIND, either express or implied.\n",
        "# See the License for the specific language governing permissions and\n",
        "# limitations under the License."
      ]
    },
    {
      "cell_type": "markdown",
      "metadata": {
        "id": "gnU1TV9kV5f9"
      },
      "source": [
        "**Note:** This notebook can run using TensorFlow 2.5.0"
      ]
    },
    {
      "cell_type": "code",
      "execution_count": null,
      "metadata": {
        "id": "qTZDRvo5V5f9"
      },
      "outputs": [],
      "source": [
        "#!pip install tensorflow==2.5.0"
      ]
    },
    {
      "cell_type": "code",
      "execution_count": 1,
      "metadata": {
        "id": "hmA6EzkQJ5jt"
      },
      "outputs": [],
      "source": [
        "import json\n",
        "import tensorflow as tf\n",
        "import csv\n",
        "import random\n",
        "import numpy as np\n",
        "\n",
        "from tensorflow.keras.preprocessing.text import Tokenizer\n",
        "from tensorflow.keras.preprocessing.sequence import pad_sequences\n",
        "from tensorflow.keras.utils import to_categorical\n",
        "from tensorflow.keras import regularizers\n",
        "\n",
        "\n",
        "embedding_dim = 100\n",
        "max_length = 16\n",
        "trunc_type='post'\n",
        "padding_type='post'\n",
        "oov_tok = \"<OOV>\"\n",
        "training_size=160000 #Your dataset size here. Experiment using smaller values (i.e. 16000), but don't forget to train on at least 160000 to see the best effects\n",
        "test_portion=.1\n",
        "\n",
        "corpus = []\n"
      ]
    },
    {
      "cell_type": "code",
      "execution_count": 2,
      "metadata": {
        "id": "9WJgvRsJtQuv",
        "colab": {
          "base_uri": "https://localhost:8080/"
        },
        "outputId": "16ef7f71-0ac0-4bde-f1c3-8733310bc7f9"
      },
      "outputs": [
        {
          "output_type": "stream",
          "name": "stdout",
          "text": [
            "Writing download.sh\n"
          ]
        }
      ],
      "source": [
        "%%writefile download.sh\n",
        "\n",
        "#!/bin/bash\n",
        "fileid=\"$1\"\n",
        "filename=\"$2\"\n",
        "html=`curl -c ./cookie -s -L \"https://drive.google.com/uc?export=download&id=${fileid}\"`\n",
        "curl -Lb ./cookie \"https://drive.google.com/uc?export=download&`echo ${html}|grep -Po '(confirm=[a-zA-Z0-9\\-_]+)'`&id=${fileid}\" -o ${filename}"
      ]
    },
    {
      "cell_type": "code",
      "execution_count": 3,
      "metadata": {
        "id": "_fcq--ZatQuv",
        "colab": {
          "base_uri": "https://localhost:8080/"
        },
        "outputId": "886303bd-8e56-4d01-93da-200a27c33701"
      },
      "outputs": [
        {
          "output_type": "stream",
          "name": "stdout",
          "text": [
            "  % Total    % Received % Xferd  Average Speed   Time    Time     Time  Current\n",
            "                                 Dload  Upload   Total   Spent    Left  Speed\n",
            "  0     0    0     0    0     0      0      0 --:--:-- --:--:-- --:--:--     0\n",
            "100  227M  100  227M    0     0  98.3M      0  0:00:02  0:00:02 --:--:--  122M\n"
          ]
        }
      ],
      "source": [
        "# Note that I cleaned the Stanford dataset to remove LATIN1 encoding to make it easier for Python CSV reader\n",
        "# You can do that yourself with:\n",
        "# iconv -f LATIN1 -t UTF8 training.1600000.processed.noemoticon.csv -o training_cleaned.csv\n",
        "\n",
        "!bash download.sh 1wd8KaeCSHxt-nEpMeuHFSNWrDp8joUXJ training_cleaned.csv"
      ]
    },
    {
      "cell_type": "code",
      "execution_count": 49,
      "metadata": {
        "id": "bM0l_dORKqE0"
      },
      "outputs": [],
      "source": [
        "# Note that I cleaned the Stanford dataset to remove LATIN1 encoding to make it easier for Python CSV reader\n",
        "# You can do that yourself with:\n",
        "# iconv -f LATIN1 -t UTF8 training.1600000.processed.noemoticon.csv -o training_cleaned.csv\n",
        "corpus= []\n",
        "num_sentences = 0\n",
        "\n",
        "with open(\"./training_cleaned.csv\") as csvfile:\n",
        "    reader = csv.reader(csvfile, delimiter=',')\n",
        "    for row in reader:\n",
        "        # if num_sentences < 3:\n",
        "        #   print(row)\n",
        "\n",
        "        list_item=[]\n",
        "        \n",
        "        ### START CODE HERE\n",
        "        #Create list items where the first item is the text, found in row[5], and the second is the label. Note that the label is a '0' or a '4' in the text. When it's the former, make\n",
        "        # your label to be 0, otherwise 1. Keep a count of the number of sentences in num_sentences\n",
        "        \n",
        "        temp_text = str(row[5])\n",
        "\n",
        "        if row[0]  == '0':\n",
        "          temp_label = 0\n",
        "        elif row[0] == '4':\n",
        "          temp_label = 1\n",
        "        list_item= [temp_text, temp_label]\n",
        "        \n",
        "\n",
        "        ### END CODE HERE\n",
        "        \n",
        "        num_sentences = num_sentences + 1\n",
        "        corpus.append(list_item)\n"
      ]
    },
    {
      "cell_type": "code",
      "execution_count": 50,
      "metadata": {
        "id": "3kxblBUjEUX-",
        "colab": {
          "base_uri": "https://localhost:8080/"
        },
        "outputId": "54c23f45-e7bd-446c-f77f-52b0148727e1"
      },
      "outputs": [
        {
          "output_type": "stream",
          "name": "stdout",
          "text": [
            "1600000\n",
            "1600000\n",
            "[\"is upset that he can't update his Facebook by texting it... and might cry as a result  School today also. Blah!\", 0]\n"
          ]
        }
      ],
      "source": [
        "print(num_sentences)\n",
        "print(len(corpus))\n",
        "print(corpus[1])\n",
        "\n",
        "# Expected Output:\n",
        "# 1600000\n",
        "# 1600000\n",
        "# [\"is upset that he can't update his Facebook by texting it... and might cry as a result  School today also. Blah!\", 0]"
      ]
    },
    {
      "cell_type": "code",
      "execution_count": 51,
      "metadata": {
        "id": "ohOGz24lsNAD"
      },
      "outputs": [],
      "source": [
        "sentences=[]\n",
        "labels=[]\n",
        "random.shuffle(corpus)\n",
        "for x in range(training_size):\n",
        "    sentences.append(corpus[x][0])\n",
        "    labels.append(corpus[x][1])\n",
        "\n",
        "\n",
        "tokenizer = Tokenizer(num_words=16000)\n",
        "tokenizer.fit_on_texts(sentences)\n",
        "\n",
        "word_index = tokenizer.word_index\n",
        "vocab_size=len(word_index)\n",
        "\n",
        "sequences = tokenizer.texts_to_sequences(sentences)\n",
        "padded = pad_sequences(sequences, maxlen=max_length, padding =padding_type, truncating = trunc_type)\n",
        "\n",
        "split = int(test_portion * training_size)\n",
        "\n",
        "test_sequences = padded[0:split]\n",
        "training_sequences = padded[split:]\n",
        "test_labels = labels[0:split]\n",
        "training_labels = labels[split:]"
      ]
    },
    {
      "cell_type": "code",
      "execution_count": 52,
      "metadata": {
        "id": "gIrtRem1En3N",
        "colab": {
          "base_uri": "https://localhost:8080/"
        },
        "outputId": "68aa8aaf-526f-4d4d-b69e-da36a7770b1c"
      },
      "outputs": [
        {
          "output_type": "stream",
          "name": "stdout",
          "text": [
            "137938\n",
            "1\n"
          ]
        }
      ],
      "source": [
        "print(vocab_size)\n",
        "print(word_index['i'])\n",
        "# Expected Output\n",
        "# 138856\n",
        "# 1\n"
      ]
    },
    {
      "cell_type": "code",
      "execution_count": 56,
      "metadata": {
        "id": "C1zdgJkusRh0",
        "colab": {
          "base_uri": "https://localhost:8080/"
        },
        "outputId": "f704f5e1-1840-4a81-a775-90b4e3f5c9ba"
      },
      "outputs": [
        {
          "output_type": "stream",
          "name": "stdout",
          "text": [
            "  % Total    % Received % Xferd  Average Speed   Time    Time     Time  Current\n",
            "                                 Dload  Upload   Total   Spent    Left  Speed\n",
            "  0     0    0     0    0     0      0      0 --:--:-- --:--:-- --:--:--     0\n",
            "100  331M  100  331M    0     0   159M      0  0:00:02  0:00:02 --:--:--  228M\n"
          ]
        }
      ],
      "source": [
        "# Note this is the 100 dimension version of GloVe from Stanford\n",
        "\n",
        "# glove.6B.100d.txt\n",
        "!bash download.sh 1W5vZy2etitAblLdFn8_DxnsQKzfFJ98g glove.6B.100d.txt\n",
        "\n",
        "embeddings_index = {};\n",
        "with open('./glove.6B.100d.txt') as f:\n",
        "    for line in f:\n",
        "        values = line.split();\n",
        "        word = values[0];\n",
        "        coefs = np.asarray(values[1:], dtype='float32');\n",
        "        embeddings_index[word] = coefs;\n",
        "\n",
        "embeddings_matrix = np.zeros((vocab_size+1, embedding_dim));\n",
        "for word, i in word_index.items():\n",
        "    embedding_vector = embeddings_index.get(word);\n",
        "    if embedding_vector is not None:\n",
        "        embeddings_matrix[i] = embedding_vector;"
      ]
    },
    {
      "cell_type": "code",
      "execution_count": 57,
      "metadata": {
        "id": "71NLk_lpFLNt",
        "colab": {
          "base_uri": "https://localhost:8080/"
        },
        "outputId": "f020bb54-4126-438b-c347-8ea05e44d22e"
      },
      "outputs": [
        {
          "output_type": "stream",
          "name": "stdout",
          "text": [
            "137939\n"
          ]
        }
      ],
      "source": [
        "print(len(embeddings_matrix))\n",
        "# Expected Output\n",
        "# 138857"
      ]
    },
    {
      "cell_type": "code",
      "execution_count": 63,
      "metadata": {
        "id": "iKKvbuEBOGFz",
        "colab": {
          "base_uri": "https://localhost:8080/"
        },
        "outputId": "7e906866-f75f-4c0c-b69e-fcbe961671a8"
      },
      "outputs": [
        {
          "output_type": "stream",
          "name": "stdout",
          "text": [
            "Model: \"sequential_8\"\n",
            "_________________________________________________________________\n",
            " Layer (type)                Output Shape              Param #   \n",
            "=================================================================\n",
            " embedding_8 (Embedding)     (None, 16, 100)           13793900  \n",
            "                                                                 \n",
            " conv1d_8 (Conv1D)           (None, 12, 128)           64128     \n",
            "                                                                 \n",
            " global_max_pooling1d_8 (Glo  (None, 128)              0         \n",
            " balMaxPooling1D)                                                \n",
            "                                                                 \n",
            " dense_16 (Dense)            (None, 24)                3096      \n",
            "                                                                 \n",
            " dense_17 (Dense)            (None, 1)                 25        \n",
            "                                                                 \n",
            "=================================================================\n",
            "Total params: 13,861,149\n",
            "Trainable params: 67,249\n",
            "Non-trainable params: 13,793,900\n",
            "_________________________________________________________________\n",
            "Epoch 1/50\n",
            "4500/4500 [==============================] - 33s 7ms/step - loss: 0.5472 - accuracy: 0.7155 - val_loss: 0.5277 - val_accuracy: 0.7342\n",
            "Epoch 2/50\n",
            "4500/4500 [==============================] - 32s 7ms/step - loss: 0.5007 - accuracy: 0.7520 - val_loss: 0.5134 - val_accuracy: 0.7419\n",
            "Epoch 3/50\n",
            "4500/4500 [==============================] - 30s 7ms/step - loss: 0.4738 - accuracy: 0.7694 - val_loss: 0.5070 - val_accuracy: 0.7446\n",
            "Epoch 4/50\n",
            "4500/4500 [==============================] - 31s 7ms/step - loss: 0.4506 - accuracy: 0.7823 - val_loss: 0.5237 - val_accuracy: 0.7471\n",
            "Epoch 5/50\n",
            "4500/4500 [==============================] - 30s 7ms/step - loss: 0.4280 - accuracy: 0.7972 - val_loss: 0.5208 - val_accuracy: 0.7442\n",
            "Epoch 6/50\n",
            "4500/4500 [==============================] - 31s 7ms/step - loss: 0.4063 - accuracy: 0.8098 - val_loss: 0.5392 - val_accuracy: 0.7384\n",
            "Epoch 7/50\n",
            "4500/4500 [==============================] - 29s 7ms/step - loss: 0.3878 - accuracy: 0.8204 - val_loss: 0.5485 - val_accuracy: 0.7358\n",
            "Epoch 8/50\n",
            "4500/4500 [==============================] - 29s 6ms/step - loss: 0.3694 - accuracy: 0.8294 - val_loss: 0.5682 - val_accuracy: 0.7365\n",
            "Epoch 9/50\n",
            "4500/4500 [==============================] - 28s 6ms/step - loss: 0.3527 - accuracy: 0.8380 - val_loss: 0.5956 - val_accuracy: 0.7390\n",
            "Epoch 10/50\n",
            "4500/4500 [==============================] - 28s 6ms/step - loss: 0.3380 - accuracy: 0.8451 - val_loss: 0.6091 - val_accuracy: 0.7312\n",
            "Epoch 11/50\n",
            "4500/4500 [==============================] - 28s 6ms/step - loss: 0.3249 - accuracy: 0.8515 - val_loss: 0.6485 - val_accuracy: 0.7276\n",
            "Epoch 12/50\n",
            "4500/4500 [==============================] - 28s 6ms/step - loss: 0.3112 - accuracy: 0.8596 - val_loss: 0.6733 - val_accuracy: 0.7206\n",
            "Epoch 13/50\n",
            "4500/4500 [==============================] - 28s 6ms/step - loss: 0.2997 - accuracy: 0.8645 - val_loss: 0.6775 - val_accuracy: 0.7222\n",
            "Epoch 14/50\n",
            "4500/4500 [==============================] - 28s 6ms/step - loss: 0.2886 - accuracy: 0.8702 - val_loss: 0.7468 - val_accuracy: 0.7148\n",
            "Epoch 15/50\n",
            "4500/4500 [==============================] - 31s 7ms/step - loss: 0.2789 - accuracy: 0.8751 - val_loss: 0.7689 - val_accuracy: 0.7247\n",
            "Epoch 16/50\n",
            "4500/4500 [==============================] - 34s 8ms/step - loss: 0.2706 - accuracy: 0.8785 - val_loss: 0.7755 - val_accuracy: 0.7228\n",
            "Epoch 17/50\n",
            "4500/4500 [==============================] - 31s 7ms/step - loss: 0.2617 - accuracy: 0.8828 - val_loss: 0.7961 - val_accuracy: 0.7204\n",
            "Epoch 18/50\n",
            "4500/4500 [==============================] - 34s 8ms/step - loss: 0.2549 - accuracy: 0.8855 - val_loss: 0.8533 - val_accuracy: 0.7222\n",
            "Epoch 19/50\n",
            "4500/4500 [==============================] - 32s 7ms/step - loss: 0.2475 - accuracy: 0.8887 - val_loss: 0.9167 - val_accuracy: 0.7151\n",
            "Epoch 20/50\n",
            "4500/4500 [==============================] - 32s 7ms/step - loss: 0.2395 - accuracy: 0.8929 - val_loss: 0.9258 - val_accuracy: 0.7215\n",
            "Epoch 21/50\n",
            "4500/4500 [==============================] - 32s 7ms/step - loss: 0.2336 - accuracy: 0.8950 - val_loss: 0.9524 - val_accuracy: 0.7147\n",
            "Epoch 22/50\n",
            "4500/4500 [==============================] - 30s 7ms/step - loss: 0.2272 - accuracy: 0.8983 - val_loss: 0.9096 - val_accuracy: 0.7110\n",
            "Epoch 23/50\n",
            "4500/4500 [==============================] - 31s 7ms/step - loss: 0.2207 - accuracy: 0.9021 - val_loss: 0.9731 - val_accuracy: 0.7191\n",
            "Epoch 24/50\n",
            "4500/4500 [==============================] - 30s 7ms/step - loss: 0.2161 - accuracy: 0.9044 - val_loss: 1.0321 - val_accuracy: 0.7141\n",
            "Epoch 25/50\n",
            "4500/4500 [==============================] - 30s 7ms/step - loss: 0.2115 - accuracy: 0.9060 - val_loss: 1.0283 - val_accuracy: 0.7088\n",
            "Epoch 26/50\n",
            "4500/4500 [==============================] - 31s 7ms/step - loss: 0.2050 - accuracy: 0.9088 - val_loss: 1.0455 - val_accuracy: 0.7075\n",
            "Epoch 27/50\n",
            "4500/4500 [==============================] - 30s 7ms/step - loss: 0.2006 - accuracy: 0.9107 - val_loss: 1.1307 - val_accuracy: 0.7100\n",
            "Epoch 28/50\n",
            "4500/4500 [==============================] - 30s 7ms/step - loss: 0.1983 - accuracy: 0.9119 - val_loss: 1.1903 - val_accuracy: 0.7134\n",
            "Epoch 29/50\n",
            "4500/4500 [==============================] - 30s 7ms/step - loss: 0.1931 - accuracy: 0.9141 - val_loss: 1.1522 - val_accuracy: 0.7054\n",
            "Epoch 30/50\n",
            "4500/4500 [==============================] - 29s 7ms/step - loss: 0.1895 - accuracy: 0.9158 - val_loss: 1.2146 - val_accuracy: 0.7097\n",
            "Epoch 31/50\n",
            "4500/4500 [==============================] - 29s 7ms/step - loss: 0.1864 - accuracy: 0.9169 - val_loss: 1.2503 - val_accuracy: 0.7088\n",
            "Epoch 32/50\n",
            "4500/4500 [==============================] - 29s 6ms/step - loss: 0.1831 - accuracy: 0.9185 - val_loss: 1.3175 - val_accuracy: 0.7061\n",
            "Epoch 33/50\n",
            "4500/4500 [==============================] - 29s 6ms/step - loss: 0.1779 - accuracy: 0.9208 - val_loss: 1.3375 - val_accuracy: 0.7143\n",
            "Epoch 34/50\n",
            "4500/4500 [==============================] - 30s 7ms/step - loss: 0.1735 - accuracy: 0.9225 - val_loss: 1.4256 - val_accuracy: 0.7130\n",
            "Epoch 35/50\n",
            "4500/4500 [==============================] - 29s 7ms/step - loss: 0.1726 - accuracy: 0.9237 - val_loss: 1.3479 - val_accuracy: 0.7031\n",
            "Epoch 36/50\n",
            "4500/4500 [==============================] - 28s 6ms/step - loss: 0.1683 - accuracy: 0.9259 - val_loss: 1.4216 - val_accuracy: 0.7063\n",
            "Epoch 37/50\n",
            "4500/4500 [==============================] - 28s 6ms/step - loss: 0.1643 - accuracy: 0.9278 - val_loss: 1.4738 - val_accuracy: 0.7090\n",
            "Epoch 38/50\n",
            "4500/4500 [==============================] - 28s 6ms/step - loss: 0.1632 - accuracy: 0.9279 - val_loss: 1.3674 - val_accuracy: 0.7050\n",
            "Epoch 39/50\n",
            "4500/4500 [==============================] - 28s 6ms/step - loss: 0.1609 - accuracy: 0.9289 - val_loss: 1.4859 - val_accuracy: 0.7066\n",
            "Epoch 40/50\n",
            "4500/4500 [==============================] - 28s 6ms/step - loss: 0.1576 - accuracy: 0.9306 - val_loss: 1.5022 - val_accuracy: 0.7067\n",
            "Epoch 41/50\n",
            "4500/4500 [==============================] - 27s 6ms/step - loss: 0.1542 - accuracy: 0.9322 - val_loss: 1.4777 - val_accuracy: 0.7026\n",
            "Epoch 42/50\n",
            "4500/4500 [==============================] - 27s 6ms/step - loss: 0.1536 - accuracy: 0.9329 - val_loss: 1.5673 - val_accuracy: 0.7026\n",
            "Epoch 43/50\n",
            "4500/4500 [==============================] - 28s 6ms/step - loss: 0.1506 - accuracy: 0.9333 - val_loss: 1.5865 - val_accuracy: 0.7016\n",
            "Epoch 44/50\n",
            "4500/4500 [==============================] - 28s 6ms/step - loss: 0.1482 - accuracy: 0.9351 - val_loss: 1.6849 - val_accuracy: 0.7104\n",
            "Epoch 45/50\n",
            "4500/4500 [==============================] - 28s 6ms/step - loss: 0.1459 - accuracy: 0.9359 - val_loss: 1.6719 - val_accuracy: 0.7097\n",
            "Epoch 46/50\n",
            "4500/4500 [==============================] - 28s 6ms/step - loss: 0.1449 - accuracy: 0.9366 - val_loss: 1.7225 - val_accuracy: 0.7049\n",
            "Epoch 47/50\n",
            "4500/4500 [==============================] - 28s 6ms/step - loss: 0.1419 - accuracy: 0.9371 - val_loss: 1.6625 - val_accuracy: 0.7097\n",
            "Epoch 48/50\n",
            "4500/4500 [==============================] - 28s 6ms/step - loss: 0.1391 - accuracy: 0.9392 - val_loss: 1.7350 - val_accuracy: 0.7066\n",
            "Epoch 49/50\n",
            "4500/4500 [==============================] - 28s 6ms/step - loss: 0.1379 - accuracy: 0.9394 - val_loss: 1.7341 - val_accuracy: 0.7044\n",
            "Epoch 50/50\n",
            "4500/4500 [==============================] - 28s 6ms/step - loss: 0.1364 - accuracy: 0.9404 - val_loss: 1.8295 - val_accuracy: 0.7031\n",
            "Training Complete\n"
          ]
        }
      ],
      "source": [
        "model = tf.keras.Sequential([\n",
        "    tf.keras.layers.Embedding(vocab_size+1, embedding_dim, input_length=max_length, weights=[embeddings_matrix], trainable=False),\n",
        "                    tf.keras.layers.Conv1D(128, 5, activation = 'relu'),\n",
        "                    tf.keras.layers.GlobalMaxPooling1D(),\n",
        "                    tf.keras.layers.Dense(24, activation='relu'),\n",
        "                    tf.keras.layers.Dense(1, activation='sigmoid')\n",
        "    # YOUR CODE HERE - experiment with combining different types, such as convolutions and LSTMs\n",
        "])\n",
        "model.compile(loss = 'binary_crossentropy', optimizer = 'adam', metrics = ['accuracy'])\n",
        "model.summary()\n",
        "\n",
        "training_sequences = np.array(training_sequences)\n",
        "training_labels = np.array(training_labels)\n",
        "test_sequences = np.array(test_sequences)\n",
        "test_labels = np.array(test_labels)\n",
        "\n",
        "num_epochs = 50\n",
        "history = model.fit(training_sequences, training_labels, epochs=num_epochs, validation_data=(test_sequences, test_labels), verbose=1)\n",
        "\n",
        "print(\"Training Complete\")\n"
      ]
    },
    {
      "cell_type": "code",
      "execution_count": 64,
      "metadata": {
        "id": "qxju4ItJKO8F",
        "colab": {
          "base_uri": "https://localhost:8080/",
          "height": 608
        },
        "outputId": "47f9b173-a551-4985-bebf-28006f2cca92"
      },
      "outputs": [
        {
          "output_type": "execute_result",
          "data": {
            "text/plain": [
              "<Figure size 432x288 with 0 Axes>"
            ]
          },
          "metadata": {},
          "execution_count": 64
        },
        {
          "output_type": "display_data",
          "data": {
            "image/png": "[encoded data removed]",
            "text/plain": [
              "<Figure size 432x288 with 1 Axes>"
            ]
          },
          "metadata": {
            "needs_background": "light"
          }
        },
        {
          "output_type": "display_data",
          "data": {
            "image/png": "[encoded data removed]",
            "text/plain": [
              "<Figure size 432x288 with 1 Axes>"
            ]
          },
          "metadata": {
            "needs_background": "light"
          }
        },
        {
          "output_type": "display_data",
          "data": {
            "text/plain": [
              "<Figure size 432x288 with 0 Axes>"
            ]
          },
          "metadata": {}
        }
      ],
      "source": [
        "import matplotlib.image  as mpimg\n",
        "import matplotlib.pyplot as plt\n",
        "\n",
        "#-----------------------------------------------------------\n",
        "# Retrieve a list of list results on training and test data\n",
        "# sets for each training epoch\n",
        "#-----------------------------------------------------------\n",
        "acc=history.history['accuracy']\n",
        "val_acc=history.history['val_accuracy']\n",
        "loss=history.history['loss']\n",
        "val_loss=history.history['val_loss']\n",
        "\n",
        "epochs=range(len(acc)) # Get number of epochs\n",
        "\n",
        "#------------------------------------------------\n",
        "# Plot training and validation accuracy per epoch\n",
        "#------------------------------------------------\n",
        "plt.plot(epochs, acc, 'r')\n",
        "plt.plot(epochs, val_acc, 'b')\n",
        "plt.title('Training and validation accuracy')\n",
        "plt.xlabel(\"Epochs\")\n",
        "plt.ylabel(\"Accuracy\")\n",
        "plt.legend([\"Accuracy\", \"Validation Accuracy\"])\n",
        "\n",
        "plt.figure()\n",
        "\n",
        "#------------------------------------------------\n",
        "# Plot training and validation loss per epoch\n",
        "#------------------------------------------------\n",
        "plt.plot(epochs, loss, 'r')\n",
        "plt.plot(epochs, val_loss, 'b')\n",
        "plt.title('Training and validation loss')\n",
        "plt.xlabel(\"Epochs\")\n",
        "plt.ylabel(\"Loss\")\n",
        "plt.legend([\"Loss\", \"Validation Loss\"])\n",
        "\n",
        "plt.figure()\n",
        "\n",
        "\n",
        "# Expected Output\n",
        "# A chart where the validation loss does not increase sharply!"
      ]
    },
    {
      "cell_type": "code",
      "execution_count": 65,
      "metadata": {
        "colab": {
          "base_uri": "https://localhost:8080/"
        },
        "outputId": "59fd429b-c2e3-4cfc-bdf4-b52a8bdb41c5",
        "id": "VcxZQwiLP53y"
      },
      "outputs": [
        {
          "output_type": "stream",
          "name": "stdout",
          "text": [
            "Model: \"sequential_9\"\n",
            "_________________________________________________________________\n",
            " Layer (type)                Output Shape              Param #   \n",
            "=================================================================\n",
            " embedding_9 (Embedding)     (None, 16, 100)           13793900  \n",
            "                                                                 \n",
            " lstm (LSTM)                 (None, 32)                17024     \n",
            "                                                                 \n",
            " dense_18 (Dense)            (None, 24)                792       \n",
            "                                                                 \n",
            " dense_19 (Dense)            (None, 1)                 25        \n",
            "                                                                 \n",
            "=================================================================\n",
            "Total params: 13,811,741\n",
            "Trainable params: 17,841\n",
            "Non-trainable params: 13,793,900\n",
            "_________________________________________________________________\n",
            "Epoch 1/50\n",
            "4500/4500 [==============================] - 35s 7ms/step - loss: 0.5380 - accuracy: 0.7262 - val_loss: 0.5088 - val_accuracy: 0.7521\n",
            "Epoch 2/50\n",
            "4500/4500 [==============================] - 39s 9ms/step - loss: 0.4926 - accuracy: 0.7593 - val_loss: 0.5015 - val_accuracy: 0.7509\n",
            "Epoch 3/50\n",
            "4500/4500 [==============================] - 36s 8ms/step - loss: 0.4768 - accuracy: 0.7695 - val_loss: 0.4929 - val_accuracy: 0.7663\n",
            "Epoch 4/50\n",
            "4500/4500 [==============================] - 43s 9ms/step - loss: 0.4664 - accuracy: 0.7769 - val_loss: 0.4899 - val_accuracy: 0.7632\n",
            "Epoch 5/50\n",
            "4500/4500 [==============================] - 38s 8ms/step - loss: 0.4579 - accuracy: 0.7816 - val_loss: 0.4877 - val_accuracy: 0.7663\n",
            "Epoch 6/50\n",
            "4500/4500 [==============================] - 42s 9ms/step - loss: 0.4516 - accuracy: 0.7853 - val_loss: 0.4994 - val_accuracy: 0.7633\n",
            "Epoch 7/50\n",
            "4500/4500 [==============================] - 35s 8ms/step - loss: 0.4449 - accuracy: 0.7893 - val_loss: 0.4777 - val_accuracy: 0.7707\n",
            "Epoch 8/50\n",
            "4500/4500 [==============================] - 32s 7ms/step - loss: 0.4397 - accuracy: 0.7920 - val_loss: 0.4786 - val_accuracy: 0.7726\n",
            "Epoch 9/50\n",
            "4500/4500 [==============================] - 33s 7ms/step - loss: 0.4350 - accuracy: 0.7950 - val_loss: 0.4834 - val_accuracy: 0.7708\n",
            "Epoch 10/50\n",
            "4500/4500 [==============================] - 36s 8ms/step - loss: 0.4307 - accuracy: 0.7978 - val_loss: 0.4866 - val_accuracy: 0.7717\n",
            "Epoch 11/50\n",
            "4500/4500 [==============================] - 34s 8ms/step - loss: 0.4263 - accuracy: 0.8001 - val_loss: 0.4867 - val_accuracy: 0.7729\n",
            "Epoch 12/50\n",
            "4500/4500 [==============================] - 33s 7ms/step - loss: 0.4225 - accuracy: 0.8015 - val_loss: 0.4957 - val_accuracy: 0.7670\n",
            "Epoch 13/50\n",
            "4500/4500 [==============================] - 33s 7ms/step - loss: 0.4187 - accuracy: 0.8033 - val_loss: 0.4972 - val_accuracy: 0.7684\n",
            "Epoch 14/50\n",
            "4500/4500 [==============================] - 34s 8ms/step - loss: 0.4154 - accuracy: 0.8054 - val_loss: 0.4882 - val_accuracy: 0.7697\n",
            "Epoch 15/50\n",
            "4500/4500 [==============================] - 33s 7ms/step - loss: 0.4118 - accuracy: 0.8078 - val_loss: 0.4891 - val_accuracy: 0.7684\n",
            "Epoch 16/50\n",
            "4500/4500 [==============================] - 33s 7ms/step - loss: 0.4082 - accuracy: 0.8098 - val_loss: 0.4901 - val_accuracy: 0.7707\n",
            "Epoch 17/50\n",
            "4500/4500 [==============================] - 33s 7ms/step - loss: 0.4048 - accuracy: 0.8114 - val_loss: 0.5017 - val_accuracy: 0.7656\n",
            "Epoch 18/50\n",
            "4500/4500 [==============================] - 33s 7ms/step - loss: 0.4023 - accuracy: 0.8134 - val_loss: 0.5006 - val_accuracy: 0.7694\n",
            "Epoch 19/50\n",
            "4500/4500 [==============================] - 33s 7ms/step - loss: 0.3991 - accuracy: 0.8148 - val_loss: 0.5041 - val_accuracy: 0.7679\n",
            "Epoch 20/50\n",
            "4500/4500 [==============================] - 36s 8ms/step - loss: 0.3967 - accuracy: 0.8150 - val_loss: 0.5015 - val_accuracy: 0.7701\n",
            "Epoch 21/50\n",
            "4500/4500 [==============================] - 32s 7ms/step - loss: 0.3941 - accuracy: 0.8177 - val_loss: 0.5086 - val_accuracy: 0.7671\n",
            "Epoch 22/50\n",
            "4500/4500 [==============================] - 32s 7ms/step - loss: 0.3916 - accuracy: 0.8193 - val_loss: 0.5018 - val_accuracy: 0.7681\n",
            "Epoch 23/50\n",
            "4500/4500 [==============================] - 33s 7ms/step - loss: 0.3892 - accuracy: 0.8200 - val_loss: 0.5167 - val_accuracy: 0.7696\n",
            "Epoch 24/50\n",
            "4500/4500 [==============================] - 32s 7ms/step - loss: 0.3868 - accuracy: 0.8206 - val_loss: 0.5162 - val_accuracy: 0.7650\n",
            "Epoch 25/50\n",
            "4500/4500 [==============================] - 32s 7ms/step - loss: 0.3849 - accuracy: 0.8217 - val_loss: 0.5242 - val_accuracy: 0.7642\n",
            "Epoch 26/50\n",
            "4500/4500 [==============================] - 32s 7ms/step - loss: 0.3822 - accuracy: 0.8231 - val_loss: 0.5365 - val_accuracy: 0.7665\n",
            "Epoch 27/50\n",
            "4500/4500 [==============================] - 32s 7ms/step - loss: 0.3801 - accuracy: 0.8241 - val_loss: 0.5304 - val_accuracy: 0.7605\n",
            "Epoch 28/50\n",
            "4500/4500 [==============================] - 33s 7ms/step - loss: 0.3779 - accuracy: 0.8261 - val_loss: 0.5154 - val_accuracy: 0.7659\n",
            "Epoch 29/50\n",
            "4500/4500 [==============================] - 33s 7ms/step - loss: 0.3761 - accuracy: 0.8264 - val_loss: 0.5261 - val_accuracy: 0.7663\n",
            "Epoch 30/50\n",
            "4500/4500 [==============================] - 33s 7ms/step - loss: 0.3741 - accuracy: 0.8273 - val_loss: 0.5356 - val_accuracy: 0.7617\n",
            "Epoch 31/50\n",
            "4500/4500 [==============================] - 33s 7ms/step - loss: 0.3722 - accuracy: 0.8280 - val_loss: 0.5335 - val_accuracy: 0.7604\n",
            "Epoch 32/50\n",
            "4500/4500 [==============================] - 33s 7ms/step - loss: 0.3702 - accuracy: 0.8298 - val_loss: 0.5276 - val_accuracy: 0.7604\n",
            "Epoch 33/50\n",
            "4500/4500 [==============================] - 33s 7ms/step - loss: 0.3686 - accuracy: 0.8303 - val_loss: 0.5582 - val_accuracy: 0.7621\n",
            "Epoch 34/50\n",
            "4500/4500 [==============================] - 33s 7ms/step - loss: 0.3668 - accuracy: 0.8316 - val_loss: 0.5687 - val_accuracy: 0.7571\n",
            "Epoch 35/50\n",
            "4500/4500 [==============================] - 33s 7ms/step - loss: 0.3657 - accuracy: 0.8310 - val_loss: 0.5380 - val_accuracy: 0.7634\n",
            "Epoch 36/50\n",
            "4500/4500 [==============================] - 33s 7ms/step - loss: 0.3638 - accuracy: 0.8325 - val_loss: 0.5492 - val_accuracy: 0.7623\n",
            "Epoch 37/50\n",
            "4500/4500 [==============================] - 33s 7ms/step - loss: 0.3629 - accuracy: 0.8330 - val_loss: 0.5550 - val_accuracy: 0.7626\n",
            "Epoch 38/50\n",
            "4500/4500 [==============================] - 33s 7ms/step - loss: 0.3615 - accuracy: 0.8335 - val_loss: 0.5435 - val_accuracy: 0.7614\n",
            "Epoch 39/50\n",
            "4500/4500 [==============================] - 33s 7ms/step - loss: 0.3590 - accuracy: 0.8347 - val_loss: 0.5491 - val_accuracy: 0.7636\n",
            "Epoch 40/50\n",
            "4500/4500 [==============================] - 32s 7ms/step - loss: 0.3581 - accuracy: 0.8360 - val_loss: 0.5793 - val_accuracy: 0.7561\n",
            "Epoch 41/50\n",
            "4500/4500 [==============================] - 33s 7ms/step - loss: 0.3570 - accuracy: 0.8361 - val_loss: 0.5705 - val_accuracy: 0.7623\n",
            "Epoch 42/50\n",
            "4500/4500 [==============================] - 32s 7ms/step - loss: 0.3566 - accuracy: 0.8366 - val_loss: 0.5803 - val_accuracy: 0.7586\n",
            "Epoch 43/50\n",
            "4500/4500 [==============================] - 33s 7ms/step - loss: 0.3559 - accuracy: 0.8368 - val_loss: 0.5674 - val_accuracy: 0.7591\n",
            "Epoch 44/50\n",
            "4500/4500 [==============================] - 32s 7ms/step - loss: 0.3544 - accuracy: 0.8371 - val_loss: 0.5694 - val_accuracy: 0.7575\n",
            "Epoch 45/50\n",
            "4500/4500 [==============================] - 32s 7ms/step - loss: 0.3532 - accuracy: 0.8379 - val_loss: 0.5765 - val_accuracy: 0.7580\n",
            "Epoch 46/50\n",
            "4500/4500 [==============================] - 33s 7ms/step - loss: 0.3520 - accuracy: 0.8388 - val_loss: 0.5797 - val_accuracy: 0.7582\n",
            "Epoch 47/50\n",
            "4500/4500 [==============================] - 34s 7ms/step - loss: 0.3514 - accuracy: 0.8387 - val_loss: 0.5790 - val_accuracy: 0.7548\n",
            "Epoch 48/50\n",
            "4500/4500 [==============================] - 34s 8ms/step - loss: 0.3506 - accuracy: 0.8389 - val_loss: 0.5991 - val_accuracy: 0.7587\n",
            "Epoch 49/50\n",
            "4500/4500 [==============================] - 34s 8ms/step - loss: 0.3483 - accuracy: 0.8401 - val_loss: 0.6037 - val_accuracy: 0.7592\n",
            "Epoch 50/50\n",
            "4500/4500 [==============================] - 33s 7ms/step - loss: 0.3530 - accuracy: 0.8388 - val_loss: 0.6019 - val_accuracy: 0.7573\n",
            "Training Complete\n"
          ]
        }
      ],
      "source": [
        "model2 = tf.keras.Sequential([\n",
        "    tf.keras.layers.Embedding(vocab_size+1, embedding_dim, input_length=max_length, weights=[embeddings_matrix], trainable=False),\n",
        "                    tf.keras.layers.LSTM(32, activation = 'relu'),\n",
        "                    tf.keras.layers.Dense(24, activation='relu'),\n",
        "                    tf.keras.layers.Dense(1, activation='sigmoid')\n",
        "    # YOUR CODE HERE - experiment with combining different types, such as convolutions and LSTMs\n",
        "])\n",
        "model2.compile(loss = 'binary_crossentropy', optimizer = 'adam', metrics = ['accuracy'])\n",
        "model2.summary()\n",
        "\n",
        "training_sequences = np.array(training_sequences)\n",
        "training_labels = np.array(training_labels)\n",
        "test_sequences = np.array(test_sequences)\n",
        "test_labels = np.array(test_labels)\n",
        "\n",
        "num_epochs = 50\n",
        "history2 = model2.fit(training_sequences, training_labels, epochs=num_epochs, validation_data=(test_sequences, test_labels), verbose=1)\n",
        "\n",
        "print(\"Training Complete\")\n"
      ]
    },
    {
      "cell_type": "code",
      "source": [
        "#-----------------------------------------------------------\n",
        "# Retrieve a list of list results on training and test data\n",
        "# sets for each training epoch\n",
        "#-----------------------------------------------------------\n",
        "acc=history2.history['accuracy']\n",
        "val_acc=history2.history['val_accuracy']\n",
        "loss=history2.history['loss']\n",
        "val_loss=history2.history['val_loss']\n",
        "\n",
        "epochs=range(len(acc)) # Get number of epochs\n",
        "\n",
        "#------------------------------------------------\n",
        "# Plot training and validation accuracy per epoch\n",
        "#------------------------------------------------\n",
        "plt.plot(epochs, acc, 'r')\n",
        "plt.plot(epochs, val_acc, 'b')\n",
        "plt.title('Training and validation accuracy')\n",
        "plt.xlabel(\"Epochs\")\n",
        "plt.ylabel(\"Accuracy\")\n",
        "plt.legend([\"Accuracy\", \"Validation Accuracy\"])\n",
        "\n",
        "plt.figure()\n",
        "\n",
        "#------------------------------------------------\n",
        "# Plot training and validation loss per epoch\n",
        "#------------------------------------------------\n",
        "plt.plot(epochs, loss, 'r')\n",
        "plt.plot(epochs, val_loss, 'b')\n",
        "plt.title('Training and validation loss')\n",
        "plt.xlabel(\"Epochs\")\n",
        "plt.ylabel(\"Loss\")\n",
        "plt.legend([\"Loss\", \"Validation Loss\"])\n",
        "\n",
        "plt.figure()"
      ],
      "metadata": {
        "colab": {
          "base_uri": "https://localhost:8080/",
          "height": 608
        },
        "id": "qWAi8ew9Q2sJ",
        "outputId": "bf75dbfe-e226-4355-e34c-2832dbd78c41"
      },
      "execution_count": 66,
      "outputs": [
        {
          "output_type": "execute_result",
          "data": {
            "text/plain": [
              "<Figure size 432x288 with 0 Axes>"
            ]
          },
          "metadata": {},
          "execution_count": 66
        },
        {
          "output_type": "display_data",
          "data": {
            "image/png": "[encoded data removed]",
            "text/plain": [
              "<Figure size 432x288 with 1 Axes>"
            ]
          },
          "metadata": {
            "needs_background": "light"
          }
        },
        {
          "output_type": "display_data",
          "data": {
            "image/png": "[encoded data removed]",
            "text/plain": [
              "<Figure size 432x288 with 1 Axes>"
            ]
          },
          "metadata": {
            "needs_background": "light"
          }
        },
        {
          "output_type": "display_data",
          "data": {
            "text/plain": [
              "<Figure size 432x288 with 0 Axes>"
            ]
          },
          "metadata": {}
        }
      ]
    },
    {
      "cell_type": "code",
      "source": [
        "model3 = tf.keras.Sequential([\n",
        "    tf.keras.layers.Embedding(vocab_size+1, embedding_dim, input_length=max_length, weights=[embeddings_matrix], trainable=False),\n",
        "                    tf.keras.layers.Bidirectional(tf.keras.layers.LSTM(32)),\n",
        "                    tf.keras.layers.Dense(24, activation='relu'),\n",
        "                    tf.keras.layers.Dense(1, activation='sigmoid')\n",
        "    # YOUR CODE HERE - experiment with combining different types, such as convolutions and LSTMs\n",
        "])\n",
        "model3.compile(loss = 'binary_crossentropy', optimizer = 'adam', metrics = ['accuracy'])\n",
        "model3.summary()\n",
        "\n",
        "training_sequences = np.array(training_sequences)\n",
        "training_labels = np.array(training_labels)\n",
        "test_sequences = np.array(test_sequences)\n",
        "test_labels = np.array(test_labels)\n",
        "\n",
        "num_epochs = 50\n",
        "history3 = model3.fit(training_sequences, training_labels, epochs=num_epochs, validation_data=(test_sequences, test_labels), verbose=1)\n",
        "\n",
        "print(\"Training Complete\")\n"
      ],
      "metadata": {
        "colab": {
          "base_uri": "https://localhost:8080/"
        },
        "id": "NYZ9VaMUQ2ux",
        "outputId": "564d73e7-6272-4dd2-dc71-c65fe6fbb816"
      },
      "execution_count": 67,
      "outputs": [
        {
          "output_type": "stream",
          "name": "stdout",
          "text": [
            "Model: \"sequential_10\"\n",
            "_________________________________________________________________\n",
            " Layer (type)                Output Shape              Param #   \n",
            "=================================================================\n",
            " embedding_10 (Embedding)    (None, 16, 100)           13793900  \n",
            "                                                                 \n",
            " bidirectional (Bidirectiona  (None, 128)              84480     \n",
            " l)                                                              \n",
            "                                                                 \n",
            " dense_20 (Dense)            (None, 24)                3096      \n",
            "                                                                 \n",
            " dense_21 (Dense)            (None, 1)                 25        \n",
            "                                                                 \n",
            "=================================================================\n",
            "Total params: 13,881,501\n",
            "Trainable params: 87,601\n",
            "Non-trainable params: 13,793,900\n",
            "_________________________________________________________________\n",
            "Epoch 1/50\n",
            "4500/4500 [==============================] - 76s 16ms/step - loss: 0.5339 - accuracy: 0.7281 - val_loss: 0.5065 - val_accuracy: 0.7516\n",
            "Epoch 2/50\n",
            "4500/4500 [==============================] - 72s 16ms/step - loss: 0.4820 - accuracy: 0.7660 - val_loss: 0.4859 - val_accuracy: 0.7606\n",
            "Epoch 3/50\n",
            "4500/4500 [==============================] - 72s 16ms/step - loss: 0.4560 - accuracy: 0.7825 - val_loss: 0.4742 - val_accuracy: 0.7693\n",
            "Epoch 4/50\n",
            "4500/4500 [==============================] - 73s 16ms/step - loss: 0.4346 - accuracy: 0.7950 - val_loss: 0.4771 - val_accuracy: 0.7692\n",
            "Epoch 5/50\n",
            "4500/4500 [==============================] - 72s 16ms/step - loss: 0.4135 - accuracy: 0.8079 - val_loss: 0.4855 - val_accuracy: 0.7682\n",
            "Epoch 6/50\n",
            "4500/4500 [==============================] - 72s 16ms/step - loss: 0.3929 - accuracy: 0.8188 - val_loss: 0.4895 - val_accuracy: 0.7661\n",
            "Epoch 7/50\n",
            "4500/4500 [==============================] - 73s 16ms/step - loss: 0.3718 - accuracy: 0.8300 - val_loss: 0.5078 - val_accuracy: 0.7667\n",
            "Epoch 8/50\n",
            "4500/4500 [==============================] - 73s 16ms/step - loss: 0.3512 - accuracy: 0.8406 - val_loss: 0.5143 - val_accuracy: 0.7627\n",
            "Epoch 9/50\n",
            "4500/4500 [==============================] - 73s 16ms/step - loss: 0.3309 - accuracy: 0.8517 - val_loss: 0.5511 - val_accuracy: 0.7597\n",
            "Epoch 10/50\n",
            "4500/4500 [==============================] - 73s 16ms/step - loss: 0.3111 - accuracy: 0.8613 - val_loss: 0.5691 - val_accuracy: 0.7548\n",
            "Epoch 11/50\n",
            "4500/4500 [==============================] - 72s 16ms/step - loss: 0.2921 - accuracy: 0.8706 - val_loss: 0.6121 - val_accuracy: 0.7523\n",
            "Epoch 12/50\n",
            "4500/4500 [==============================] - 72s 16ms/step - loss: 0.2730 - accuracy: 0.8795 - val_loss: 0.6703 - val_accuracy: 0.7541\n",
            "Epoch 13/50\n",
            "4500/4500 [==============================] - 72s 16ms/step - loss: 0.2570 - accuracy: 0.8878 - val_loss: 0.6783 - val_accuracy: 0.7452\n",
            "Epoch 14/50\n",
            "4500/4500 [==============================] - 72s 16ms/step - loss: 0.2418 - accuracy: 0.8947 - val_loss: 0.7427 - val_accuracy: 0.7493\n",
            "Epoch 15/50\n",
            "4500/4500 [==============================] - 72s 16ms/step - loss: 0.2276 - accuracy: 0.9016 - val_loss: 0.7939 - val_accuracy: 0.7469\n",
            "Epoch 16/50\n",
            "4500/4500 [==============================] - 72s 16ms/step - loss: 0.2149 - accuracy: 0.9070 - val_loss: 0.8530 - val_accuracy: 0.7448\n",
            "Epoch 17/50\n",
            "4500/4500 [==============================] - 72s 16ms/step - loss: 0.2039 - accuracy: 0.9129 - val_loss: 0.8604 - val_accuracy: 0.7405\n",
            "Epoch 18/50\n",
            "4500/4500 [==============================] - 71s 16ms/step - loss: 0.1919 - accuracy: 0.9181 - val_loss: 0.9272 - val_accuracy: 0.7433\n",
            "Epoch 19/50\n",
            "4500/4500 [==============================] - 71s 16ms/step - loss: 0.1839 - accuracy: 0.9211 - val_loss: 1.0006 - val_accuracy: 0.7413\n",
            "Epoch 20/50\n",
            "4500/4500 [==============================] - 71s 16ms/step - loss: 0.1746 - accuracy: 0.9254 - val_loss: 1.0357 - val_accuracy: 0.7402\n",
            "Epoch 21/50\n",
            "4500/4500 [==============================] - 72s 16ms/step - loss: 0.1678 - accuracy: 0.9286 - val_loss: 1.0620 - val_accuracy: 0.7390\n",
            "Epoch 22/50\n",
            "4500/4500 [==============================] - 71s 16ms/step - loss: 0.1607 - accuracy: 0.9314 - val_loss: 1.0876 - val_accuracy: 0.7307\n",
            "Epoch 23/50\n",
            "4500/4500 [==============================] - 71s 16ms/step - loss: 0.1533 - accuracy: 0.9349 - val_loss: 1.1958 - val_accuracy: 0.7382\n",
            "Epoch 24/50\n",
            "4500/4500 [==============================] - 72s 16ms/step - loss: 0.1494 - accuracy: 0.9369 - val_loss: 1.2390 - val_accuracy: 0.7342\n",
            "Epoch 25/50\n",
            "4500/4500 [==============================] - 72s 16ms/step - loss: 0.1418 - accuracy: 0.9400 - val_loss: 1.2590 - val_accuracy: 0.7326\n",
            "Epoch 26/50\n",
            "4500/4500 [==============================] - 71s 16ms/step - loss: 0.1381 - accuracy: 0.9420 - val_loss: 1.2922 - val_accuracy: 0.7377\n",
            "Epoch 27/50\n",
            "4500/4500 [==============================] - 71s 16ms/step - loss: 0.1335 - accuracy: 0.9438 - val_loss: 1.2661 - val_accuracy: 0.7362\n",
            "Epoch 28/50\n",
            "4500/4500 [==============================] - 72s 16ms/step - loss: 0.1286 - accuracy: 0.9469 - val_loss: 1.3446 - val_accuracy: 0.7312\n",
            "Epoch 29/50\n",
            "4500/4500 [==============================] - 71s 16ms/step - loss: 0.1241 - accuracy: 0.9486 - val_loss: 1.3723 - val_accuracy: 0.7308\n",
            "Epoch 30/50\n",
            "4500/4500 [==============================] - 75s 17ms/step - loss: 0.1219 - accuracy: 0.9489 - val_loss: 1.4178 - val_accuracy: 0.7311\n",
            "Epoch 31/50\n",
            "4500/4500 [==============================] - 75s 17ms/step - loss: 0.1189 - accuracy: 0.9509 - val_loss: 1.4777 - val_accuracy: 0.7286\n",
            "Epoch 32/50\n",
            "4500/4500 [==============================] - 77s 17ms/step - loss: 0.1151 - accuracy: 0.9524 - val_loss: 1.5132 - val_accuracy: 0.7300\n",
            "Epoch 33/50\n",
            "4500/4500 [==============================] - 78s 17ms/step - loss: 0.1139 - accuracy: 0.9529 - val_loss: 1.4715 - val_accuracy: 0.7285\n",
            "Epoch 34/50\n",
            "4500/4500 [==============================] - 78s 17ms/step - loss: 0.1097 - accuracy: 0.9548 - val_loss: 1.4755 - val_accuracy: 0.7316\n",
            "Epoch 35/50\n",
            "4500/4500 [==============================] - 74s 16ms/step - loss: 0.1096 - accuracy: 0.9552 - val_loss: 1.5119 - val_accuracy: 0.7267\n",
            "Epoch 36/50\n",
            "4500/4500 [==============================] - 75s 17ms/step - loss: 0.1052 - accuracy: 0.9575 - val_loss: 1.5360 - val_accuracy: 0.7306\n",
            "Epoch 37/50\n",
            "4500/4500 [==============================] - 75s 17ms/step - loss: 0.1025 - accuracy: 0.9580 - val_loss: 1.6126 - val_accuracy: 0.7252\n",
            "Epoch 38/50\n",
            "4500/4500 [==============================] - 73s 16ms/step - loss: 0.1007 - accuracy: 0.9591 - val_loss: 1.6610 - val_accuracy: 0.7316\n",
            "Epoch 39/50\n",
            "4500/4500 [==============================] - 73s 16ms/step - loss: 0.1006 - accuracy: 0.9593 - val_loss: 1.5885 - val_accuracy: 0.7296\n",
            "Epoch 40/50\n",
            "4500/4500 [==============================] - 73s 16ms/step - loss: 0.0978 - accuracy: 0.9603 - val_loss: 1.6051 - val_accuracy: 0.7287\n",
            "Epoch 41/50\n",
            "4500/4500 [==============================] - 74s 16ms/step - loss: 0.0956 - accuracy: 0.9610 - val_loss: 1.6468 - val_accuracy: 0.7296\n",
            "Epoch 42/50\n",
            "4500/4500 [==============================] - 74s 16ms/step - loss: 0.0946 - accuracy: 0.9622 - val_loss: 1.6642 - val_accuracy: 0.7294\n",
            "Epoch 43/50\n",
            "4500/4500 [==============================] - 73s 16ms/step - loss: 0.0922 - accuracy: 0.9632 - val_loss: 1.6765 - val_accuracy: 0.7302\n",
            "Epoch 44/50\n",
            "4500/4500 [==============================] - 73s 16ms/step - loss: 0.0903 - accuracy: 0.9635 - val_loss: 1.7328 - val_accuracy: 0.7287\n",
            "Epoch 45/50\n",
            "4500/4500 [==============================] - 73s 16ms/step - loss: 0.0890 - accuracy: 0.9643 - val_loss: 1.7244 - val_accuracy: 0.7311\n",
            "Epoch 46/50\n",
            "4500/4500 [==============================] - 73s 16ms/step - loss: 0.0882 - accuracy: 0.9648 - val_loss: 1.7144 - val_accuracy: 0.7283\n",
            "Epoch 47/50\n",
            "4500/4500 [==============================] - 73s 16ms/step - loss: 0.0875 - accuracy: 0.9650 - val_loss: 1.7267 - val_accuracy: 0.7264\n",
            "Epoch 48/50\n",
            "4500/4500 [==============================] - 73s 16ms/step - loss: 0.0854 - accuracy: 0.9660 - val_loss: 1.7911 - val_accuracy: 0.7286\n",
            "Epoch 49/50\n",
            "4500/4500 [==============================] - 74s 16ms/step - loss: 0.0854 - accuracy: 0.9659 - val_loss: 1.8036 - val_accuracy: 0.7255\n",
            "Epoch 50/50\n",
            "4500/4500 [==============================] - 74s 16ms/step - loss: 0.0848 - accuracy: 0.9663 - val_loss: 1.8129 - val_accuracy: 0.7279\n",
            "Training Complete\n"
          ]
        }
      ]
    },
    {
      "cell_type": "code",
      "source": [
        "#-----------------------------------------------------------\n",
        "# Retrieve a list of list results on training and test data\n",
        "# sets for each training epoch\n",
        "#-----------------------------------------------------------\n",
        "acc=history3.history['accuracy']\n",
        "val_acc=history3.history['val_accuracy']\n",
        "loss=history3.history['loss']\n",
        "val_loss=history3.history['val_loss']\n",
        "\n",
        "epochs=range(len(acc)) # Get number of epochs\n",
        "\n",
        "#------------------------------------------------\n",
        "# Plot training and validation accuracy per epoch\n",
        "#------------------------------------------------\n",
        "plt.plot(epochs, acc, 'r')\n",
        "plt.plot(epochs, val_acc, 'b')\n",
        "plt.title('Training and validation accuracy')\n",
        "plt.xlabel(\"Epochs\")\n",
        "plt.ylabel(\"Accuracy\")\n",
        "plt.legend([\"Accuracy\", \"Validation Accuracy\"])\n",
        "\n",
        "plt.figure()\n",
        "\n",
        "#------------------------------------------------\n",
        "# Plot training and validation loss per epoch\n",
        "#------------------------------------------------\n",
        "plt.plot(epochs, loss, 'r')\n",
        "plt.plot(epochs, val_loss, 'b')\n",
        "plt.title('Training and validation loss')\n",
        "plt.xlabel(\"Epochs\")\n",
        "plt.ylabel(\"Loss\")\n",
        "plt.legend([\"Loss\", \"Validation Loss\"])\n",
        "\n",
        "plt.figure()"
      ],
      "metadata": {
        "colab": {
          "base_uri": "https://localhost:8080/",
          "height": 608
        },
        "id": "K8_XNucKP4ia",
        "outputId": "8edcabf9-9869-450d-b3a1-572874ad2780"
      },
      "execution_count": 68,
      "outputs": [
        {
          "output_type": "execute_result",
          "data": {
            "text/plain": [
              "<Figure size 432x288 with 0 Axes>"
            ]
          },
          "metadata": {},
          "execution_count": 68
        },
        {
          "output_type": "display_data",
          "data": {
            "image/png": "[encoded data removed]",
            "text/plain": [
              "<Figure size 432x288 with 1 Axes>"
            ]
          },
          "metadata": {
            "needs_background": "light"
          }
        },
        {
          "output_type": "display_data",
          "data": {
            "image/png": "[encoded data removed]",
            "text/plain": [
              "<Figure size 432x288 with 1 Axes>"
            ]
          },
          "metadata": {
            "needs_background": "light"
          }
        },
        {
          "output_type": "display_data",
          "data": {
            "text/plain": [
              "<Figure size 432x288 with 0 Axes>"
            ]
          },
          "metadata": {}
        }
      ]
    },
    {
      "cell_type": "code",
      "source": [
        "model4 = tf.keras.Sequential([\n",
        "    tf.keras.layers.Embedding(vocab_size+1, embedding_dim, input_length=max_length, weights=[embeddings_matrix], trainable=False),\n",
        "                    tf.keras.layers.Bidirectional(tf.keras.layers.LSTM(64, return_sequences=True)),\n",
        "                    tf.keras.layers.Bidirectional(tf.keras.layers.LSTM(64)),\n",
        "                    tf.keras.layers.Dense(24, activation='relu'),\n",
        "                    tf.keras.layers.Dense(1, activation='sigmoid')\n",
        "    # YOUR CODE HERE - experiment with combining different types, such as convolutions and LSTMs\n",
        "])\n",
        "model4.compile(loss = 'binary_crossentropy', optimizer = 'adam', metrics = ['accuracy'])\n",
        "model4.summary()\n",
        "\n",
        "training_sequences = np.array(training_sequences)\n",
        "training_labels = np.array(training_labels)\n",
        "test_sequences = np.array(test_sequences)\n",
        "test_labels = np.array(test_labels)\n",
        "\n",
        "num_epochs = 50\n",
        "history4 = model4.fit(training_sequences, training_labels, epochs=num_epochs, validation_data=(test_sequences, test_labels), verbose=1)\n",
        "\n",
        "print(\"Training Complete\")"
      ],
      "metadata": {
        "colab": {
          "base_uri": "https://localhost:8080/"
        },
        "id": "mTQyjTSCRc8Y",
        "outputId": "50d582bb-755b-4a59-acfd-a8a0f05527fb"
      },
      "execution_count": null,
      "outputs": [
        {
          "output_type": "stream",
          "name": "stdout",
          "text": [
            "Model: \"sequential_11\"\n",
            "_________________________________________________________________\n",
            " Layer (type)                Output Shape              Param #   \n",
            "=================================================================\n",
            " embedding_11 (Embedding)    (None, 16, 100)           13793900  \n",
            "                                                                 \n",
            " bidirectional_1 (Bidirectio  (None, 16, 128)          84480     \n",
            " nal)                                                            \n",
            "                                                                 \n",
            " bidirectional_2 (Bidirectio  (None, 128)              98816     \n",
            " nal)                                                            \n",
            "                                                                 \n",
            " dense_22 (Dense)            (None, 24)                3096      \n",
            "                                                                 \n",
            " dense_23 (Dense)            (None, 1)                 25        \n",
            "                                                                 \n",
            "=================================================================\n",
            "Total params: 13,980,317\n",
            "Trainable params: 186,417\n",
            "Non-trainable params: 13,793,900\n",
            "_________________________________________________________________\n",
            "Epoch 1/50\n",
            "4500/4500 [==============================] - 163s 35ms/step - loss: 0.5303 - accuracy: 0.7307 - val_loss: 0.4963 - val_accuracy: 0.7565\n",
            "Epoch 2/50\n",
            "4500/4500 [==============================] - 155s 34ms/step - loss: 0.4757 - accuracy: 0.7705 - val_loss: 0.4800 - val_accuracy: 0.7699\n",
            "Epoch 3/50\n",
            "4500/4500 [==============================] - 156s 35ms/step - loss: 0.4495 - accuracy: 0.7871 - val_loss: 0.4724 - val_accuracy: 0.7741\n",
            "Epoch 4/50\n",
            "4500/4500 [==============================] - 156s 35ms/step - loss: 0.4273 - accuracy: 0.8002 - val_loss: 0.4679 - val_accuracy: 0.7779\n",
            "Epoch 5/50\n",
            "4500/4500 [==============================] - 155s 34ms/step - loss: 0.4047 - accuracy: 0.8127 - val_loss: 0.4673 - val_accuracy: 0.7783\n",
            "Epoch 6/50\n",
            "4500/4500 [==============================] - 154s 34ms/step - loss: 0.3800 - accuracy: 0.8264 - val_loss: 0.4875 - val_accuracy: 0.7751\n",
            "Epoch 7/50\n",
            "4500/4500 [==============================] - 154s 34ms/step - loss: 0.3526 - accuracy: 0.8412 - val_loss: 0.4991 - val_accuracy: 0.7729\n",
            "Epoch 8/50\n",
            "4500/4500 [==============================] - 155s 34ms/step - loss: 0.3213 - accuracy: 0.8580 - val_loss: 0.5567 - val_accuracy: 0.7686\n",
            "Epoch 9/50\n",
            "4500/4500 [==============================] - 156s 35ms/step - loss: 0.2893 - accuracy: 0.8725 - val_loss: 0.5966 - val_accuracy: 0.7641\n",
            "Epoch 10/50\n",
            "4500/4500 [==============================] - 158s 35ms/step - loss: 0.2574 - accuracy: 0.8891 - val_loss: 0.6373 - val_accuracy: 0.7570\n",
            "Epoch 11/50\n",
            "4500/4500 [==============================] - 158s 35ms/step - loss: 0.2272 - accuracy: 0.9034 - val_loss: 0.7071 - val_accuracy: 0.7552\n",
            "Epoch 12/50\n",
            "4500/4500 [==============================] - 158s 35ms/step - loss: 0.2013 - accuracy: 0.9145 - val_loss: 0.8021 - val_accuracy: 0.7561\n",
            "Epoch 13/50\n",
            "4500/4500 [==============================] - 167s 37ms/step - loss: 0.1812 - accuracy: 0.9236 - val_loss: 0.8632 - val_accuracy: 0.7486\n",
            "Epoch 14/50\n",
            "4500/4500 [==============================] - 159s 35ms/step - loss: 0.1610 - accuracy: 0.9328 - val_loss: 0.9897 - val_accuracy: 0.7481\n",
            "Epoch 15/50\n",
            "4500/4500 [==============================] - 158s 35ms/step - loss: 0.1468 - accuracy: 0.9392 - val_loss: 1.0549 - val_accuracy: 0.7430\n",
            "Epoch 16/50\n",
            "4500/4500 [==============================] - 158s 35ms/step - loss: 0.1321 - accuracy: 0.9454 - val_loss: 1.1219 - val_accuracy: 0.7418\n",
            "Epoch 17/50\n",
            "4500/4500 [==============================] - 158s 35ms/step - loss: 0.1221 - accuracy: 0.9506 - val_loss: 1.1724 - val_accuracy: 0.7411\n",
            "Epoch 18/50\n",
            "4500/4500 [==============================] - 158s 35ms/step - loss: 0.1127 - accuracy: 0.9544 - val_loss: 1.2632 - val_accuracy: 0.7405\n",
            "Epoch 19/50\n",
            "4500/4500 [==============================] - 157s 35ms/step - loss: 0.1062 - accuracy: 0.9579 - val_loss: 1.2748 - val_accuracy: 0.7444\n",
            "Epoch 20/50\n",
            "4500/4500 [==============================] - 156s 35ms/step - loss: 0.0971 - accuracy: 0.9613 - val_loss: 1.3266 - val_accuracy: 0.7446\n",
            "Epoch 21/50\n",
            "4500/4500 [==============================] - 155s 34ms/step - loss: 0.0946 - accuracy: 0.9631 - val_loss: 1.3445 - val_accuracy: 0.7393\n",
            "Epoch 22/50\n",
            "4500/4500 [==============================] - 155s 35ms/step - loss: 0.0894 - accuracy: 0.9643 - val_loss: 1.3695 - val_accuracy: 0.7358\n",
            "Epoch 23/50\n",
            "4500/4500 [==============================] - 154s 34ms/step - loss: 0.0853 - accuracy: 0.9666 - val_loss: 1.4297 - val_accuracy: 0.7411\n",
            "Epoch 24/50\n",
            "4500/4500 [==============================] - 155s 34ms/step - loss: 0.0817 - accuracy: 0.9683 - val_loss: 1.4177 - val_accuracy: 0.7349\n",
            "Epoch 25/50\n",
            "4500/4500 [==============================] - 154s 34ms/step - loss: 0.0798 - accuracy: 0.9691 - val_loss: 1.4094 - val_accuracy: 0.7396\n",
            "Epoch 26/50\n",
            "4500/4500 [==============================] - 156s 35ms/step - loss: 0.0749 - accuracy: 0.9708 - val_loss: 1.5251 - val_accuracy: 0.7349\n",
            "Epoch 27/50\n",
            "4500/4500 [==============================] - 159s 35ms/step - loss: 0.0730 - accuracy: 0.9715 - val_loss: 1.5538 - val_accuracy: 0.7406\n",
            "Epoch 28/50\n",
            "4500/4500 [==============================] - 158s 35ms/step - loss: 0.0709 - accuracy: 0.9733 - val_loss: 1.5266 - val_accuracy: 0.7325\n",
            "Epoch 29/50\n",
            "4500/4500 [==============================] - 157s 35ms/step - loss: 0.0699 - accuracy: 0.9731 - val_loss: 1.5147 - val_accuracy: 0.7399\n",
            "Epoch 30/50\n",
            "4500/4500 [==============================] - 157s 35ms/step - loss: 0.0679 - accuracy: 0.9739 - val_loss: 1.5571 - val_accuracy: 0.7454\n",
            "Epoch 31/50\n",
            "4500/4500 [==============================] - 157s 35ms/step - loss: 0.0648 - accuracy: 0.9749 - val_loss: 1.6180 - val_accuracy: 0.7371\n",
            "Epoch 32/50\n",
            "4500/4500 [==============================] - 157s 35ms/step - loss: 0.0649 - accuracy: 0.9749 - val_loss: 1.5582 - val_accuracy: 0.7366\n",
            "Epoch 33/50\n",
            "4500/4500 [==============================] - 157s 35ms/step - loss: 0.0628 - accuracy: 0.9761 - val_loss: 1.5808 - val_accuracy: 0.7318\n",
            "Epoch 34/50\n",
            "4500/4500 [==============================] - 157s 35ms/step - loss: 0.0608 - accuracy: 0.9765 - val_loss: 1.6478 - val_accuracy: 0.7408\n",
            "Epoch 35/50\n",
            "4500/4500 [==============================] - 157s 35ms/step - loss: 0.0598 - accuracy: 0.9769 - val_loss: 1.5896 - val_accuracy: 0.7406\n",
            "Epoch 36/50\n",
            "4500/4500 [==============================] - 156s 35ms/step - loss: 0.0602 - accuracy: 0.9773 - val_loss: 1.5846 - val_accuracy: 0.7387\n",
            "Epoch 37/50\n",
            "4500/4500 [==============================] - 155s 34ms/step - loss: 0.0580 - accuracy: 0.9778 - val_loss: 1.7018 - val_accuracy: 0.7419\n",
            "Epoch 38/50\n",
            "4500/4500 [==============================] - 157s 35ms/step - loss: 0.0574 - accuracy: 0.9779 - val_loss: 1.6209 - val_accuracy: 0.7391\n",
            "Epoch 39/50\n",
            "4500/4500 [==============================] - 157s 35ms/step - loss: 0.0554 - accuracy: 0.9788 - val_loss: 1.6598 - val_accuracy: 0.7372\n",
            "Epoch 40/50\n",
            "4500/4500 [==============================] - 157s 35ms/step - loss: 0.0564 - accuracy: 0.9783 - val_loss: 1.6427 - val_accuracy: 0.7391\n",
            "Epoch 41/50\n",
            "4500/4500 [==============================] - 157s 35ms/step - loss: 0.0553 - accuracy: 0.9791 - val_loss: 1.6588 - val_accuracy: 0.7399\n",
            "Epoch 42/50\n",
            "4500/4500 [==============================] - 158s 35ms/step - loss: 0.0541 - accuracy: 0.9792 - val_loss: 1.6890 - val_accuracy: 0.7371\n",
            "Epoch 43/50\n",
            "4500/4500 [==============================] - 157s 35ms/step - loss: 0.0534 - accuracy: 0.9796 - val_loss: 1.6536 - val_accuracy: 0.7337\n",
            "Epoch 44/50\n",
            "4500/4500 [==============================] - 157s 35ms/step - loss: 0.0535 - accuracy: 0.9793 - val_loss: 1.6536 - val_accuracy: 0.7413\n",
            "Epoch 45/50\n",
            " 905/4500 [=====>........................] - ETA: 2:01 - loss: 0.0396 - accuracy: 0.9857"
          ]
        }
      ]
    },
    {
      "cell_type": "code",
      "source": [
        "#-----------------------------------------------------------\n",
        "# Retrieve a list of list results on training and test data\n",
        "# sets for each training epoch\n",
        "#-----------------------------------------------------------\n",
        "acc=history4.history['accuracy']\n",
        "val_acc=history4.history['val_accuracy']\n",
        "loss=history4.history['loss']\n",
        "val_loss=history4.history['val_loss']\n",
        "\n",
        "epochs=range(len(acc)) # Get number of epochs\n",
        "\n",
        "#------------------------------------------------\n",
        "# Plot training and validation accuracy per epoch\n",
        "#------------------------------------------------\n",
        "plt.plot(epochs, acc, 'r')\n",
        "plt.plot(epochs, val_acc, 'b')\n",
        "plt.title('Training and validation accuracy')\n",
        "plt.xlabel(\"Epochs\")\n",
        "plt.ylabel(\"Accuracy\")\n",
        "plt.legend([\"Accuracy\", \"Validation Accuracy\"])\n",
        "\n",
        "plt.figure()\n",
        "\n",
        "#------------------------------------------------\n",
        "# Plot training and validation loss per epoch\n",
        "#------------------------------------------------\n",
        "plt.plot(epochs, loss, 'r')\n",
        "plt.plot(epochs, val_loss, 'b')\n",
        "plt.title('Training and validation loss')\n",
        "plt.xlabel(\"Epochs\")\n",
        "plt.ylabel(\"Loss\")\n",
        "plt.legend([\"Loss\", \"Validation Loss\"])\n",
        "\n",
        "plt.figure()"
      ],
      "metadata": {
        "id": "UdHpGWlVRc_P"
      },
      "execution_count": null,
      "outputs": []
    },
    {
      "cell_type": "code",
      "source": [
        "#  %notebook \"C:\\Users\\jingc\\Downloads\\Copy of C3_W3_Assignment.ipynb\"  # download the notebook to local machine after it finished model fitting"
      ],
      "metadata": {
        "id": "A91ZlaE_SHmX"
      },
      "execution_count": null,
      "outputs": []
    },
    {
      "cell_type": "code",
      "source": [
        ""
      ],
      "metadata": {
        "id": "t4MVIdJny79t"
      },
      "execution_count": null,
      "outputs": []
    }
  ],
  "metadata": {
    "accelerator": "GPU",
    "colab": {
      "name": "Copy of C3_W3_Assignment.ipynb",
      "provenance": [],
      "collapsed_sections": []
    },
    "kernelspec": {
      "display_name": "Python 3",
      "language": "python",
      "name": "python3"
    },
    "language_info": {
      "codemirror_mode": {
        "name": "ipython",
        "version": 3
      },
      "file_extension": ".py",
      "mimetype": "text/x-python",
      "name": "python",
      "nbconvert_exporter": "python",
      "pygments_lexer": "ipython3",
      "version": "3.7.4"
    }
  },
  "nbformat": 4,
  "nbformat_minor": 0
}