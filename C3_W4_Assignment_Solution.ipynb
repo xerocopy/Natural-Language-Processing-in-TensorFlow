{
  "nbformat": 4,
  "nbformat_minor": 0,
  "metadata": {
    "accelerator": "GPU",
    "colab": {
      "name": "Copy of C3_W4_Assignment_Solution.ipynb",
      "provenance": [],
      "collapsed_sections": [],
      "toc_visible": true
    },
    "kernelspec": {
      "name": "python3",
      "display_name": "Python 3"
    },
    "language_info": {
      "name": "python"
    }
  },
  "cells": [
    {
      "cell_type": "code",
      "metadata": {
        "id": "zX4Kg8DUTKWO"
      },
      "source": [
        "#@title Licensed under the Apache License, Version 2.0 (the \"License\");\n",
        "# you may not use this file except in compliance with the License.\n",
        "# You may obtain a copy of the License at\n",
        "#\n",
        "# https://www.apache.org/licenses/LICENSE-2.0\n",
        "#\n",
        "# Unless required by applicable law or agreed to in writing, software\n",
        "# distributed under the License is distributed on an \"AS IS\" BASIS,\n",
        "# WITHOUT WARRANTIES OR CONDITIONS OF ANY KIND, either express or implied.\n",
        "# See the License for the specific language governing permissions and\n",
        "# limitations under the License."
      ],
      "execution_count": null,
      "outputs": []
    },
    {
      "cell_type": "markdown",
      "metadata": {
        "id": "NeQByOlMmtn8"
      },
      "source": [
        "**Note:** This notebook can run using TensorFlow 2.5.0"
      ]
    },
    {
      "cell_type": "code",
      "metadata": {
        "id": "QtWdoQT_mtn8"
      },
      "source": [
        "#!pip install tensorflow==2.5.0"
      ],
      "execution_count": null,
      "outputs": []
    },
    {
      "cell_type": "code",
      "metadata": {
        "id": "BOwsuGQQY9OL"
      },
      "source": [
        "from tensorflow.keras.preprocessing.sequence import pad_sequences\n",
        "from tensorflow.keras.layers import Embedding, LSTM, Dense, Dropout, Bidirectional\n",
        "from tensorflow.keras.preprocessing.text import Tokenizer\n",
        "from tensorflow.keras.models import Sequential\n",
        "from tensorflow.keras.optimizers import Adam\n",
        "from tensorflow.keras import regularizers\n",
        "import tensorflow.keras.utils as ku \n",
        "import numpy as np "
      ],
      "execution_count": 1,
      "outputs": []
    },
    {
      "cell_type": "code",
      "metadata": {
        "id": "PRnDnCW-Z7qv",
        "colab": {
          "base_uri": "https://localhost:8080/"
        },
        "outputId": "0fca0a51-afaa-489d-ca92-360dd1e280fc"
      },
      "source": [
        "tokenizer = Tokenizer()\n",
        "\n",
        "# sonnets.txt\n",
        "!gdown --id 108jAePKK4R3BVYBbYJZ32JWUwxeMg20K\n",
        "\n",
        "data = open('./sonnets.txt').read()\n",
        "\n",
        "corpus = data.lower().split(\"\\n\")\n",
        "\n",
        "\n",
        "tokenizer.fit_on_texts(corpus)\n",
        "total_words = len(tokenizer.word_index) + 1\n",
        "\n",
        "# create input sequences using list of tokens\n",
        "input_sequences = []\n",
        "for line in corpus:\n",
        "\ttoken_list = tokenizer.texts_to_sequences([line])[0]\n",
        "\tfor i in range(1, len(token_list)):\n",
        "\t\tn_gram_sequence = token_list[:i+1]\n",
        "\t\tinput_sequences.append(n_gram_sequence)\n",
        "\n",
        "\n",
        "# pad sequences \n",
        "max_sequence_len = max([len(x) for x in input_sequences])\n",
        "input_sequences = np.array(pad_sequences(input_sequences, maxlen=max_sequence_len, padding='pre'))\n",
        "\n",
        "# create predictors and label\n",
        "predictors, label = input_sequences[:,:-1],input_sequences[:,-1]\n",
        "\n",
        "label = ku.to_categorical(label, num_classes=total_words)"
      ],
      "execution_count": 2,
      "outputs": [
        {
          "output_type": "stream",
          "name": "stdout",
          "text": [
            "Downloading...\n",
            "From: https://drive.google.com/uc?id=108jAePKK4R3BVYBbYJZ32JWUwxeMg20K\n",
            "To: /content/sonnets.txt\n",
            "\r  0% 0.00/93.6k [00:00<?, ?B/s]\r100% 93.6k/93.6k [00:00<00:00, 52.2MB/s]\n"
          ]
        }
      ]
    },
    {
      "cell_type": "code",
      "metadata": {
        "id": "w9vH8Y59ajYL",
        "colab": {
          "base_uri": "https://localhost:8080/"
        },
        "outputId": "980304fa-b7be-4816-b729-69c98da94c64"
      },
      "source": [
        "### START CODE HERE\n",
        "model = Sequential()\n",
        "model.add(Embedding(total_words, 100, input_length=max_sequence_len-1))# Your Embedding Layer)\n",
        "model.add(Bidirectional(LSTM(150, return_sequences = True)))# An LSTM Layer)\n",
        "model.add(Dropout(0.2))# A dropout layer)\n",
        "model.add(LSTM(100))# Another LSTM Layer)\n",
        "model.add(Dense(total_words/2, activation='relu', kernel_regularizer=regularizers.l2(0.01)))# A Dense Layer including regularizers)\n",
        "model.add(Dense(total_words, activation='softmax'))# A Dense Layer)\n",
        "# Pick an optimizer\n",
        "model.compile(loss='categorical_crossentropy', optimizer='adam', metrics=['accuracy'])# Pick a loss function and an optimizer)\n",
        "### END CODE HERE\n",
        "\n",
        "print(model.summary())"
      ],
      "execution_count": 3,
      "outputs": [
        {
          "output_type": "stream",
          "name": "stdout",
          "text": [
            "Model: \"sequential\"\n",
            "_________________________________________________________________\n",
            " Layer (type)                Output Shape              Param #   \n",
            "=================================================================\n",
            " embedding (Embedding)       (None, 10, 100)           321100    \n",
            "                                                                 \n",
            " bidirectional (Bidirectiona  (None, 10, 300)          301200    \n",
            " l)                                                              \n",
            "                                                                 \n",
            " dropout (Dropout)           (None, 10, 300)           0         \n",
            "                                                                 \n",
            " lstm_1 (LSTM)               (None, 100)               160400    \n",
            "                                                                 \n",
            " dense (Dense)               (None, 1605)              162105    \n",
            "                                                                 \n",
            " dense_1 (Dense)             (None, 3211)              5156866   \n",
            "                                                                 \n",
            "=================================================================\n",
            "Total params: 6,101,671\n",
            "Trainable params: 6,101,671\n",
            "Non-trainable params: 0\n",
            "_________________________________________________________________\n",
            "None\n"
          ]
        }
      ]
    },
    {
      "cell_type": "code",
      "metadata": {
        "id": "AIg2f1HBxqof",
        "colab": {
          "base_uri": "https://localhost:8080/"
        },
        "outputId": "9602d9e5-fc1e-4ff4-b4bf-7a58fc393357"
      },
      "source": [
        " history = model.fit(predictors, label, epochs=100, verbose=1)"
      ],
      "execution_count": 4,
      "outputs": [
        {
          "output_type": "stream",
          "name": "stdout",
          "text": [
            "Epoch 1/100\n",
            "484/484 [==============================] - 72s 133ms/step - loss: 6.9089 - accuracy: 0.0227\n",
            "Epoch 2/100\n",
            "484/484 [==============================] - 53s 109ms/step - loss: 6.5042 - accuracy: 0.0236\n",
            "Epoch 3/100\n",
            "484/484 [==============================] - 52s 107ms/step - loss: 6.4103 - accuracy: 0.0259\n",
            "Epoch 4/100\n",
            "484/484 [==============================] - 52s 107ms/step - loss: 6.2999 - accuracy: 0.0312\n",
            "Epoch 5/100\n",
            "484/484 [==============================] - 53s 108ms/step - loss: 6.1983 - accuracy: 0.0365\n",
            "Epoch 6/100\n",
            "484/484 [==============================] - 52s 107ms/step - loss: 6.1062 - accuracy: 0.0389\n",
            "Epoch 7/100\n",
            "484/484 [==============================] - 52s 107ms/step - loss: 6.0316 - accuracy: 0.0402\n",
            "Epoch 8/100\n",
            "484/484 [==============================] - 52s 107ms/step - loss: 5.9500 - accuracy: 0.0465\n",
            "Epoch 9/100\n",
            "484/484 [==============================] - 52s 107ms/step - loss: 5.8554 - accuracy: 0.0494\n",
            "Epoch 10/100\n",
            "484/484 [==============================] - 52s 107ms/step - loss: 5.7572 - accuracy: 0.0547\n",
            "Epoch 11/100\n",
            "484/484 [==============================] - 52s 108ms/step - loss: 5.6529 - accuracy: 0.0603\n",
            "Epoch 12/100\n",
            "484/484 [==============================] - 52s 108ms/step - loss: 5.5472 - accuracy: 0.0655\n",
            "Epoch 13/100\n",
            "484/484 [==============================] - 53s 109ms/step - loss: 5.4327 - accuracy: 0.0714\n",
            "Epoch 14/100\n",
            "484/484 [==============================] - 53s 109ms/step - loss: 5.3218 - accuracy: 0.0772\n",
            "Epoch 15/100\n",
            "484/484 [==============================] - 53s 109ms/step - loss: 5.2167 - accuracy: 0.0877\n",
            "Epoch 16/100\n",
            "484/484 [==============================] - 53s 109ms/step - loss: 5.1068 - accuracy: 0.0946\n",
            "Epoch 17/100\n",
            "484/484 [==============================] - 53s 110ms/step - loss: 4.9978 - accuracy: 0.1017\n",
            "Epoch 18/100\n",
            "484/484 [==============================] - 53s 110ms/step - loss: 4.9021 - accuracy: 0.1105\n",
            "Epoch 19/100\n",
            "484/484 [==============================] - 53s 110ms/step - loss: 4.7933 - accuracy: 0.1174\n",
            "Epoch 20/100\n",
            "484/484 [==============================] - 53s 110ms/step - loss: 4.6871 - accuracy: 0.1261\n",
            "Epoch 21/100\n",
            "484/484 [==============================] - 53s 109ms/step - loss: 4.5871 - accuracy: 0.1378\n",
            "Epoch 22/100\n",
            "484/484 [==============================] - 53s 109ms/step - loss: 4.4737 - accuracy: 0.1472\n",
            "Epoch 23/100\n",
            "484/484 [==============================] - 53s 109ms/step - loss: 4.3763 - accuracy: 0.1573\n",
            "Epoch 24/100\n",
            "484/484 [==============================] - 53s 110ms/step - loss: 4.2719 - accuracy: 0.1691\n",
            "Epoch 25/100\n",
            "484/484 [==============================] - 53s 110ms/step - loss: 4.1655 - accuracy: 0.1825\n",
            "Epoch 26/100\n",
            "484/484 [==============================] - 53s 110ms/step - loss: 4.0636 - accuracy: 0.1984\n",
            "Epoch 27/100\n",
            "484/484 [==============================] - 53s 110ms/step - loss: 3.9652 - accuracy: 0.2109\n",
            "Epoch 28/100\n",
            "484/484 [==============================] - 53s 110ms/step - loss: 3.8710 - accuracy: 0.2261\n",
            "Epoch 29/100\n",
            "484/484 [==============================] - 53s 110ms/step - loss: 3.7688 - accuracy: 0.2440\n",
            "Epoch 30/100\n",
            "484/484 [==============================] - 53s 110ms/step - loss: 3.6696 - accuracy: 0.2595\n",
            "Epoch 31/100\n",
            "484/484 [==============================] - 53s 109ms/step - loss: 3.5717 - accuracy: 0.2850\n",
            "Epoch 32/100\n",
            "484/484 [==============================] - 53s 109ms/step - loss: 3.4751 - accuracy: 0.3066\n",
            "Epoch 33/100\n",
            "484/484 [==============================] - 53s 109ms/step - loss: 3.3844 - accuracy: 0.3282\n",
            "Epoch 34/100\n",
            "484/484 [==============================] - 53s 108ms/step - loss: 3.3050 - accuracy: 0.3426\n",
            "Epoch 35/100\n",
            "484/484 [==============================] - 52s 108ms/step - loss: 3.2247 - accuracy: 0.3634\n",
            "Epoch 36/100\n",
            "484/484 [==============================] - 52s 108ms/step - loss: 3.1493 - accuracy: 0.3786\n",
            "Epoch 37/100\n",
            "484/484 [==============================] - 52s 108ms/step - loss: 3.0655 - accuracy: 0.3974\n",
            "Epoch 38/100\n",
            "484/484 [==============================] - 52s 108ms/step - loss: 2.9871 - accuracy: 0.4161\n",
            "Epoch 39/100\n",
            "484/484 [==============================] - 52s 108ms/step - loss: 2.9189 - accuracy: 0.4293\n",
            "Epoch 40/100\n",
            "484/484 [==============================] - 53s 110ms/step - loss: 2.8411 - accuracy: 0.4511\n",
            "Epoch 41/100\n",
            "484/484 [==============================] - 53s 109ms/step - loss: 2.7775 - accuracy: 0.4661\n",
            "Epoch 42/100\n",
            "484/484 [==============================] - 53s 109ms/step - loss: 2.7137 - accuracy: 0.4769\n",
            "Epoch 43/100\n",
            "484/484 [==============================] - 53s 109ms/step - loss: 2.6578 - accuracy: 0.4928\n",
            "Epoch 44/100\n",
            "484/484 [==============================] - 53s 109ms/step - loss: 2.5917 - accuracy: 0.5072\n",
            "Epoch 45/100\n",
            "484/484 [==============================] - 53s 109ms/step - loss: 2.5280 - accuracy: 0.5176\n",
            "Epoch 46/100\n",
            "484/484 [==============================] - 53s 109ms/step - loss: 2.4730 - accuracy: 0.5322\n",
            "Epoch 47/100\n",
            "484/484 [==============================] - 53s 109ms/step - loss: 2.4137 - accuracy: 0.5441\n",
            "Epoch 48/100\n",
            "484/484 [==============================] - 53s 109ms/step - loss: 2.3671 - accuracy: 0.5543\n",
            "Epoch 49/100\n",
            "484/484 [==============================] - 53s 110ms/step - loss: 2.3132 - accuracy: 0.5633\n",
            "Epoch 50/100\n",
            "484/484 [==============================] - 53s 109ms/step - loss: 2.2589 - accuracy: 0.5792\n",
            "Epoch 51/100\n",
            "484/484 [==============================] - 53s 109ms/step - loss: 2.2204 - accuracy: 0.5877\n",
            "Epoch 52/100\n",
            "484/484 [==============================] - 53s 109ms/step - loss: 2.1719 - accuracy: 0.5958\n",
            "Epoch 53/100\n",
            "484/484 [==============================] - 53s 110ms/step - loss: 2.1388 - accuracy: 0.6055\n",
            "Epoch 54/100\n",
            "484/484 [==============================] - 53s 109ms/step - loss: 2.0852 - accuracy: 0.6185\n",
            "Epoch 55/100\n",
            "484/484 [==============================] - 53s 110ms/step - loss: 2.0553 - accuracy: 0.6233\n",
            "Epoch 56/100\n",
            "484/484 [==============================] - 53s 110ms/step - loss: 2.0104 - accuracy: 0.6303\n",
            "Epoch 57/100\n",
            "484/484 [==============================] - 53s 110ms/step - loss: 1.9543 - accuracy: 0.6448\n",
            "Epoch 58/100\n",
            "484/484 [==============================] - 53s 110ms/step - loss: 1.9289 - accuracy: 0.6502\n",
            "Epoch 59/100\n",
            "484/484 [==============================] - 53s 110ms/step - loss: 1.8924 - accuracy: 0.6560\n",
            "Epoch 60/100\n",
            "484/484 [==============================] - 53s 110ms/step - loss: 1.8697 - accuracy: 0.6622\n",
            "Epoch 61/100\n",
            "484/484 [==============================] - 53s 109ms/step - loss: 1.8276 - accuracy: 0.6735\n",
            "Epoch 62/100\n",
            "484/484 [==============================] - 53s 109ms/step - loss: 1.7904 - accuracy: 0.6808\n",
            "Epoch 63/100\n",
            "484/484 [==============================] - 53s 109ms/step - loss: 1.7668 - accuracy: 0.6837\n",
            "Epoch 64/100\n",
            "484/484 [==============================] - 53s 110ms/step - loss: 1.7467 - accuracy: 0.6896\n",
            "Epoch 65/100\n",
            "484/484 [==============================] - 53s 109ms/step - loss: 1.7088 - accuracy: 0.6956\n",
            "Epoch 66/100\n",
            "484/484 [==============================] - 53s 110ms/step - loss: 1.6724 - accuracy: 0.7026\n",
            "Epoch 67/100\n",
            "484/484 [==============================] - 53s 110ms/step - loss: 1.6484 - accuracy: 0.7095\n",
            "Epoch 68/100\n",
            "484/484 [==============================] - 53s 110ms/step - loss: 1.6273 - accuracy: 0.7120\n",
            "Epoch 69/100\n",
            "484/484 [==============================] - 53s 109ms/step - loss: 1.6088 - accuracy: 0.7170\n",
            "Epoch 70/100\n",
            "484/484 [==============================] - 53s 109ms/step - loss: 1.5725 - accuracy: 0.7239\n",
            "Epoch 71/100\n",
            "484/484 [==============================] - 53s 110ms/step - loss: 1.5477 - accuracy: 0.7310\n",
            "Epoch 72/100\n",
            "484/484 [==============================] - 53s 110ms/step - loss: 1.5314 - accuracy: 0.7328\n",
            "Epoch 73/100\n",
            "484/484 [==============================] - 53s 110ms/step - loss: 1.5147 - accuracy: 0.7329\n",
            "Epoch 74/100\n",
            "484/484 [==============================] - 53s 109ms/step - loss: 1.4858 - accuracy: 0.7425\n",
            "Epoch 75/100\n",
            "484/484 [==============================] - 53s 109ms/step - loss: 1.4626 - accuracy: 0.7480\n",
            "Epoch 76/100\n",
            "484/484 [==============================] - 53s 109ms/step - loss: 1.4476 - accuracy: 0.7496\n",
            "Epoch 77/100\n",
            "484/484 [==============================] - 52s 108ms/step - loss: 1.4431 - accuracy: 0.7513\n",
            "Epoch 78/100\n",
            "484/484 [==============================] - 52s 108ms/step - loss: 1.4172 - accuracy: 0.7550\n",
            "Epoch 79/100\n",
            "484/484 [==============================] - 52s 108ms/step - loss: 1.3941 - accuracy: 0.7624\n",
            "Epoch 80/100\n",
            "484/484 [==============================] - 53s 109ms/step - loss: 1.3730 - accuracy: 0.7619\n",
            "Epoch 81/100\n",
            "484/484 [==============================] - 52s 108ms/step - loss: 1.3514 - accuracy: 0.7696\n",
            "Epoch 82/100\n",
            "484/484 [==============================] - 53s 109ms/step - loss: 1.3439 - accuracy: 0.7655\n",
            "Epoch 83/100\n",
            "484/484 [==============================] - 52s 108ms/step - loss: 1.3370 - accuracy: 0.7688\n",
            "Epoch 84/100\n",
            "484/484 [==============================] - 52s 108ms/step - loss: 1.3350 - accuracy: 0.7656\n",
            "Epoch 85/100\n",
            "484/484 [==============================] - 52s 108ms/step - loss: 1.2974 - accuracy: 0.7795\n",
            "Epoch 86/100\n",
            "484/484 [==============================] - 52s 108ms/step - loss: 1.2837 - accuracy: 0.7775\n",
            "Epoch 87/100\n",
            "484/484 [==============================] - 52s 108ms/step - loss: 1.2656 - accuracy: 0.7854\n",
            "Epoch 88/100\n",
            "484/484 [==============================] - 53s 109ms/step - loss: 1.2588 - accuracy: 0.7834\n",
            "Epoch 89/100\n",
            "484/484 [==============================] - 52s 108ms/step - loss: 1.2352 - accuracy: 0.7873\n",
            "Epoch 90/100\n",
            "484/484 [==============================] - 53s 109ms/step - loss: 1.2345 - accuracy: 0.7864\n",
            "Epoch 91/100\n",
            "484/484 [==============================] - 53s 109ms/step - loss: 1.2321 - accuracy: 0.7852\n",
            "Epoch 92/100\n",
            "484/484 [==============================] - 53s 109ms/step - loss: 1.2115 - accuracy: 0.7904\n",
            "Epoch 93/100\n",
            "484/484 [==============================] - 53s 109ms/step - loss: 1.1921 - accuracy: 0.7909\n",
            "Epoch 94/100\n",
            "484/484 [==============================] - 53s 109ms/step - loss: 1.1839 - accuracy: 0.7942\n",
            "Epoch 95/100\n",
            "484/484 [==============================] - 53s 109ms/step - loss: 1.1828 - accuracy: 0.7960\n",
            "Epoch 96/100\n",
            "484/484 [==============================] - 53s 109ms/step - loss: 1.1726 - accuracy: 0.7965\n",
            "Epoch 97/100\n",
            "484/484 [==============================] - 53s 109ms/step - loss: 1.1573 - accuracy: 0.7981\n",
            "Epoch 98/100\n",
            "484/484 [==============================] - 53s 109ms/step - loss: 1.1416 - accuracy: 0.8049\n",
            "Epoch 99/100\n",
            "484/484 [==============================] - 52s 108ms/step - loss: 1.1286 - accuracy: 0.8051\n",
            "Epoch 100/100\n",
            "484/484 [==============================] - 53s 109ms/step - loss: 1.1263 - accuracy: 0.8058\n"
          ]
        }
      ]
    },
    {
      "cell_type": "code",
      "metadata": {
        "id": "1fXTEO3GJ282",
        "colab": {
          "base_uri": "https://localhost:8080/",
          "height": 545
        },
        "outputId": "00d3cd3f-5274-414b-9efe-4aff9a47ee4b"
      },
      "source": [
        "import matplotlib.pyplot as plt\n",
        "acc = history.history['accuracy']\n",
        "loss = history.history['loss']\n",
        "\n",
        "epochs = range(len(acc))\n",
        "\n",
        "plt.plot(epochs, acc, 'b', label='Training accuracy')\n",
        "plt.title('Training accuracy')\n",
        "\n",
        "plt.figure()\n",
        "\n",
        "plt.plot(epochs, loss, 'b', label='Training Loss')\n",
        "plt.title('Training loss')\n",
        "plt.legend()\n",
        "\n",
        "plt.show()"
      ],
      "execution_count": 5,
      "outputs": [
        {
          "output_type": "display_data",
          "data": {
            "image/png": "[encoded data removed]",
            "text/plain": [
              "<Figure size 432x288 with 1 Axes>"
            ]
          },
          "metadata": {
            "needs_background": "light"
          }
        },
        {
          "output_type": "display_data",
          "data": {
            "image/png": "[encoded data removed]",
            "text/plain": [
              "<Figure size 432x288 with 1 Axes>"
            ]
          },
          "metadata": {
            "needs_background": "light"
          }
        }
      ]
    },
    {
      "cell_type": "code",
      "metadata": {
        "id": "6Vc6PHgxa6Hm",
        "colab": {
          "base_uri": "https://localhost:8080/"
        },
        "outputId": "7b12d902-174a-42d9-9552-6184d278eab3"
      },
      "source": [
        "seed_text = \"Help me Obi Wan Kenobi, you're my only hope\"\n",
        "next_words = 100\n",
        "  \n",
        "for _ in range(next_words):\n",
        "\ttoken_list = tokenizer.texts_to_sequences([seed_text])[0]\n",
        "\ttoken_list = pad_sequences([token_list], maxlen=max_sequence_len-1, padding='pre')\n",
        "\t#predicted = model.predict_classes(token_list, verbose=0)\n",
        "\tpredicted = np.argmax(model.predict(token_list),axis=1)\n",
        "  \n",
        "\toutput_word = \"\"\n",
        "\tfor word, index in tokenizer.word_index.items():\n",
        "\t\tif index == predicted:\n",
        "\t\t\toutput_word = word\n",
        "\t\t\tbreak\n",
        "\tseed_text += \" \" + output_word\n",
        "print(seed_text)"
      ],
      "execution_count": 6,
      "outputs": [
        {
          "output_type": "stream",
          "name": "stdout",
          "text": [
            "Help me Obi Wan Kenobi, you're my only hope care i cannot choose write me none live bright ' ' ' should write so their strong youth twain well leaves express'd shown free remain warm'd reeks light light cherish desire still give men ' young in thee bearing thee when is none cruel prove prove none friend ' than so that desire from decay kind lust alone had burn'd toil'd dyed buried chest lie still still days are none than these straight fire not young doth fight kind ' are another too slow tear quite place so be die fair delight ' seen rare light light directed light light\n"
          ]
        }
      ]
    },
    {
      "cell_type": "code",
      "source": [
        ""
      ],
      "metadata": {
        "id": "EwH4dky4bkww"
      },
      "execution_count": null,
      "outputs": []
    }
  ]
}