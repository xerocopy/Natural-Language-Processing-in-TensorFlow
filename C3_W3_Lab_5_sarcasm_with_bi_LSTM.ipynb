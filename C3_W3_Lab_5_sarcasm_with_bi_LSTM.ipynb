{
  "nbformat": 4,
  "nbformat_minor": 0,
  "metadata": {
    "accelerator": "GPU",
    "colab": {
      "name": "Copy of C3_W3_Lab_5_sarcasm_with_bi_LSTM.ipynb",
      "provenance": [],
      "collapsed_sections": []
    },
    "kernelspec": {
      "name": "python3",
      "display_name": "Python 3"
    },
    "language_info": {
      "name": "python"
    }
  },
  "cells": [
    {
      "cell_type": "code",
      "metadata": {
        "id": "zX4Kg8DUTKWO"
      },
      "source": [
        "#@title Licensed under the Apache License, Version 2.0 (the \"License\");\n",
        "# you may not use this file except in compliance with the License.\n",
        "# You may obtain a copy of the License at\n",
        "#\n",
        "# https://www.apache.org/licenses/LICENSE-2.0\n",
        "#\n",
        "# Unless required by applicable law or agreed to in writing, software\n",
        "# distributed under the License is distributed on an \"AS IS\" BASIS,\n",
        "# WITHOUT WARRANTIES OR CONDITIONS OF ANY KIND, either express or implied.\n",
        "# See the License for the specific language governing permissions and\n",
        "# limitations under the License."
      ],
      "execution_count": null,
      "outputs": []
    },
    {
      "cell_type": "markdown",
      "metadata": {
        "id": "DAAo7FxNJOv8"
      },
      "source": [
        "**IMPORTANT NOTE:** This notebook is designed to run as a Colab. Click the button on top that says, `Open in Colab`, to run this notebook as a Colab. Running the notebook on your local machine might result in some of the code blocks throwing errors."
      ]
    },
    {
      "cell_type": "markdown",
      "metadata": {
        "id": "o2nwqAkdJOv9"
      },
      "source": [
        "**Note:** This notebook can run using TensorFlow 2.5.0"
      ]
    },
    {
      "cell_type": "code",
      "metadata": {
        "id": "krV8SxsqJOv9"
      },
      "source": [
        "#!pip install tensorflow==2.5.0"
      ],
      "execution_count": null,
      "outputs": []
    },
    {
      "cell_type": "code",
      "metadata": {
        "id": "jGwXGIXvFhXW",
        "colab": {
          "base_uri": "https://localhost:8080/"
        },
        "outputId": "dcb2afbb-f657-4e46-e97a-cb9293540d8a"
      },
      "source": [
        "import numpy as np\n",
        "\n",
        "import json\n",
        "import tensorflow as tf\n",
        "\n",
        "from tensorflow.keras.preprocessing.text import Tokenizer\n",
        "from tensorflow.keras.preprocessing.sequence import pad_sequences\n",
        "\n",
        "# sarcasm.json\n",
        "!gdown --id 1xRU3xY5-tkiPGvlz5xBJ18_pHWSRzI4v\n",
        "\n",
        "\n",
        "vocab_size = 1000\n",
        "embedding_dim = 16\n",
        "max_length = 120\n",
        "trunc_type='post'\n",
        "padding_type='post'\n",
        "oov_tok = \"<OOV>\"\n",
        "training_size = 20000\n",
        "\n",
        "\n",
        "with open(\"./sarcasm.json\", 'r') as f:\n",
        "    datastore = json.load(f)\n",
        "\n",
        "\n",
        "sentences = []\n",
        "labels = []\n",
        "urls = []\n",
        "for item in datastore:\n",
        "    sentences.append(item['headline'])\n",
        "    labels.append(item['is_sarcastic'])\n",
        "\n",
        "training_sentences = sentences[0:training_size]\n",
        "testing_sentences = sentences[training_size:]\n",
        "training_labels = labels[0:training_size]\n",
        "testing_labels = labels[training_size:]\n",
        "\n",
        "tokenizer = Tokenizer(num_words=vocab_size, oov_token=oov_tok)\n",
        "tokenizer.fit_on_texts(training_sentences)\n",
        "\n",
        "word_index = tokenizer.word_index\n",
        "\n",
        "training_sequences = tokenizer.texts_to_sequences(training_sentences)\n",
        "training_padded = pad_sequences(training_sequences, maxlen=max_length, padding=padding_type, truncating=trunc_type)\n",
        "\n",
        "testing_sequences = tokenizer.texts_to_sequences(testing_sentences)\n",
        "testing_padded = pad_sequences(testing_sequences, maxlen=max_length, padding=padding_type, truncating=trunc_type)\n",
        "\n",
        "model = tf.keras.Sequential([\n",
        "    tf.keras.layers.Embedding(vocab_size, embedding_dim, input_length=max_length),\n",
        "    tf.keras.layers.Bidirectional(tf.keras.layers.LSTM(32)),\n",
        "    tf.keras.layers.Dense(24, activation='relu'),\n",
        "    tf.keras.layers.Dense(1, activation='sigmoid')\n",
        "])\n",
        "model.compile(loss='binary_crossentropy',optimizer='adam',metrics=['accuracy'])\n",
        "model.summary()\n",
        "\n",
        "num_epochs = 50\n",
        "training_padded = np.array(training_padded)\n",
        "training_labels = np.array(training_labels)\n",
        "testing_padded = np.array(testing_padded)\n",
        "testing_labels = np.array(testing_labels)\n",
        "history = model.fit(training_padded, training_labels, epochs=num_epochs, validation_data=(testing_padded, testing_labels), verbose=1)\n"
      ],
      "execution_count": 3,
      "outputs": [
        {
          "output_type": "stream",
          "name": "stdout",
          "text": [
            "Downloading...\n",
            "From: https://drive.google.com/uc?id=1xRU3xY5-tkiPGvlz5xBJ18_pHWSRzI4v\n",
            "To: /content/sarcasm.json\n",
            "\r  0% 0.00/5.64M [00:00<?, ?B/s]\r100% 5.64M/5.64M [00:00<00:00, 164MB/s]\n",
            "Model: \"sequential\"\n",
            "_________________________________________________________________\n",
            " Layer (type)                Output Shape              Param #   \n",
            "=================================================================\n",
            " embedding (Embedding)       (None, 120, 16)           16000     \n",
            "                                                                 \n",
            " bidirectional (Bidirectiona  (None, 64)               12544     \n",
            " l)                                                              \n",
            "                                                                 \n",
            " dense (Dense)               (None, 24)                1560      \n",
            "                                                                 \n",
            " dense_1 (Dense)             (None, 1)                 25        \n",
            "                                                                 \n",
            "=================================================================\n",
            "Total params: 30,129\n",
            "Trainable params: 30,129\n",
            "Non-trainable params: 0\n",
            "_________________________________________________________________\n",
            "Epoch 1/50\n",
            "625/625 [==============================] - 47s 63ms/step - loss: 0.4488 - accuracy: 0.7728 - val_loss: 0.3932 - val_accuracy: 0.8125\n",
            "Epoch 2/50\n",
            "625/625 [==============================] - 38s 61ms/step - loss: 0.3573 - accuracy: 0.8343 - val_loss: 0.3851 - val_accuracy: 0.8202\n",
            "Epoch 3/50\n",
            "625/625 [==============================] - 38s 61ms/step - loss: 0.3335 - accuracy: 0.8492 - val_loss: 0.3795 - val_accuracy: 0.8329\n",
            "Epoch 4/50\n",
            "625/625 [==============================] - 38s 61ms/step - loss: 0.3141 - accuracy: 0.8593 - val_loss: 0.3827 - val_accuracy: 0.8274\n",
            "Epoch 5/50\n",
            "625/625 [==============================] - 38s 61ms/step - loss: 0.2997 - accuracy: 0.8679 - val_loss: 0.3742 - val_accuracy: 0.8314\n",
            "Epoch 6/50\n",
            "625/625 [==============================] - 38s 61ms/step - loss: 0.2891 - accuracy: 0.8719 - val_loss: 0.3832 - val_accuracy: 0.8329\n",
            "Epoch 7/50\n",
            "625/625 [==============================] - 38s 61ms/step - loss: 0.2802 - accuracy: 0.8783 - val_loss: 0.3851 - val_accuracy: 0.8351\n",
            "Epoch 8/50\n",
            "625/625 [==============================] - 38s 61ms/step - loss: 0.2742 - accuracy: 0.8823 - val_loss: 0.3903 - val_accuracy: 0.8319\n",
            "Epoch 9/50\n",
            "625/625 [==============================] - 38s 61ms/step - loss: 0.2693 - accuracy: 0.8822 - val_loss: 0.4028 - val_accuracy: 0.8286\n",
            "Epoch 10/50\n",
            "625/625 [==============================] - 38s 61ms/step - loss: 0.2626 - accuracy: 0.8872 - val_loss: 0.4167 - val_accuracy: 0.8217\n",
            "Epoch 11/50\n",
            "625/625 [==============================] - 38s 61ms/step - loss: 0.2581 - accuracy: 0.8886 - val_loss: 0.4228 - val_accuracy: 0.8272\n",
            "Epoch 12/50\n",
            "625/625 [==============================] - 38s 61ms/step - loss: 0.2538 - accuracy: 0.8900 - val_loss: 0.4406 - val_accuracy: 0.8272\n",
            "Epoch 13/50\n",
            "625/625 [==============================] - 38s 61ms/step - loss: 0.2487 - accuracy: 0.8930 - val_loss: 0.4130 - val_accuracy: 0.8222\n",
            "Epoch 14/50\n",
            "625/625 [==============================] - 38s 60ms/step - loss: 0.2413 - accuracy: 0.8970 - val_loss: 0.4443 - val_accuracy: 0.8158\n",
            "Epoch 15/50\n",
            "625/625 [==============================] - 38s 61ms/step - loss: 0.2350 - accuracy: 0.8995 - val_loss: 0.4571 - val_accuracy: 0.8220\n",
            "Epoch 16/50\n",
            "625/625 [==============================] - 38s 60ms/step - loss: 0.2265 - accuracy: 0.9035 - val_loss: 0.4531 - val_accuracy: 0.8244\n",
            "Epoch 17/50\n",
            "625/625 [==============================] - 38s 60ms/step - loss: 0.2170 - accuracy: 0.9076 - val_loss: 0.4771 - val_accuracy: 0.8202\n",
            "Epoch 18/50\n",
            "625/625 [==============================] - 38s 60ms/step - loss: 0.2090 - accuracy: 0.9125 - val_loss: 0.4906 - val_accuracy: 0.8193\n",
            "Epoch 19/50\n",
            "625/625 [==============================] - 38s 60ms/step - loss: 0.2039 - accuracy: 0.9130 - val_loss: 0.5292 - val_accuracy: 0.8205\n",
            "Epoch 20/50\n",
            "625/625 [==============================] - 38s 61ms/step - loss: 0.1939 - accuracy: 0.9165 - val_loss: 0.5077 - val_accuracy: 0.8183\n",
            "Epoch 21/50\n",
            "625/625 [==============================] - 38s 61ms/step - loss: 0.1870 - accuracy: 0.9224 - val_loss: 0.5665 - val_accuracy: 0.8158\n",
            "Epoch 22/50\n",
            "625/625 [==============================] - 38s 61ms/step - loss: 0.1797 - accuracy: 0.9236 - val_loss: 0.5674 - val_accuracy: 0.8107\n",
            "Epoch 23/50\n",
            "625/625 [==============================] - 38s 60ms/step - loss: 0.1733 - accuracy: 0.9268 - val_loss: 0.6040 - val_accuracy: 0.8149\n",
            "Epoch 24/50\n",
            "625/625 [==============================] - 38s 60ms/step - loss: 0.1654 - accuracy: 0.9311 - val_loss: 0.7018 - val_accuracy: 0.8062\n",
            "Epoch 25/50\n",
            "625/625 [==============================] - 38s 60ms/step - loss: 0.1603 - accuracy: 0.9337 - val_loss: 0.7322 - val_accuracy: 0.8100\n",
            "Epoch 26/50\n",
            "625/625 [==============================] - 38s 61ms/step - loss: 0.1516 - accuracy: 0.9387 - val_loss: 0.7114 - val_accuracy: 0.8089\n",
            "Epoch 27/50\n",
            "625/625 [==============================] - 38s 60ms/step - loss: 0.1479 - accuracy: 0.9398 - val_loss: 0.6730 - val_accuracy: 0.8080\n",
            "Epoch 28/50\n",
            "625/625 [==============================] - 38s 61ms/step - loss: 0.1441 - accuracy: 0.9410 - val_loss: 0.7713 - val_accuracy: 0.8077\n",
            "Epoch 29/50\n",
            "625/625 [==============================] - 38s 60ms/step - loss: 0.1346 - accuracy: 0.9453 - val_loss: 0.8726 - val_accuracy: 0.8062\n",
            "Epoch 30/50\n",
            "625/625 [==============================] - 38s 61ms/step - loss: 0.1324 - accuracy: 0.9447 - val_loss: 0.8209 - val_accuracy: 0.7989\n",
            "Epoch 31/50\n",
            "625/625 [==============================] - 38s 61ms/step - loss: 0.1272 - accuracy: 0.9468 - val_loss: 0.9321 - val_accuracy: 0.8028\n",
            "Epoch 32/50\n",
            "625/625 [==============================] - 38s 61ms/step - loss: 0.1228 - accuracy: 0.9506 - val_loss: 0.9344 - val_accuracy: 0.8015\n",
            "Epoch 33/50\n",
            "625/625 [==============================] - 38s 61ms/step - loss: 0.1168 - accuracy: 0.9517 - val_loss: 0.9558 - val_accuracy: 0.8068\n",
            "Epoch 34/50\n",
            "625/625 [==============================] - 38s 61ms/step - loss: 0.1120 - accuracy: 0.9528 - val_loss: 1.0334 - val_accuracy: 0.8024\n",
            "Epoch 35/50\n",
            "625/625 [==============================] - 38s 61ms/step - loss: 0.1084 - accuracy: 0.9548 - val_loss: 1.0081 - val_accuracy: 0.8037\n",
            "Epoch 36/50\n",
            "625/625 [==============================] - 38s 61ms/step - loss: 0.1036 - accuracy: 0.9570 - val_loss: 1.1935 - val_accuracy: 0.8049\n",
            "Epoch 37/50\n",
            "625/625 [==============================] - 38s 61ms/step - loss: 0.1030 - accuracy: 0.9577 - val_loss: 1.1117 - val_accuracy: 0.8043\n",
            "Epoch 38/50\n",
            "625/625 [==============================] - 38s 61ms/step - loss: 0.0943 - accuracy: 0.9611 - val_loss: 1.2804 - val_accuracy: 0.8006\n",
            "Epoch 39/50\n",
            "625/625 [==============================] - 38s 60ms/step - loss: 0.0933 - accuracy: 0.9607 - val_loss: 1.2591 - val_accuracy: 0.8034\n",
            "Epoch 40/50\n",
            "625/625 [==============================] - 38s 61ms/step - loss: 0.0933 - accuracy: 0.9611 - val_loss: 1.3149 - val_accuracy: 0.7946\n",
            "Epoch 41/50\n",
            "625/625 [==============================] - 38s 60ms/step - loss: 0.0852 - accuracy: 0.9633 - val_loss: 1.3435 - val_accuracy: 0.8012\n",
            "Epoch 42/50\n",
            "625/625 [==============================] - 38s 60ms/step - loss: 0.0807 - accuracy: 0.9665 - val_loss: 1.3628 - val_accuracy: 0.7951\n",
            "Epoch 43/50\n",
            "625/625 [==============================] - 38s 61ms/step - loss: 0.0864 - accuracy: 0.9634 - val_loss: 1.3359 - val_accuracy: 0.7980\n",
            "Epoch 44/50\n",
            "625/625 [==============================] - 37s 60ms/step - loss: 0.0811 - accuracy: 0.9653 - val_loss: 1.3498 - val_accuracy: 0.8053\n",
            "Epoch 45/50\n",
            "625/625 [==============================] - 38s 60ms/step - loss: 0.0728 - accuracy: 0.9682 - val_loss: 1.4340 - val_accuracy: 0.8007\n",
            "Epoch 46/50\n",
            "625/625 [==============================] - 38s 60ms/step - loss: 0.0778 - accuracy: 0.9665 - val_loss: 1.3934 - val_accuracy: 0.8024\n",
            "Epoch 47/50\n",
            "625/625 [==============================] - 38s 60ms/step - loss: 0.0759 - accuracy: 0.9674 - val_loss: 1.4067 - val_accuracy: 0.8016\n",
            "Epoch 48/50\n",
            "625/625 [==============================] - 38s 60ms/step - loss: 0.0663 - accuracy: 0.9715 - val_loss: 1.5061 - val_accuracy: 0.8024\n",
            "Epoch 49/50\n",
            "625/625 [==============================] - 38s 60ms/step - loss: 0.0678 - accuracy: 0.9703 - val_loss: 1.5032 - val_accuracy: 0.8018\n",
            "Epoch 50/50\n",
            "625/625 [==============================] - 38s 60ms/step - loss: 0.0653 - accuracy: 0.9723 - val_loss: 1.5934 - val_accuracy: 0.8019\n"
          ]
        }
      ]
    },
    {
      "cell_type": "code",
      "metadata": {
        "id": "g9DC6dmLF8DC",
        "colab": {
          "base_uri": "https://localhost:8080/",
          "height": 541
        },
        "outputId": "c5bd0d24-473a-43b9-b9d6-0c88d0f60f76"
      },
      "source": [
        "import matplotlib.pyplot as plt\n",
        "\n",
        "\n",
        "def plot_graphs(history, string):\n",
        "  plt.plot(history.history[string])\n",
        "  plt.plot(history.history['val_'+string])\n",
        "  plt.xlabel(\"Epochs\")\n",
        "  plt.ylabel(string)\n",
        "  plt.legend([string, 'val_'+string])\n",
        "  plt.show()\n",
        "\n",
        "plot_graphs(history, 'accuracy')\n",
        "plot_graphs(history, 'loss')"
      ],
      "execution_count": 4,
      "outputs": [
        {
          "output_type": "display_data",
          "data": {
            "image/png": "[encoded data removed]",
            "text/plain": [
              "<Figure size 432x288 with 1 Axes>"
            ]
          },
          "metadata": {
            "needs_background": "light"
          }
        },
        {
          "output_type": "display_data",
          "data": {
            "image/png": "[encoded data removed]",
            "text/plain": [
              "<Figure size 432x288 with 1 Axes>"
            ]
          },
          "metadata": {
            "needs_background": "light"
          }
        }
      ]
    },
    {
      "cell_type": "code",
      "source": [
        ""
      ],
      "metadata": {
        "id": "PCOauka3f0YL"
      },
      "execution_count": null,
      "outputs": []
    },
    {
      "cell_type": "code",
      "metadata": {
        "id": "7ZEZIUppGhdi"
      },
      "source": [
        "model.save(\"test.h5\")"
      ],
      "execution_count": 5,
      "outputs": []
    },
    {
      "cell_type": "code",
      "source": [
        ""
      ],
      "metadata": {
        "id": "pIRXLEv3YWxN"
      },
      "execution_count": null,
      "outputs": []
    }
  ]
}