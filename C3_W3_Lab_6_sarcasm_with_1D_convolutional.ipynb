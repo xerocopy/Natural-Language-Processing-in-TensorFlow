{
  "nbformat": 4,
  "nbformat_minor": 0,
  "metadata": {
    "accelerator": "GPU",
    "colab": {
      "name": "Copy of C3_W3_Lab_6_sarcasm_with_1D_convolutional.ipynb",
      "provenance": [],
      "collapsed_sections": []
    },
    "kernelspec": {
      "display_name": "Python 3",
      "language": "python",
      "name": "python3"
    },
    "language_info": {
      "codemirror_mode": {
        "name": "ipython",
        "version": 3
      },
      "file_extension": ".py",
      "mimetype": "text/x-python",
      "name": "python",
      "nbconvert_exporter": "python",
      "pygments_lexer": "ipython3",
      "version": "3.8.5"
    }
  },
  "cells": [
    {
      "cell_type": "code",
      "metadata": {
        "id": "zX4Kg8DUTKWO"
      },
      "source": [
        "#@title Licensed under the Apache License, Version 2.0 (the \"License\");\n",
        "# you may not use this file except in compliance with the License.\n",
        "# You may obtain a copy of the License at\n",
        "#\n",
        "# https://www.apache.org/licenses/LICENSE-2.0\n",
        "#\n",
        "# Unless required by applicable law or agreed to in writing, software\n",
        "# distributed under the License is distributed on an \"AS IS\" BASIS,\n",
        "# WITHOUT WARRANTIES OR CONDITIONS OF ANY KIND, either express or implied.\n",
        "# See the License for the specific language governing permissions and\n",
        "# limitations under the License."
      ],
      "execution_count": null,
      "outputs": []
    },
    {
      "cell_type": "markdown",
      "metadata": {
        "id": "mUPYeXlcPewR"
      },
      "source": [
        "**IMPORTANT NOTE:** This notebook is designed to run as a Colab. Click the button on top that says, `Open in Colab`, to run this notebook as a Colab. Running the notebook on your local machine might result in some of the code blocks throwing errors."
      ]
    },
    {
      "cell_type": "markdown",
      "metadata": {
        "id": "raWPUZrePewR"
      },
      "source": [
        "**Note:** This notebook can run using TensorFlow 2.5.0"
      ]
    },
    {
      "cell_type": "code",
      "metadata": {
        "id": "EmYnth-EPewR"
      },
      "source": [
        "#!pip install tensorflow==2.5.0"
      ],
      "execution_count": null,
      "outputs": []
    },
    {
      "cell_type": "code",
      "metadata": {
        "colab": {
          "base_uri": "https://localhost:8080/"
        },
        "id": "jGwXGIXvFhXW",
        "outputId": "75eb7f4f-560c-42c3-c59c-57ac20076171"
      },
      "source": [
        "import numpy as np\n",
        "\n",
        "import json\n",
        "import tensorflow as tf\n",
        "\n",
        "from tensorflow.keras.preprocessing.text import Tokenizer\n",
        "from tensorflow.keras.preprocessing.sequence import pad_sequences\n",
        "\n",
        "# sarcasm.json\n",
        "# !gdown --id 1dRzdJS7-cZS4S5CuUc32MZYSLJGkkxnp  # this is the wrong link\n",
        "!gdown --id 1xRU3xY5-tkiPGvlz5xBJ18_pHWSRzI4v # used the link from previous notebook\n",
        "\n",
        "vocab_size = 1000\n",
        "embedding_dim = 16\n",
        "max_length = 120\n",
        "trunc_type='post'\n",
        "padding_type='post'\n",
        "oov_tok = \"<OOV>\"\n",
        "training_size = 20000\n",
        "\n",
        "\n",
        "with open(\"./sarcasm.json\", 'r') as f:\n",
        "    datastore = json.load(f)\n",
        "\n",
        "\n",
        "sentences = []\n",
        "labels = []\n",
        "urls = []\n",
        "for item in datastore:\n",
        "    sentences.append(item['headline'])\n",
        "    labels.append(item['is_sarcastic'])\n",
        "\n",
        "training_sentences = sentences[0:training_size]\n",
        "testing_sentences = sentences[training_size:]\n",
        "training_labels = labels[0:training_size]\n",
        "testing_labels = labels[training_size:]\n",
        "\n",
        "tokenizer = Tokenizer(num_words=vocab_size, oov_token=oov_tok)\n",
        "tokenizer.fit_on_texts(training_sentences)\n",
        "\n",
        "word_index = tokenizer.word_index\n",
        "\n",
        "training_sequences = tokenizer.texts_to_sequences(training_sentences)\n",
        "training_padded = pad_sequences(training_sequences, maxlen=max_length, padding=padding_type, truncating=trunc_type)\n",
        "\n",
        "testing_sequences = tokenizer.texts_to_sequences(testing_sentences)\n",
        "testing_padded = pad_sequences(testing_sequences, maxlen=max_length, padding=padding_type, truncating=trunc_type)\n",
        "\n",
        "model = tf.keras.Sequential([\n",
        "    tf.keras.layers.Embedding(vocab_size, embedding_dim, input_length=max_length),\n",
        "    tf.keras.layers.Conv1D(128, 5, activation='relu'),\n",
        "    tf.keras.layers.GlobalMaxPooling1D(),\n",
        "    tf.keras.layers.Dense(24, activation='relu'),\n",
        "    tf.keras.layers.Dense(1, activation='sigmoid')\n",
        "])\n",
        "model.compile(loss='binary_crossentropy',optimizer='adam',metrics=['accuracy'])\n",
        "model.summary()\n",
        "\n",
        "num_epochs = 50\n",
        "\n",
        "training_padded = np.array(training_padded)\n",
        "training_labels = np.array(training_labels)\n",
        "testing_padded = np.array(testing_padded)\n",
        "testing_labels = np.array(testing_labels)\n",
        "\n",
        "history = model.fit(training_padded, training_labels, epochs=num_epochs, validation_data=(testing_padded, testing_labels), verbose=1)\n"
      ],
      "execution_count": 2,
      "outputs": [
        {
          "output_type": "stream",
          "name": "stdout",
          "text": [
            "Downloading...\n",
            "From: https://drive.google.com/uc?id=1xRU3xY5-tkiPGvlz5xBJ18_pHWSRzI4v\n",
            "To: /content/sarcasm.json\n",
            "\r  0% 0.00/5.64M [00:00<?, ?B/s]\r100% 5.64M/5.64M [00:00<00:00, 225MB/s]\n",
            "Model: \"sequential\"\n",
            "_________________________________________________________________\n",
            " Layer (type)                Output Shape              Param #   \n",
            "=================================================================\n",
            " embedding (Embedding)       (None, 120, 16)           16000     \n",
            "                                                                 \n",
            " conv1d (Conv1D)             (None, 116, 128)          10368     \n",
            "                                                                 \n",
            " global_max_pooling1d (Globa  (None, 128)              0         \n",
            " lMaxPooling1D)                                                  \n",
            "                                                                 \n",
            " dense (Dense)               (None, 24)                3096      \n",
            "                                                                 \n",
            " dense_1 (Dense)             (None, 1)                 25        \n",
            "                                                                 \n",
            "=================================================================\n",
            "Total params: 29,489\n",
            "Trainable params: 29,489\n",
            "Non-trainable params: 0\n",
            "_________________________________________________________________\n",
            "Epoch 1/50\n",
            "625/625 [==============================] - 17s 9ms/step - loss: 0.4697 - accuracy: 0.7630 - val_loss: 0.4070 - val_accuracy: 0.8129\n",
            "Epoch 2/50\n",
            "625/625 [==============================] - 5s 7ms/step - loss: 0.3591 - accuracy: 0.8385 - val_loss: 0.3898 - val_accuracy: 0.8186\n",
            "Epoch 3/50\n",
            "625/625 [==============================] - 5s 8ms/step - loss: 0.3238 - accuracy: 0.8557 - val_loss: 0.3958 - val_accuracy: 0.8207\n",
            "Epoch 4/50\n",
            "625/625 [==============================] - 5s 7ms/step - loss: 0.2928 - accuracy: 0.8719 - val_loss: 0.4000 - val_accuracy: 0.8192\n",
            "Epoch 5/50\n",
            "625/625 [==============================] - 5s 8ms/step - loss: 0.2628 - accuracy: 0.8866 - val_loss: 0.4521 - val_accuracy: 0.7983\n",
            "Epoch 6/50\n",
            "625/625 [==============================] - 5s 8ms/step - loss: 0.2317 - accuracy: 0.9038 - val_loss: 0.4562 - val_accuracy: 0.8192\n",
            "Epoch 7/50\n",
            "625/625 [==============================] - 5s 8ms/step - loss: 0.1976 - accuracy: 0.9207 - val_loss: 0.4993 - val_accuracy: 0.8038\n",
            "Epoch 8/50\n",
            "625/625 [==============================] - 5s 8ms/step - loss: 0.1690 - accuracy: 0.9349 - val_loss: 0.5478 - val_accuracy: 0.8056\n",
            "Epoch 9/50\n",
            "625/625 [==============================] - 5s 8ms/step - loss: 0.1414 - accuracy: 0.9466 - val_loss: 0.5935 - val_accuracy: 0.7994\n",
            "Epoch 10/50\n",
            "625/625 [==============================] - 5s 8ms/step - loss: 0.1165 - accuracy: 0.9572 - val_loss: 0.6772 - val_accuracy: 0.7928\n",
            "Epoch 11/50\n",
            "625/625 [==============================] - 5s 8ms/step - loss: 0.0952 - accuracy: 0.9663 - val_loss: 0.7366 - val_accuracy: 0.7936\n",
            "Epoch 12/50\n",
            "625/625 [==============================] - 5s 8ms/step - loss: 0.0801 - accuracy: 0.9713 - val_loss: 0.8777 - val_accuracy: 0.7903\n",
            "Epoch 13/50\n",
            "625/625 [==============================] - 5s 7ms/step - loss: 0.0705 - accuracy: 0.9752 - val_loss: 0.9276 - val_accuracy: 0.7895\n",
            "Epoch 14/50\n",
            "625/625 [==============================] - 5s 7ms/step - loss: 0.0596 - accuracy: 0.9793 - val_loss: 0.9633 - val_accuracy: 0.7819\n",
            "Epoch 15/50\n",
            "625/625 [==============================] - 5s 8ms/step - loss: 0.0486 - accuracy: 0.9837 - val_loss: 1.0543 - val_accuracy: 0.7837\n",
            "Epoch 16/50\n",
            "625/625 [==============================] - 5s 7ms/step - loss: 0.0452 - accuracy: 0.9836 - val_loss: 1.1907 - val_accuracy: 0.7797\n",
            "Epoch 17/50\n",
            "625/625 [==============================] - 5s 8ms/step - loss: 0.0427 - accuracy: 0.9848 - val_loss: 1.2600 - val_accuracy: 0.7830\n",
            "Epoch 18/50\n",
            "625/625 [==============================] - 5s 7ms/step - loss: 0.0405 - accuracy: 0.9843 - val_loss: 1.3521 - val_accuracy: 0.7793\n",
            "Epoch 19/50\n",
            "625/625 [==============================] - 5s 8ms/step - loss: 0.0406 - accuracy: 0.9837 - val_loss: 1.4533 - val_accuracy: 0.7858\n",
            "Epoch 20/50\n",
            "625/625 [==============================] - 5s 7ms/step - loss: 0.0397 - accuracy: 0.9847 - val_loss: 1.4706 - val_accuracy: 0.7670\n",
            "Epoch 21/50\n",
            "625/625 [==============================] - 5s 8ms/step - loss: 0.0343 - accuracy: 0.9863 - val_loss: 1.5835 - val_accuracy: 0.7863\n",
            "Epoch 22/50\n",
            "625/625 [==============================] - 5s 8ms/step - loss: 0.0299 - accuracy: 0.9883 - val_loss: 1.6439 - val_accuracy: 0.7845\n",
            "Epoch 23/50\n",
            "625/625 [==============================] - 5s 8ms/step - loss: 0.0270 - accuracy: 0.9899 - val_loss: 1.6687 - val_accuracy: 0.7855\n",
            "Epoch 24/50\n",
            "625/625 [==============================] - 5s 7ms/step - loss: 0.0277 - accuracy: 0.9891 - val_loss: 1.6869 - val_accuracy: 0.7855\n",
            "Epoch 25/50\n",
            "625/625 [==============================] - 5s 8ms/step - loss: 0.0332 - accuracy: 0.9863 - val_loss: 1.7948 - val_accuracy: 0.7825\n",
            "Epoch 26/50\n",
            "625/625 [==============================] - 5s 8ms/step - loss: 0.0338 - accuracy: 0.9857 - val_loss: 1.8888 - val_accuracy: 0.7745\n",
            "Epoch 27/50\n",
            "625/625 [==============================] - 5s 8ms/step - loss: 0.0267 - accuracy: 0.9892 - val_loss: 1.9048 - val_accuracy: 0.7824\n",
            "Epoch 28/50\n",
            "625/625 [==============================] - 5s 7ms/step - loss: 0.0250 - accuracy: 0.9891 - val_loss: 1.9205 - val_accuracy: 0.7873\n",
            "Epoch 29/50\n",
            "625/625 [==============================] - 5s 8ms/step - loss: 0.0263 - accuracy: 0.9891 - val_loss: 2.0356 - val_accuracy: 0.7776\n",
            "Epoch 30/50\n",
            "625/625 [==============================] - 5s 8ms/step - loss: 0.0259 - accuracy: 0.9894 - val_loss: 2.0065 - val_accuracy: 0.7800\n",
            "Epoch 31/50\n",
            "625/625 [==============================] - 5s 7ms/step - loss: 0.0256 - accuracy: 0.9888 - val_loss: 2.1005 - val_accuracy: 0.7837\n",
            "Epoch 32/50\n",
            "625/625 [==============================] - 5s 8ms/step - loss: 0.0263 - accuracy: 0.9886 - val_loss: 2.0649 - val_accuracy: 0.7798\n",
            "Epoch 33/50\n",
            "625/625 [==============================] - 5s 8ms/step - loss: 0.0253 - accuracy: 0.9895 - val_loss: 2.1257 - val_accuracy: 0.7867\n",
            "Epoch 34/50\n",
            "625/625 [==============================] - 5s 8ms/step - loss: 0.0284 - accuracy: 0.9876 - val_loss: 2.2524 - val_accuracy: 0.7818\n",
            "Epoch 35/50\n",
            "625/625 [==============================] - 5s 8ms/step - loss: 0.0279 - accuracy: 0.9876 - val_loss: 2.2852 - val_accuracy: 0.7861\n",
            "Epoch 36/50\n",
            "625/625 [==============================] - 5s 8ms/step - loss: 0.0236 - accuracy: 0.9890 - val_loss: 2.2761 - val_accuracy: 0.7842\n",
            "Epoch 37/50\n",
            "625/625 [==============================] - 5s 7ms/step - loss: 0.0193 - accuracy: 0.9920 - val_loss: 2.3282 - val_accuracy: 0.7815\n",
            "Epoch 38/50\n",
            "625/625 [==============================] - 5s 8ms/step - loss: 0.0196 - accuracy: 0.9908 - val_loss: 2.3361 - val_accuracy: 0.7830\n",
            "Epoch 39/50\n",
            "625/625 [==============================] - 5s 8ms/step - loss: 0.0226 - accuracy: 0.9900 - val_loss: 2.5253 - val_accuracy: 0.7781\n",
            "Epoch 40/50\n",
            "625/625 [==============================] - 5s 7ms/step - loss: 0.0259 - accuracy: 0.9887 - val_loss: 2.4117 - val_accuracy: 0.7812\n",
            "Epoch 41/50\n",
            "625/625 [==============================] - 5s 8ms/step - loss: 0.0284 - accuracy: 0.9877 - val_loss: 2.4064 - val_accuracy: 0.7791\n",
            "Epoch 42/50\n",
            "625/625 [==============================] - 5s 8ms/step - loss: 0.0233 - accuracy: 0.9898 - val_loss: 2.4023 - val_accuracy: 0.7801\n",
            "Epoch 43/50\n",
            "625/625 [==============================] - 5s 8ms/step - loss: 0.0189 - accuracy: 0.9913 - val_loss: 2.4504 - val_accuracy: 0.7860\n",
            "Epoch 44/50\n",
            "625/625 [==============================] - 5s 8ms/step - loss: 0.0175 - accuracy: 0.9919 - val_loss: 2.5514 - val_accuracy: 0.7857\n",
            "Epoch 45/50\n",
            "625/625 [==============================] - 5s 8ms/step - loss: 0.0188 - accuracy: 0.9912 - val_loss: 2.5516 - val_accuracy: 0.7842\n",
            "Epoch 46/50\n",
            "625/625 [==============================] - 5s 8ms/step - loss: 0.0248 - accuracy: 0.9892 - val_loss: 2.5455 - val_accuracy: 0.7791\n",
            "Epoch 47/50\n",
            "625/625 [==============================] - 5s 8ms/step - loss: 0.0199 - accuracy: 0.9906 - val_loss: 2.5480 - val_accuracy: 0.7836\n",
            "Epoch 48/50\n",
            "625/625 [==============================] - 5s 8ms/step - loss: 0.0214 - accuracy: 0.9906 - val_loss: 2.8156 - val_accuracy: 0.7813\n",
            "Epoch 49/50\n",
            "625/625 [==============================] - 5s 8ms/step - loss: 0.0181 - accuracy: 0.9916 - val_loss: 2.7105 - val_accuracy: 0.7840\n",
            "Epoch 50/50\n",
            "625/625 [==============================] - 5s 8ms/step - loss: 0.0205 - accuracy: 0.9915 - val_loss: 2.8138 - val_accuracy: 0.7824\n"
          ]
        }
      ]
    },
    {
      "cell_type": "code",
      "metadata": {
        "id": "g9DC6dmLF8DC",
        "colab": {
          "base_uri": "https://localhost:8080/",
          "height": 542
        },
        "outputId": "db2dbf42-6729-4acf-ae7f-5ebd4621824c"
      },
      "source": [
        "import matplotlib.pyplot as plt\n",
        "\n",
        "\n",
        "def plot_graphs(history, string):\n",
        "  plt.plot(history.history[string])\n",
        "  plt.plot(history.history['val_'+string])\n",
        "  plt.xlabel(\"Epochs\")\n",
        "  plt.ylabel(string)\n",
        "  plt.legend([string, 'val_'+string])\n",
        "  plt.show()\n",
        "\n",
        "plot_graphs(history, 'accuracy')\n",
        "plot_graphs(history, 'loss')"
      ],
      "execution_count": 3,
      "outputs": [
        {
          "output_type": "display_data",
          "data": {
            "image/png": "[encoded data removed]",
            "text/plain": [
              "<Figure size 432x288 with 1 Axes>"
            ]
          },
          "metadata": {
            "needs_background": "light"
          }
        },
        {
          "output_type": "display_data",
          "data": {
            "image/png": "[encoded data removed]",
            "text/plain": [
              "<Figure size 432x288 with 1 Axes>"
            ]
          },
          "metadata": {
            "needs_background": "light"
          }
        }
      ]
    },
    {
      "cell_type": "code",
      "metadata": {
        "id": "7ZEZIUppGhdi"
      },
      "source": [
        "model.save(\"test.h5\")"
      ],
      "execution_count": 4,
      "outputs": []
    },
    {
      "cell_type": "code",
      "source": [
        ""
      ],
      "metadata": {
        "id": "nxI9-zl0hsIt"
      },
      "execution_count": null,
      "outputs": []
    }
  ]
}