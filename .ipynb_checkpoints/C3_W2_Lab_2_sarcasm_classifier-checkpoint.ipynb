{
 "cells": [
  {
   "cell_type": "code",
   "execution_count": null,
   "metadata": {
    "id": "zX4Kg8DUTKWO"
   },
   "outputs": [],
   "source": [
    "#@title Licensed under the Apache License, Version 2.0 (the \"License\");\n",
    "# you may not use this file except in compliance with the License.\n",
    "# You may obtain a copy of the License at\n",
    "#\n",
    "# https://www.apache.org/licenses/LICENSE-2.0\n",
    "#\n",
    "# Unless required by applicable law or agreed to in writing, software\n",
    "# distributed under the License is distributed on an \"AS IS\" BASIS,\n",
    "# WITHOUT WARRANTIES OR CONDITIONS OF ANY KIND, either express or implied.\n",
    "# See the License for the specific language governing permissions and\n",
    "# limitations under the License."
   ]
  },
  {
   "cell_type": "markdown",
   "metadata": {
    "id": "DblSKtgISM2d"
   },
   "source": [
    "**Note:** This notebook can run using TensorFlow 2.5.0"
   ]
  },
  {
   "cell_type": "code",
   "execution_count": null,
   "metadata": {
    "id": "4gs9htvM7n_x"
   },
   "outputs": [],
   "source": [
    "#!pip install tensorflow==2.5.0"
   ]
  },
  {
   "cell_type": "code",
   "execution_count": 1,
   "metadata": {
    "id": "XYYDvoskkE61"
   },
   "outputs": [],
   "source": [
    "import json\n",
    "import tensorflow as tf\n",
    "\n",
    "from tensorflow.keras.preprocessing.text import Tokenizer\n",
    "from tensorflow.keras.preprocessing.sequence import pad_sequences"
   ]
  },
  {
   "cell_type": "code",
   "execution_count": 2,
   "metadata": {
    "id": "0eJSTTYnkJQd"
   },
   "outputs": [],
   "source": [
    "vocab_size = 10000\n",
    "embedding_dim = 16\n",
    "max_length = 100\n",
    "trunc_type='post'\n",
    "padding_type='post'\n",
    "oov_tok = \"<OOV>\"\n",
    "training_size = 20000\n"
   ]
  },
  {
   "cell_type": "code",
   "execution_count": 3,
   "metadata": {
    "colab": {
     "base_uri": "https://localhost:8080/"
    },
    "id": "BQVuQrZNkPn9",
    "outputId": "1918ad49-32ed-4e00-8780-37f7537d3ede"
   },
   "outputs": [
    {
     "name": "stdout",
     "output_type": "stream",
     "text": [
      "Downloading...\n",
      "From: https://drive.google.com/uc?id=1xRU3xY5-tkiPGvlz5xBJ18_pHWSRzI4v\n",
      "To: /content/sarcasm.json\n",
      "\r",
      "  0% 0.00/5.64M [00:00<?, ?B/s]\r",
      "100% 5.64M/5.64M [00:00<00:00, 182MB/s]\n"
     ]
    }
   ],
   "source": [
    "# sarcasm.json\n",
    "!gdown --id 1xRU3xY5-tkiPGvlz5xBJ18_pHWSRzI4v"
   ]
  },
  {
   "cell_type": "code",
   "execution_count": 4,
   "metadata": {
    "id": "oaLaaqhNkUPd"
   },
   "outputs": [],
   "source": [
    "with open(\"./sarcasm.json\", 'r') as f:\n",
    "    datastore = json.load(f)\n",
    "\n",
    "sentences = []\n",
    "labels = []\n",
    "\n",
    "for item in datastore:\n",
    "    sentences.append(item['headline'])\n",
    "    labels.append(item['is_sarcastic'])"
   ]
  },
  {
   "cell_type": "code",
   "execution_count": 5,
   "metadata": {
    "id": "S1sD-7v0kYWk"
   },
   "outputs": [],
   "source": [
    "training_sentences = sentences[0:training_size]\n",
    "testing_sentences = sentences[training_size:]\n",
    "training_labels = labels[0:training_size]\n",
    "testing_labels = labels[training_size:]"
   ]
  },
  {
   "cell_type": "code",
   "execution_count": 6,
   "metadata": {
    "id": "3u8UB0MCkZ5N"
   },
   "outputs": [],
   "source": [
    "tokenizer = Tokenizer(num_words=vocab_size, oov_token=oov_tok)\n",
    "tokenizer.fit_on_texts(training_sentences)\n",
    "\n",
    "word_index = tokenizer.word_index\n",
    "\n",
    "training_sequences = tokenizer.texts_to_sequences(training_sentences)\n",
    "training_padded = pad_sequences(training_sequences, maxlen=max_length, padding=padding_type, truncating=trunc_type)\n",
    "\n",
    "testing_sequences = tokenizer.texts_to_sequences(testing_sentences)\n",
    "testing_padded = pad_sequences(testing_sequences, maxlen=max_length, padding=padding_type, truncating=trunc_type)"
   ]
  },
  {
   "cell_type": "code",
   "execution_count": 7,
   "metadata": {
    "id": "GrAlWBKf99Ya"
   },
   "outputs": [],
   "source": [
    "# Need this block to get it to work with TensorFlow 2.x\n",
    "import numpy as np\n",
    "training_padded = np.array(training_padded)\n",
    "training_labels = np.array(training_labels)\n",
    "testing_padded = np.array(testing_padded)\n",
    "testing_labels = np.array(testing_labels)"
   ]
  },
  {
   "cell_type": "code",
   "execution_count": 8,
   "metadata": {
    "id": "FufaT4vlkiDE"
   },
   "outputs": [],
   "source": [
    "model = tf.keras.Sequential([\n",
    "    tf.keras.layers.Embedding(vocab_size, embedding_dim, input_length=max_length),\n",
    "    tf.keras.layers.GlobalAveragePooling1D(),\n",
    "    tf.keras.layers.Dense(24, activation='relu'),\n",
    "    tf.keras.layers.Dense(1, activation='sigmoid')\n",
    "])\n",
    "model.compile(loss='binary_crossentropy',optimizer='adam',metrics=['accuracy'])"
   ]
  },
  {
   "cell_type": "code",
   "execution_count": 9,
   "metadata": {
    "colab": {
     "base_uri": "https://localhost:8080/"
    },
    "id": "XfDt1hmYkiys",
    "outputId": "19db96bb-26b5-460f-bd8d-f13a9222185d"
   },
   "outputs": [
    {
     "name": "stdout",
     "output_type": "stream",
     "text": [
      "Model: \"sequential\"\n",
      "_________________________________________________________________\n",
      " Layer (type)                Output Shape              Param #   \n",
      "=================================================================\n",
      " embedding (Embedding)       (None, 100, 16)           160000    \n",
      "                                                                 \n",
      " global_average_pooling1d (G  (None, 16)               0         \n",
      " lobalAveragePooling1D)                                          \n",
      "                                                                 \n",
      " dense (Dense)               (None, 24)                408       \n",
      "                                                                 \n",
      " dense_1 (Dense)             (None, 1)                 25        \n",
      "                                                                 \n",
      "=================================================================\n",
      "Total params: 160,433\n",
      "Trainable params: 160,433\n",
      "Non-trainable params: 0\n",
      "_________________________________________________________________\n"
     ]
    }
   ],
   "source": [
    "model.summary()\n"
   ]
  },
  {
   "cell_type": "code",
   "execution_count": 10,
   "metadata": {
    "colab": {
     "base_uri": "https://localhost:8080/"
    },
    "id": "2DTKQFf1kkyc",
    "outputId": "c0762fb5-e9e8-4cd0-809c-da569121b380"
   },
   "outputs": [
    {
     "name": "stdout",
     "output_type": "stream",
     "text": [
      "Epoch 1/30\n",
      "625/625 - 7s - loss: 0.6613 - accuracy: 0.5734 - val_loss: 0.5859 - val_accuracy: 0.6670 - 7s/epoch - 12ms/step\n",
      "Epoch 2/30\n",
      "625/625 - 3s - loss: 0.4541 - accuracy: 0.8192 - val_loss: 0.3944 - val_accuracy: 0.8416 - 3s/epoch - 5ms/step\n",
      "Epoch 3/30\n",
      "625/625 - 3s - loss: 0.3126 - accuracy: 0.8802 - val_loss: 0.3537 - val_accuracy: 0.8547 - 3s/epoch - 5ms/step\n",
      "Epoch 4/30\n",
      "625/625 - 3s - loss: 0.2524 - accuracy: 0.9050 - val_loss: 0.3716 - val_accuracy: 0.8362 - 3s/epoch - 5ms/step\n",
      "Epoch 5/30\n",
      "625/625 - 3s - loss: 0.2159 - accuracy: 0.9179 - val_loss: 0.3484 - val_accuracy: 0.8535 - 3s/epoch - 5ms/step\n",
      "Epoch 6/30\n",
      "625/625 - 3s - loss: 0.1874 - accuracy: 0.9298 - val_loss: 0.3592 - val_accuracy: 0.8557 - 3s/epoch - 5ms/step\n",
      "Epoch 7/30\n",
      "625/625 - 3s - loss: 0.1674 - accuracy: 0.9394 - val_loss: 0.3721 - val_accuracy: 0.8548 - 3s/epoch - 5ms/step\n",
      "Epoch 8/30\n",
      "625/625 - 3s - loss: 0.1492 - accuracy: 0.9457 - val_loss: 0.3893 - val_accuracy: 0.8523 - 3s/epoch - 5ms/step\n",
      "Epoch 9/30\n",
      "625/625 - 3s - loss: 0.1334 - accuracy: 0.9539 - val_loss: 0.4188 - val_accuracy: 0.8472 - 3s/epoch - 5ms/step\n",
      "Epoch 10/30\n",
      "625/625 - 3s - loss: 0.1204 - accuracy: 0.9591 - val_loss: 0.4594 - val_accuracy: 0.8371 - 3s/epoch - 5ms/step\n",
      "Epoch 11/30\n",
      "625/625 - 3s - loss: 0.1100 - accuracy: 0.9616 - val_loss: 0.4758 - val_accuracy: 0.8387 - 3s/epoch - 5ms/step\n",
      "Epoch 12/30\n",
      "625/625 - 3s - loss: 0.0983 - accuracy: 0.9683 - val_loss: 0.4822 - val_accuracy: 0.8439 - 3s/epoch - 5ms/step\n",
      "Epoch 13/30\n",
      "625/625 - 3s - loss: 0.0911 - accuracy: 0.9701 - val_loss: 0.5436 - val_accuracy: 0.8332 - 3s/epoch - 5ms/step\n",
      "Epoch 14/30\n",
      "625/625 - 3s - loss: 0.0844 - accuracy: 0.9729 - val_loss: 0.5375 - val_accuracy: 0.8389 - 3s/epoch - 5ms/step\n",
      "Epoch 15/30\n",
      "625/625 - 3s - loss: 0.0760 - accuracy: 0.9762 - val_loss: 0.5961 - val_accuracy: 0.8322 - 3s/epoch - 5ms/step\n",
      "Epoch 16/30\n",
      "625/625 - 3s - loss: 0.0700 - accuracy: 0.9784 - val_loss: 0.6180 - val_accuracy: 0.8322 - 3s/epoch - 5ms/step\n",
      "Epoch 17/30\n",
      "625/625 - 3s - loss: 0.0649 - accuracy: 0.9797 - val_loss: 0.6384 - val_accuracy: 0.8341 - 3s/epoch - 5ms/step\n",
      "Epoch 18/30\n",
      "625/625 - 3s - loss: 0.0593 - accuracy: 0.9819 - val_loss: 0.6815 - val_accuracy: 0.8298 - 3s/epoch - 5ms/step\n",
      "Epoch 19/30\n",
      "625/625 - 3s - loss: 0.0557 - accuracy: 0.9839 - val_loss: 0.7159 - val_accuracy: 0.8284 - 3s/epoch - 5ms/step\n",
      "Epoch 20/30\n",
      "625/625 - 3s - loss: 0.0514 - accuracy: 0.9845 - val_loss: 0.7277 - val_accuracy: 0.8289 - 3s/epoch - 5ms/step\n",
      "Epoch 21/30\n",
      "625/625 - 3s - loss: 0.0483 - accuracy: 0.9854 - val_loss: 0.7931 - val_accuracy: 0.8240 - 3s/epoch - 5ms/step\n",
      "Epoch 22/30\n",
      "625/625 - 3s - loss: 0.0438 - accuracy: 0.9882 - val_loss: 0.9300 - val_accuracy: 0.8176 - 3s/epoch - 5ms/step\n",
      "Epoch 23/30\n",
      "625/625 - 3s - loss: 0.0400 - accuracy: 0.9887 - val_loss: 0.8439 - val_accuracy: 0.8208 - 3s/epoch - 5ms/step\n",
      "Epoch 24/30\n",
      "625/625 - 3s - loss: 0.0361 - accuracy: 0.9909 - val_loss: 0.8908 - val_accuracy: 0.8190 - 3s/epoch - 5ms/step\n",
      "Epoch 25/30\n",
      "625/625 - 3s - loss: 0.0339 - accuracy: 0.9907 - val_loss: 0.9776 - val_accuracy: 0.8176 - 3s/epoch - 5ms/step\n",
      "Epoch 26/30\n",
      "625/625 - 3s - loss: 0.0332 - accuracy: 0.9912 - val_loss: 0.9479 - val_accuracy: 0.8174 - 3s/epoch - 5ms/step\n",
      "Epoch 27/30\n",
      "625/625 - 3s - loss: 0.0300 - accuracy: 0.9919 - val_loss: 0.9937 - val_accuracy: 0.8180 - 3s/epoch - 5ms/step\n",
      "Epoch 28/30\n",
      "625/625 - 3s - loss: 0.0277 - accuracy: 0.9930 - val_loss: 1.1371 - val_accuracy: 0.8141 - 3s/epoch - 5ms/step\n",
      "Epoch 29/30\n",
      "625/625 - 3s - loss: 0.0266 - accuracy: 0.9923 - val_loss: 1.0307 - val_accuracy: 0.8110 - 3s/epoch - 5ms/step\n",
      "Epoch 30/30\n",
      "625/625 - 3s - loss: 0.0237 - accuracy: 0.9943 - val_loss: 1.1737 - val_accuracy: 0.8144 - 3s/epoch - 5ms/step\n"
     ]
    }
   ],
   "source": [
    "num_epochs = 30\n",
    "history = model.fit(training_padded, training_labels, epochs=num_epochs, validation_data=(testing_padded, testing_labels), verbose=2)"
   ]
  },
  {
   "cell_type": "code",
   "execution_count": 11,
   "metadata": {
    "colab": {
     "base_uri": "https://localhost:8080/",
     "height": 541
    },
    "id": "2HYfBKXjkmU8",
    "outputId": "98082357-ac67-46fc-d28a-dc52c31b46b1"
   },
   "outputs": [
    {
     "data": {
      "image/png": "[encoded data removed]",
      "text/plain": [
       "<Figure size 432x288 with 1 Axes>"
      ]
     },
     "metadata": {
      "needs_background": "light"
     },
     "output_type": "display_data"
    },
    {
     "data": {
      "image/png": "[encoded data removed]",
      "text/plain": [
       "<Figure size 432x288 with 1 Axes>"
      ]
     },
     "metadata": {
      "needs_background": "light"
     },
     "output_type": "display_data"
    }
   ],
   "source": [
    "import matplotlib.pyplot as plt\n",
    "\n",
    "\n",
    "def plot_graphs(history, string):\n",
    "  plt.plot(history.history[string])\n",
    "  plt.plot(history.history['val_'+string])\n",
    "  plt.xlabel(\"Epochs\")\n",
    "  plt.ylabel(string)\n",
    "  plt.legend([string, 'val_'+string])\n",
    "  plt.show()\n",
    "  \n",
    "plot_graphs(history, \"accuracy\")\n",
    "plot_graphs(history, \"loss\")"
   ]
  },
  {
   "cell_type": "code",
   "execution_count": 12,
   "metadata": {
    "colab": {
     "base_uri": "https://localhost:8080/"
    },
    "id": "7SBdAZAenvzL",
    "outputId": "1afbbd0f-17ab-416c-b5c9-d69a271cca66"
   },
   "outputs": [
    {
     "name": "stdout",
     "output_type": "stream",
     "text": [
      "former <OOV> store clerk sues over secret 'black <OOV> for minority shoppers ? ? ? ? ? ? ? ? ? ? ? ? ? ? ? ? ? ? ? ? ? ? ? ? ? ? ? ? ? ? ? ? ? ? ? ? ? ? ? ? ? ? ? ? ? ? ? ? ? ? ? ? ? ? ? ? ? ? ? ? ? ? ? ? ? ? ? ? ? ? ? ? ? ? ? ? ? ? ? ? ? ? ? ? ? ? ? ?\n",
      "mom starting to fear son's web series closest thing she will have to grandchild\n",
      "1\n"
     ]
    }
   ],
   "source": [
    "reverse_word_index = dict([(value, key) for (key, value) in word_index.items()])\n",
    "\n",
    "def decode_sentence(text):\n",
    "    return ' '.join([reverse_word_index.get(i, '?') for i in text])\n",
    "\n",
    "print(decode_sentence(training_padded[0]))\n",
    "print(training_sentences[2])\n",
    "print(labels[2])"
   ]
  },
  {
   "cell_type": "code",
   "execution_count": 13,
   "metadata": {
    "colab": {
     "base_uri": "https://localhost:8080/"
    },
    "id": "c9MqihtEkzQ9",
    "outputId": "539b1104-1c66-4719-bf31-e3126f666186"
   },
   "outputs": [
    {
     "name": "stdout",
     "output_type": "stream",
     "text": [
      "(10000, 16)\n"
     ]
    }
   ],
   "source": [
    "e = model.layers[0]\n",
    "weights = e.get_weights()[0]\n",
    "print(weights.shape) # shape: (vocab_size, embedding_dim)\n"
   ]
  },
  {
   "cell_type": "code",
   "execution_count": 14,
   "metadata": {
    "id": "LoBXVffknldU"
   },
   "outputs": [],
   "source": [
    "import io\n",
    "\n",
    "out_v = io.open('vecs.tsv', 'w', encoding='utf-8')\n",
    "out_m = io.open('meta.tsv', 'w', encoding='utf-8')\n",
    "for word_num in range(1, vocab_size):\n",
    "  word = reverse_word_index[word_num]\n",
    "  embeddings = weights[word_num]\n",
    "  out_m.write(word + \"\\n\")\n",
    "  out_v.write('\\t'.join([str(x) for x in embeddings]) + \"\\n\")\n",
    "out_v.close()\n",
    "out_m.close()"
   ]
  },
  {
   "cell_type": "code",
   "execution_count": null,
   "metadata": {
    "id": "U4eZ5HtVnnEE"
   },
   "outputs": [],
   "source": [
    "try:\n",
    "  from google.colab import files\n",
    "except ImportError:\n",
    "  pass\n",
    "else:\n",
    "  files.download('vecs.tsv')\n",
    "  files.download('meta.tsv')"
   ]
  },
  {
   "cell_type": "code",
   "execution_count": 15,
   "metadata": {
    "colab": {
     "base_uri": "https://localhost:8080/"
    },
    "id": "cG8-ArY-qDcz",
    "outputId": "fae0dd93-b320-4ded-fd5c-835b5e9d7ad0"
   },
   "outputs": [
    {
     "name": "stdout",
     "output_type": "stream",
     "text": [
      "[[5.000773e-01]\n",
      " [9.938163e-07]]\n"
     ]
    }
   ],
   "source": [
    "sentence = [\"granny starting to fear spiders in the garden might be real\", \"game of thrones season finale showing this sunday night\"]\n",
    "sequences = tokenizer.texts_to_sequences(sentence)\n",
    "padded = pad_sequences(sequences, maxlen=max_length, padding=padding_type, truncating=trunc_type)\n",
    "print(model.predict(padded))"
   ]
  },
  {
   "cell_type": "code",
   "execution_count": null,
   "metadata": {
    "id": "xPFObL3nSM2m"
   },
   "outputs": [],
   "source": []
  }
 ],
 "metadata": {
  "accelerator": "GPU",
  "colab": {
   "collapsed_sections": [],
   "name": "Copy of C3_W2_Lab_2_sarcasm_classifier.ipynb",
   "provenance": []
  },
  "kernelspec": {
   "display_name": "Python 3",
   "language": "python",
   "name": "python3"
  },
  "language_info": {
   "name": "python"
  }
 },
 "nbformat": 4,
 "nbformat_minor": 1
}
