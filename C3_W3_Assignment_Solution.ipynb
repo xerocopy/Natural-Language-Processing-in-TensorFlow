{
  "nbformat": 4,
  "nbformat_minor": 0,
  "metadata": {
    "accelerator": "GPU",
    "colab": {
      "name": "Copy of C3_W3_Assignment_Solution.ipynb",
      "provenance": [],
      "collapsed_sections": []
    },
    "kernelspec": {
      "name": "python3",
      "display_name": "Python 3"
    },
    "language_info": {
      "name": "python"
    }
  },
  "cells": [
    {
      "cell_type": "code",
      "metadata": {
        "id": "zX4Kg8DUTKWO"
      },
      "source": [
        "#@title Licensed under the Apache License, Version 2.0 (the \"License\");\n",
        "# you may not use this file except in compliance with the License.\n",
        "# You may obtain a copy of the License at\n",
        "#\n",
        "# https://www.apache.org/licenses/LICENSE-2.0\n",
        "#\n",
        "# Unless required by applicable law or agreed to in writing, software\n",
        "# distributed under the License is distributed on an \"AS IS\" BASIS,\n",
        "# WITHOUT WARRANTIES OR CONDITIONS OF ANY KIND, either express or implied.\n",
        "# See the License for the specific language governing permissions and\n",
        "# limitations under the License."
      ],
      "execution_count": null,
      "outputs": []
    },
    {
      "cell_type": "markdown",
      "metadata": {
        "id": "-v8aHcpUdtKN"
      },
      "source": [
        "**Note:** This notebook can run using TensorFlow 2.5.0"
      ]
    },
    {
      "cell_type": "code",
      "metadata": {
        "id": "FtL554lDdtKO"
      },
      "source": [
        "#!pip install tensorflow==2.5.0"
      ],
      "execution_count": null,
      "outputs": []
    },
    {
      "cell_type": "code",
      "metadata": {
        "id": "hmA6EzkQJ5jt"
      },
      "source": [
        "import json\n",
        "import tensorflow as tf\n",
        "import csv\n",
        "import random\n",
        "import numpy as np\n",
        "\n",
        "from tensorflow.keras.preprocessing.text import Tokenizer\n",
        "from tensorflow.keras.preprocessing.sequence import pad_sequences\n",
        "from tensorflow.keras.utils import to_categorical\n",
        "from tensorflow.keras import regularizers\n",
        "\n",
        "\n",
        "embedding_dim = 100\n",
        "max_length = 16\n",
        "trunc_type='post'\n",
        "padding_type='post'\n",
        "oov_tok = \"<OOV>\"\n",
        "training_size=160000\n",
        "test_portion=.1\n",
        "\n",
        "corpus = []\n"
      ],
      "execution_count": 1,
      "outputs": []
    },
    {
      "cell_type": "code",
      "source": [
        "%%writefile download.sh\n",
        "\n",
        "#!/bin/bash\n",
        "fileid=\"$1\"\n",
        "filename=\"$2\"\n",
        "html=`curl -c ./cookie -s -L \"https://drive.google.com/uc?export=download&id=${fileid}\"`\n",
        "curl -Lb ./cookie \"https://drive.google.com/uc?export=download&`echo ${html}|grep -Po '(confirm=[a-zA-Z0-9\\-_]+)'`&id=${fileid}\" -o ${filename}"
      ],
      "metadata": {
        "colab": {
          "base_uri": "https://localhost:8080/"
        },
        "id": "N7Dd2V8gqMqq",
        "outputId": "0b02b5a5-9ccd-4b66-e86a-6be54fadf606"
      },
      "execution_count": 5,
      "outputs": [
        {
          "output_type": "stream",
          "name": "stdout",
          "text": [
            "Overwriting download.sh\n"
          ]
        }
      ]
    },
    {
      "cell_type": "code",
      "source": [
        "# Note that I cleaned the Stanford dataset to remove LATIN1 encoding to make it easier for Python CSV reader\n",
        "# You can do that yourself with:\n",
        "# iconv -f LATIN1 -t UTF8 training.1600000.processed.noemoticon.csv -o training_cleaned.csv\n",
        "\n",
        "!bash download.sh 1wd8KaeCSHxt-nEpMeuHFSNWrDp8joUXJ training_cleaned.csv"
      ],
      "metadata": {
        "colab": {
          "base_uri": "https://localhost:8080/"
        },
        "id": "XWksnMizqiT4",
        "outputId": "0c35f756-7abd-46e7-8d71-2f3c9125a972"
      },
      "execution_count": 6,
      "outputs": [
        {
          "output_type": "stream",
          "name": "stdout",
          "text": [
            "  % Total    % Received % Xferd  Average Speed   Time    Time     Time  Current\n",
            "                                 Dload  Upload   Total   Spent    Left  Speed\n",
            "  0     0    0     0    0     0      0      0 --:--:-- --:--:-- --:--:--     0\n",
            "100  227M  100  227M    0     0  51.7M      0  0:00:04  0:00:04 --:--:-- 57.8M\n"
          ]
        }
      ]
    },
    {
      "cell_type": "code",
      "metadata": {
        "id": "bM0l_dORKqE0",
        "colab": {
          "base_uri": "https://localhost:8080/"
        },
        "outputId": "0a9ef798-863b-4130-c7dd-3955159bcf8c"
      },
      "source": [
        "# Note that I cleaned the Stanford dataset to remove LATIN1 encoding to make it easier for Python CSV reader\n",
        "# You can do that yourself with:\n",
        "# iconv -f LATIN1 -t UTF8 training.1600000.processed.noemoticon.csv -o training_cleaned.csv\n",
        "\n",
        "# # training_cleaned.csv\n",
        "# !gdown --id 1wd8KaeCSHxt-nEpMeuHFSNWrDp8joUXJ   # the code the solution notebook provided didn't work well.\n",
        "\n",
        "num_sentences = 0\n",
        "\n",
        "with open(\"./training_cleaned.csv\") as csvfile:\n",
        "    reader = csv.reader(csvfile, delimiter=',')\n",
        "    for row in reader:\n",
        "        list_item=[]\n",
        "        \n",
        "        ### START CODE HERE\n",
        "        list_item.append(row[5])\n",
        "        this_label=row[0]\n",
        "        if this_label=='0':\n",
        "            list_item.append(0)\n",
        "        else:\n",
        "            list_item.append(1)\n",
        "        ### END CODE HERE\n",
        "        \n",
        "        num_sentences = num_sentences + 1\n",
        "        corpus.append(list_item)\n"
      ],
      "execution_count": 7,
      "outputs": [
        {
          "output_type": "stream",
          "name": "stdout",
          "text": [
            "Access denied with the following error:\n",
            "\n",
            " \tCannot retrieve the public link of the file. You may need to change\n",
            "\tthe permission to 'Anyone with the link', or have had many accesses. \n",
            "\n",
            "You may still be able to access the file from the browser:\n",
            "\n",
            "\t https://drive.google.com/uc?id=1wd8KaeCSHxt-nEpMeuHFSNWrDp8joUXJ \n",
            "\n"
          ]
        }
      ]
    },
    {
      "cell_type": "code",
      "metadata": {
        "id": "3kxblBUjEUX-",
        "colab": {
          "base_uri": "https://localhost:8080/"
        },
        "outputId": "e8a36387-6db7-4208-f31c-fbec73736fa2"
      },
      "source": [
        "print(num_sentences)\n",
        "print(len(corpus))\n",
        "print(corpus[1])\n",
        "\n",
        "# Expected Output:\n",
        "# 1600000\n",
        "# 1600000\n",
        "# [\"is upset that he can't update his Facebook by texting it... and might cry as a result  School today also. Blah!\", 0]"
      ],
      "execution_count": 8,
      "outputs": [
        {
          "output_type": "stream",
          "name": "stdout",
          "text": [
            "1600000\n",
            "1600000\n",
            "[\"is upset that he can't update his Facebook by texting it... and might cry as a result  School today also. Blah!\", 0]\n"
          ]
        }
      ]
    },
    {
      "cell_type": "code",
      "metadata": {
        "id": "ohOGz24lsNAD"
      },
      "source": [
        "sentences=[]\n",
        "labels=[]\n",
        "random.shuffle(corpus)\n",
        "for x in range(training_size):\n",
        "    sentences.append(corpus[x][0])# YOUR CODE HERE)\n",
        "    labels.append(corpus[x][1])# YOUR CODE HERE)\n",
        "\n",
        "\n",
        "tokenizer = Tokenizer()\n",
        "tokenizer.fit_on_texts(sentences)# YOUR CODE HERE)\n",
        "\n",
        "word_index = tokenizer.word_index\n",
        "vocab_size=len(word_index)# YOUR CODE HERE)\n",
        "\n",
        "sequences = tokenizer.texts_to_sequences(sentences)# YOUR CODE HERE)\n",
        "padded = pad_sequences(sequences, maxlen=max_length, padding=padding_type, truncating=trunc_type)# YOUR CODE HERE)\n",
        "\n",
        "split = int(test_portion * training_size)\n",
        "\n",
        "test_sequences = padded[0:split]# YOUR CODE HERE)\n",
        "training_sequences = padded[split:training_size]# YOUR CODE HERE)\n",
        "test_labels = labels[0:split]# YOUR CODE HERE)\n",
        "training_labels = labels[split:training_size]# YOUR CODE HERE)"
      ],
      "execution_count": 9,
      "outputs": []
    },
    {
      "cell_type": "code",
      "metadata": {
        "id": "gIrtRem1En3N",
        "colab": {
          "base_uri": "https://localhost:8080/"
        },
        "outputId": "3895a200-22d0-4b5a-aa37-f1f3efb767e8"
      },
      "source": [
        "print(vocab_size)\n",
        "print(word_index['i'])\n",
        "# Expected Output\n",
        "# 138856\n",
        "# 1"
      ],
      "execution_count": 10,
      "outputs": [
        {
          "output_type": "stream",
          "name": "stdout",
          "text": [
            "138914\n",
            "1\n"
          ]
        }
      ]
    },
    {
      "cell_type": "code",
      "source": [
        "# glove.6B.100d.txt\n",
        "!bash download.sh 1W5vZy2etitAblLdFn8_DxnsQKzfFJ98g glove.6B.100d.txt"
      ],
      "metadata": {
        "colab": {
          "base_uri": "https://localhost:8080/"
        },
        "id": "X6GEAayer08A",
        "outputId": "05beef25-4a06-4184-fb59-88ab7946472f"
      },
      "execution_count": 12,
      "outputs": [
        {
          "output_type": "stream",
          "name": "stdout",
          "text": [
            "  % Total    % Received % Xferd  Average Speed   Time    Time     Time  Current\n",
            "                                 Dload  Upload   Total   Spent    Left  Speed\n",
            "  0     0    0     0    0     0      0      0 --:--:-- --:--:-- --:--:--     0\n",
            "100  331M  100  331M    0     0  48.5M      0  0:00:06  0:00:06 --:--:-- 49.3M\n"
          ]
        }
      ]
    },
    {
      "cell_type": "code",
      "metadata": {
        "id": "C1zdgJkusRh0"
      },
      "source": [
        "# Note this is the 100 dimension version of GloVe from Stanford\n",
        "\n",
        "# # glove.6B.100d.txt\n",
        "# !gdown --id 1W5vZy2etitAblLdFn8_DxnsQKzfFJ98g   # the code the solution file provided didn't work well. \n",
        "\n",
        "embeddings_index = {};\n",
        "with open('./glove.6B.100d.txt') as f:\n",
        "    for line in f:\n",
        "        values = line.split();\n",
        "        word = values[0];\n",
        "        coefs = np.asarray(values[1:], dtype='float32');\n",
        "        embeddings_index[word] = coefs;\n",
        "\n",
        "embeddings_matrix = np.zeros((vocab_size+1, embedding_dim));\n",
        "for word, i in word_index.items():\n",
        "    embedding_vector = embeddings_index.get(word);\n",
        "    if embedding_vector is not None:\n",
        "        embeddings_matrix[i] = embedding_vector;"
      ],
      "execution_count": 13,
      "outputs": []
    },
    {
      "cell_type": "code",
      "metadata": {
        "id": "71NLk_lpFLNt",
        "colab": {
          "base_uri": "https://localhost:8080/"
        },
        "outputId": "70f9858a-eefb-4fef-8db1-03bd35f14b49"
      },
      "source": [
        "print(len(embeddings_matrix))\n",
        "# Expected Output\n",
        "# 138857"
      ],
      "execution_count": 14,
      "outputs": [
        {
          "output_type": "stream",
          "name": "stdout",
          "text": [
            "138915\n"
          ]
        }
      ]
    },
    {
      "cell_type": "code",
      "metadata": {
        "id": "iKKvbuEBOGFz",
        "colab": {
          "base_uri": "https://localhost:8080/"
        },
        "outputId": "db6b8d15-ed35-459a-a724-f4055e79a415"
      },
      "source": [
        "model = tf.keras.Sequential([\n",
        "    # YOUR CODE HERE\n",
        "    tf.keras.layers.Embedding(vocab_size+1, embedding_dim, input_length=max_length, weights=[embeddings_matrix], trainable=False),\n",
        "    tf.keras.layers.Dropout(0.2),\n",
        "    tf.keras.layers.Conv1D(64, 5, activation='relu'),\n",
        "    tf.keras.layers.MaxPooling1D(pool_size=4),\n",
        "    tf.keras.layers.LSTM(64),\n",
        "    tf.keras.layers.Dense(1, activation='sigmoid')\n",
        "])\n",
        "model.compile(loss='binary_crossentropy',optimizer='adam',metrics=['accuracy'])# YOUR CODE HERE)\n",
        "model.summary()\n",
        "\n",
        "num_epochs = 50\n",
        "\n",
        "training_padded = np.array(training_sequences)\n",
        "training_labels = np.array(training_labels)\n",
        "testing_padded = np.array(test_sequences)\n",
        "testing_labels = np.array(test_labels)\n",
        "\n",
        "history = model.fit(training_padded, training_labels, epochs=num_epochs, validation_data=(testing_padded, testing_labels), verbose=2)\n",
        "\n",
        "print(\"Training Complete\")"
      ],
      "execution_count": 15,
      "outputs": [
        {
          "output_type": "stream",
          "name": "stdout",
          "text": [
            "Model: \"sequential\"\n",
            "_________________________________________________________________\n",
            " Layer (type)                Output Shape              Param #   \n",
            "=================================================================\n",
            " embedding (Embedding)       (None, 16, 100)           13891500  \n",
            "                                                                 \n",
            " dropout (Dropout)           (None, 16, 100)           0         \n",
            "                                                                 \n",
            " conv1d (Conv1D)             (None, 12, 64)            32064     \n",
            "                                                                 \n",
            " max_pooling1d (MaxPooling1D  (None, 3, 64)            0         \n",
            " )                                                               \n",
            "                                                                 \n",
            " lstm (LSTM)                 (None, 64)                33024     \n",
            "                                                                 \n",
            " dense (Dense)               (None, 1)                 65        \n",
            "                                                                 \n",
            "=================================================================\n",
            "Total params: 13,956,653\n",
            "Trainable params: 65,153\n",
            "Non-trainable params: 13,891,500\n",
            "_________________________________________________________________\n",
            "Epoch 1/50\n",
            "4500/4500 - 38s - loss: 0.5670 - accuracy: 0.6987 - val_loss: 0.5275 - val_accuracy: 0.7293 - 38s/epoch - 9ms/step\n",
            "Epoch 2/50\n",
            "4500/4500 - 33s - loss: 0.5261 - accuracy: 0.7320 - val_loss: 0.5254 - val_accuracy: 0.7314 - 33s/epoch - 7ms/step\n",
            "Epoch 3/50\n",
            "4500/4500 - 32s - loss: 0.5099 - accuracy: 0.7440 - val_loss: 0.5094 - val_accuracy: 0.7452 - 32s/epoch - 7ms/step\n",
            "Epoch 4/50\n",
            "4500/4500 - 32s - loss: 0.4998 - accuracy: 0.7516 - val_loss: 0.5020 - val_accuracy: 0.7520 - 32s/epoch - 7ms/step\n",
            "Epoch 5/50\n",
            "4500/4500 - 32s - loss: 0.4906 - accuracy: 0.7572 - val_loss: 0.5039 - val_accuracy: 0.7489 - 32s/epoch - 7ms/step\n",
            "Epoch 6/50\n",
            "4500/4500 - 33s - loss: 0.4842 - accuracy: 0.7622 - val_loss: 0.5030 - val_accuracy: 0.7547 - 33s/epoch - 7ms/step\n",
            "Epoch 7/50\n",
            "4500/4500 - 34s - loss: 0.4758 - accuracy: 0.7681 - val_loss: 0.5008 - val_accuracy: 0.7549 - 34s/epoch - 8ms/step\n",
            "Epoch 8/50\n",
            "4500/4500 - 33s - loss: 0.4706 - accuracy: 0.7708 - val_loss: 0.5002 - val_accuracy: 0.7533 - 33s/epoch - 7ms/step\n",
            "Epoch 9/50\n",
            "4500/4500 - 33s - loss: 0.4654 - accuracy: 0.7733 - val_loss: 0.5158 - val_accuracy: 0.7441 - 33s/epoch - 7ms/step\n",
            "Epoch 10/50\n",
            "4500/4500 - 34s - loss: 0.4637 - accuracy: 0.7749 - val_loss: 0.5060 - val_accuracy: 0.7558 - 34s/epoch - 8ms/step\n",
            "Epoch 11/50\n",
            "4500/4500 - 33s - loss: 0.4587 - accuracy: 0.7785 - val_loss: 0.5245 - val_accuracy: 0.7445 - 33s/epoch - 7ms/step\n",
            "Epoch 12/50\n",
            "4500/4500 - 33s - loss: 0.4580 - accuracy: 0.7784 - val_loss: 0.5071 - val_accuracy: 0.7554 - 33s/epoch - 7ms/step\n",
            "Epoch 13/50\n",
            "4500/4500 - 35s - loss: 0.4533 - accuracy: 0.7818 - val_loss: 0.5099 - val_accuracy: 0.7502 - 35s/epoch - 8ms/step\n",
            "Epoch 14/50\n",
            "4500/4500 - 37s - loss: 0.4508 - accuracy: 0.7816 - val_loss: 0.5112 - val_accuracy: 0.7518 - 37s/epoch - 8ms/step\n",
            "Epoch 15/50\n",
            "4500/4500 - 38s - loss: 0.4487 - accuracy: 0.7838 - val_loss: 0.5053 - val_accuracy: 0.7516 - 38s/epoch - 8ms/step\n",
            "Epoch 16/50\n",
            "4500/4500 - 36s - loss: 0.4474 - accuracy: 0.7848 - val_loss: 0.5107 - val_accuracy: 0.7515 - 36s/epoch - 8ms/step\n",
            "Epoch 17/50\n",
            "4500/4500 - 34s - loss: 0.4432 - accuracy: 0.7885 - val_loss: 0.5145 - val_accuracy: 0.7494 - 34s/epoch - 8ms/step\n",
            "Epoch 18/50\n",
            "4500/4500 - 33s - loss: 0.4428 - accuracy: 0.7870 - val_loss: 0.5133 - val_accuracy: 0.7546 - 33s/epoch - 7ms/step\n",
            "Epoch 19/50\n",
            "4500/4500 - 35s - loss: 0.4412 - accuracy: 0.7895 - val_loss: 0.5099 - val_accuracy: 0.7547 - 35s/epoch - 8ms/step\n",
            "Epoch 20/50\n",
            "4500/4500 - 34s - loss: 0.4406 - accuracy: 0.7892 - val_loss: 0.5112 - val_accuracy: 0.7513 - 34s/epoch - 8ms/step\n",
            "Epoch 21/50\n",
            "4500/4500 - 33s - loss: 0.4378 - accuracy: 0.7909 - val_loss: 0.5101 - val_accuracy: 0.7518 - 33s/epoch - 7ms/step\n",
            "Epoch 22/50\n",
            "4500/4500 - 35s - loss: 0.4370 - accuracy: 0.7910 - val_loss: 0.5202 - val_accuracy: 0.7535 - 35s/epoch - 8ms/step\n",
            "Epoch 23/50\n",
            "4500/4500 - 34s - loss: 0.4372 - accuracy: 0.7914 - val_loss: 0.5098 - val_accuracy: 0.7508 - 34s/epoch - 8ms/step\n",
            "Epoch 24/50\n",
            "4500/4500 - 36s - loss: 0.4354 - accuracy: 0.7920 - val_loss: 0.5173 - val_accuracy: 0.7507 - 36s/epoch - 8ms/step\n",
            "Epoch 25/50\n",
            "4500/4500 - 34s - loss: 0.4355 - accuracy: 0.7927 - val_loss: 0.5145 - val_accuracy: 0.7545 - 34s/epoch - 8ms/step\n",
            "Epoch 26/50\n",
            "4500/4500 - 34s - loss: 0.4340 - accuracy: 0.7936 - val_loss: 0.5158 - val_accuracy: 0.7526 - 34s/epoch - 7ms/step\n",
            "Epoch 27/50\n",
            "4500/4500 - 33s - loss: 0.4333 - accuracy: 0.7931 - val_loss: 0.5146 - val_accuracy: 0.7501 - 33s/epoch - 7ms/step\n",
            "Epoch 28/50\n",
            "4500/4500 - 34s - loss: 0.4321 - accuracy: 0.7936 - val_loss: 0.5170 - val_accuracy: 0.7528 - 34s/epoch - 7ms/step\n",
            "Epoch 29/50\n",
            "4500/4500 - 33s - loss: 0.4317 - accuracy: 0.7943 - val_loss: 0.5193 - val_accuracy: 0.7503 - 33s/epoch - 7ms/step\n",
            "Epoch 30/50\n",
            "4500/4500 - 34s - loss: 0.4314 - accuracy: 0.7946 - val_loss: 0.5185 - val_accuracy: 0.7505 - 34s/epoch - 8ms/step\n",
            "Epoch 31/50\n",
            "4500/4500 - 34s - loss: 0.4311 - accuracy: 0.7960 - val_loss: 0.5183 - val_accuracy: 0.7517 - 34s/epoch - 7ms/step\n",
            "Epoch 32/50\n",
            "4500/4500 - 32s - loss: 0.4298 - accuracy: 0.7958 - val_loss: 0.5148 - val_accuracy: 0.7492 - 32s/epoch - 7ms/step\n",
            "Epoch 33/50\n",
            "4500/4500 - 33s - loss: 0.4293 - accuracy: 0.7958 - val_loss: 0.5164 - val_accuracy: 0.7535 - 33s/epoch - 7ms/step\n",
            "Epoch 34/50\n",
            "4500/4500 - 34s - loss: 0.4296 - accuracy: 0.7958 - val_loss: 0.5193 - val_accuracy: 0.7530 - 34s/epoch - 8ms/step\n",
            "Epoch 35/50\n",
            "4500/4500 - 34s - loss: 0.4290 - accuracy: 0.7970 - val_loss: 0.5230 - val_accuracy: 0.7504 - 34s/epoch - 7ms/step\n",
            "Epoch 36/50\n",
            "4500/4500 - 33s - loss: 0.4281 - accuracy: 0.7960 - val_loss: 0.5168 - val_accuracy: 0.7460 - 33s/epoch - 7ms/step\n",
            "Epoch 37/50\n",
            "4500/4500 - 33s - loss: 0.4266 - accuracy: 0.7974 - val_loss: 0.5190 - val_accuracy: 0.7501 - 33s/epoch - 7ms/step\n",
            "Epoch 38/50\n",
            "4500/4500 - 32s - loss: 0.4266 - accuracy: 0.7972 - val_loss: 0.5192 - val_accuracy: 0.7529 - 32s/epoch - 7ms/step\n",
            "Epoch 39/50\n",
            "4500/4500 - 32s - loss: 0.4271 - accuracy: 0.7971 - val_loss: 0.5169 - val_accuracy: 0.7509 - 32s/epoch - 7ms/step\n",
            "Epoch 40/50\n",
            "4500/4500 - 33s - loss: 0.4256 - accuracy: 0.7994 - val_loss: 0.5233 - val_accuracy: 0.7511 - 33s/epoch - 7ms/step\n",
            "Epoch 41/50\n",
            "4500/4500 - 33s - loss: 0.4263 - accuracy: 0.7980 - val_loss: 0.5246 - val_accuracy: 0.7525 - 33s/epoch - 7ms/step\n",
            "Epoch 42/50\n",
            "4500/4500 - 33s - loss: 0.4257 - accuracy: 0.7973 - val_loss: 0.5199 - val_accuracy: 0.7511 - 33s/epoch - 7ms/step\n",
            "Epoch 43/50\n",
            "4500/4500 - 33s - loss: 0.4261 - accuracy: 0.7978 - val_loss: 0.5198 - val_accuracy: 0.7506 - 33s/epoch - 7ms/step\n",
            "Epoch 44/50\n",
            "4500/4500 - 35s - loss: 0.4236 - accuracy: 0.7995 - val_loss: 0.5182 - val_accuracy: 0.7492 - 35s/epoch - 8ms/step\n",
            "Epoch 45/50\n",
            "4500/4500 - 33s - loss: 0.4250 - accuracy: 0.7981 - val_loss: 0.5163 - val_accuracy: 0.7490 - 33s/epoch - 7ms/step\n",
            "Epoch 46/50\n",
            "4500/4500 - 34s - loss: 0.4244 - accuracy: 0.7989 - val_loss: 0.5201 - val_accuracy: 0.7526 - 34s/epoch - 8ms/step\n",
            "Epoch 47/50\n",
            "4500/4500 - 33s - loss: 0.4251 - accuracy: 0.7982 - val_loss: 0.5195 - val_accuracy: 0.7517 - 33s/epoch - 7ms/step\n",
            "Epoch 48/50\n",
            "4500/4500 - 33s - loss: 0.4230 - accuracy: 0.7992 - val_loss: 0.5227 - val_accuracy: 0.7511 - 33s/epoch - 7ms/step\n",
            "Epoch 49/50\n",
            "4500/4500 - 33s - loss: 0.4246 - accuracy: 0.7997 - val_loss: 0.5209 - val_accuracy: 0.7501 - 33s/epoch - 7ms/step\n",
            "Epoch 50/50\n",
            "4500/4500 - 33s - loss: 0.4226 - accuracy: 0.7995 - val_loss: 0.5194 - val_accuracy: 0.7489 - 33s/epoch - 7ms/step\n",
            "Training Complete\n"
          ]
        }
      ]
    },
    {
      "cell_type": "code",
      "metadata": {
        "id": "qxju4ItJKO8F",
        "colab": {
          "base_uri": "https://localhost:8080/",
          "height": 608
        },
        "outputId": "93368281-a923-4f12-ec16-31a8aa5d4b30"
      },
      "source": [
        "import matplotlib.image  as mpimg\n",
        "import matplotlib.pyplot as plt\n",
        "\n",
        "#-----------------------------------------------------------\n",
        "# Retrieve a list of list results on training and test data\n",
        "# sets for each training epoch\n",
        "#-----------------------------------------------------------\n",
        "acc=history.history['accuracy']\n",
        "val_acc=history.history['val_accuracy']\n",
        "loss=history.history['loss']\n",
        "val_loss=history.history['val_loss']\n",
        "\n",
        "epochs=range(len(acc)) # Get number of epochs\n",
        "\n",
        "#------------------------------------------------\n",
        "# Plot training and validation accuracy per epoch\n",
        "#------------------------------------------------\n",
        "plt.plot(epochs, acc, 'r')\n",
        "plt.plot(epochs, val_acc, 'b')\n",
        "plt.title('Training and validation accuracy')\n",
        "plt.xlabel(\"Epochs\")\n",
        "plt.ylabel(\"Accuracy\")\n",
        "plt.legend([\"Accuracy\", \"Validation Accuracy\"])\n",
        "\n",
        "plt.figure()\n",
        "\n",
        "#------------------------------------------------\n",
        "# Plot training and validation loss per epoch\n",
        "#------------------------------------------------\n",
        "plt.plot(epochs, loss, 'r')\n",
        "plt.plot(epochs, val_loss, 'b')\n",
        "plt.title('Training and validation loss')\n",
        "plt.xlabel(\"Epochs\")\n",
        "plt.ylabel(\"Loss\")\n",
        "plt.legend([\"Loss\", \"Validation Loss\"])\n",
        "\n",
        "plt.figure()\n",
        "\n",
        "\n",
        "# Expected Output\n",
        "# A chart where the validation loss does not increase sharply!"
      ],
      "execution_count": 16,
      "outputs": [
        {
          "output_type": "execute_result",
          "data": {
            "text/plain": [
              "<Figure size 432x288 with 0 Axes>"
            ]
          },
          "metadata": {},
          "execution_count": 16
        },
        {
          "output_type": "display_data",
          "data": {
            "image/png": "[encoded data removed]",
            "text/plain": [
              "<Figure size 432x288 with 1 Axes>"
            ]
          },
          "metadata": {
            "needs_background": "light"
          }
        },
        {
          "output_type": "display_data",
          "data": {
            "image/png": "[encoded data removed]",
            "text/plain": [
              "<Figure size 432x288 with 1 Axes>"
            ]
          },
          "metadata": {
            "needs_background": "light"
          }
        },
        {
          "output_type": "display_data",
          "data": {
            "text/plain": [
              "<Figure size 432x288 with 0 Axes>"
            ]
          },
          "metadata": {}
        }
      ]
    },
    {
      "cell_type": "code",
      "source": [
        ""
      ],
      "metadata": {
        "id": "ZgaGgUt5s9An"
      },
      "execution_count": null,
      "outputs": []
    }
  ]
}