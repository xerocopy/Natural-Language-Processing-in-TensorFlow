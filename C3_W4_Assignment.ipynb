{
  "nbformat": 4,
  "nbformat_minor": 0,
  "metadata": {
    "accelerator": "GPU",
    "colab": {
      "name": "Copy of C3_W4_Assignment.ipynb",
      "provenance": [],
      "toc_visible": true
    },
    "kernelspec": {
      "display_name": "Python 3",
      "language": "python",
      "name": "python3"
    },
    "language_info": {
      "codemirror_mode": {
        "name": "ipython",
        "version": 3
      },
      "file_extension": ".py",
      "mimetype": "text/x-python",
      "name": "python",
      "nbconvert_exporter": "python",
      "pygments_lexer": "ipython3",
      "version": "3.8.5"
    }
  },
  "cells": [
    {
      "cell_type": "code",
      "metadata": {
        "id": "T2XpcPvbXalN"
      },
      "source": [
        "#@title Licensed under the Apache License, Version 2.0 (the \"License\");\n",
        "# you may not use this file except in compliance with the License.\n",
        "# You may obtain a copy of the License at\n",
        "#\n",
        "# https://www.apache.org/licenses/LICENSE-2.0\n",
        "#\n",
        "# Unless required by applicable law or agreed to in writing, software\n",
        "# distributed under the License is distributed on an \"AS IS\" BASIS,\n",
        "# WITHOUT WARRANTIES OR CONDITIONS OF ANY KIND, either express or implied.\n",
        "# See the License for the specific language governing permissions and\n",
        "# limitations under the License."
      ],
      "execution_count": null,
      "outputs": []
    },
    {
      "cell_type": "markdown",
      "metadata": {
        "id": "eK88h3Y5XalO"
      },
      "source": [
        "**Note:** This notebook can run using TensorFlow 2.5.0"
      ]
    },
    {
      "cell_type": "code",
      "metadata": {
        "id": "zX4Kg8DUTKWO"
      },
      "source": [
        "#!pip install tensorflow==2.5.0"
      ],
      "execution_count": null,
      "outputs": []
    },
    {
      "cell_type": "code",
      "metadata": {
        "id": "BOwsuGQQY9OL"
      },
      "source": [
        "from tensorflow.keras.preprocessing.sequence import pad_sequences\n",
        "from tensorflow.keras.layers import Embedding, LSTM, Dense, Dropout, Bidirectional\n",
        "from tensorflow.keras.preprocessing.text import Tokenizer\n",
        "from tensorflow.keras.models import Sequential\n",
        "from tensorflow.keras.optimizers import Adam\n",
        "### YOUR CODE HERE\n",
        "# Figure out how to import regularizers\n",
        "###\n",
        "import tensorflow.keras.utils as ku \n",
        "import numpy as np "
      ],
      "execution_count": 1,
      "outputs": []
    },
    {
      "cell_type": "code",
      "metadata": {
        "id": "PRnDnCW-Z7qv",
        "colab": {
          "base_uri": "https://localhost:8080/"
        },
        "outputId": "56822d58-efc3-4415-eda0-ab73a2dbf90f"
      },
      "source": [
        "tokenizer = Tokenizer()\n",
        "\n",
        "# sonnets.txt\n",
        "!gdown --id 108jAePKK4R3BVYBbYJZ32JWUwxeMg20K\n",
        "\n",
        "data = open('./sonnets.txt').read()\n",
        "\n",
        "corpus = data.lower().split(\"\\n\")\n",
        "\n",
        "\n",
        "tokenizer.fit_on_texts(corpus)\n",
        "total_words = len(tokenizer.word_index) + 1\n",
        "\n",
        "# create input sequences using list of tokens\n",
        "input_sequences = []\n",
        "for line in corpus:\n",
        "\ttoken_list = tokenizer.texts_to_sequences([line])[0]\n",
        "\tfor i in range(1, len(token_list)):\n",
        "\t\tn_gram_sequence = token_list[:i+1]\n",
        "\t\tinput_sequences.append(n_gram_sequence)\n",
        "\n",
        "\n",
        "# pad sequences \n",
        "max_sequence_len = max([len(x) for x in input_sequences])\n",
        "input_sequences = np.array(pad_sequences(input_sequences, maxlen=max_sequence_len, padding='pre'))\n",
        "\n",
        "# create predictors and label\n",
        "predictors, label = input_sequences[:,:-1],input_sequences[:,-1]\n",
        "\n",
        "label = ku.to_categorical(label, num_classes=total_words)"
      ],
      "execution_count": 2,
      "outputs": [
        {
          "output_type": "stream",
          "name": "stdout",
          "text": [
            "Downloading...\n",
            "From: https://drive.google.com/uc?id=108jAePKK4R3BVYBbYJZ32JWUwxeMg20K\n",
            "To: /content/sonnets.txt\n",
            "\r  0% 0.00/93.6k [00:00<?, ?B/s]\r100% 93.6k/93.6k [00:00<00:00, 49.6MB/s]\n"
          ]
        }
      ]
    },
    {
      "cell_type": "code",
      "metadata": {
        "id": "w9vH8Y59ajYL",
        "colab": {
          "base_uri": "https://localhost:8080/"
        },
        "outputId": "ad1376dc-a487-4085-9860-58738a8f707d"
      },
      "source": [
        "### START CODE HERE\n",
        "model = Sequential()\n",
        "model.add(Embedding(total_words, 64, input_length = max_sequence_len - 1))\n",
        "model.add(Bidirectional(LSTM(32, return_sequences = True)))\n",
        "model.add(Dropout(0.2))\n",
        "model.add(Bidirectional(LSTM(32)))\n",
        "model.add(Dense(total_words, activation = 'relu'))\n",
        "model.add(Dense(total_words, activation = 'softmax'))\n",
        "# Pick an optimizer\n",
        "model.compile(loss = 'categorical_crossentropy', optimizer = 'adam', metrics=['accuracy']) \n",
        "### END CODE HERE\n",
        "    \n",
        "print(model.summary())"
      ],
      "execution_count": 11,
      "outputs": [
        {
          "output_type": "stream",
          "name": "stdout",
          "text": [
            "Model: \"sequential_4\"\n",
            "_________________________________________________________________\n",
            " Layer (type)                Output Shape              Param #   \n",
            "=================================================================\n",
            " embedding_4 (Embedding)     (None, 10, 64)            205504    \n",
            "                                                                 \n",
            " bidirectional_5 (Bidirectio  (None, 10, 64)           24832     \n",
            " nal)                                                            \n",
            "                                                                 \n",
            " dropout_3 (Dropout)         (None, 10, 64)            0         \n",
            "                                                                 \n",
            " bidirectional_6 (Bidirectio  (None, 64)               24832     \n",
            " nal)                                                            \n",
            "                                                                 \n",
            " dense (Dense)               (None, 3211)              208715    \n",
            "                                                                 \n",
            " dense_1 (Dense)             (None, 3211)              10313732  \n",
            "                                                                 \n",
            "=================================================================\n",
            "Total params: 10,777,615\n",
            "Trainable params: 10,777,615\n",
            "Non-trainable params: 0\n",
            "_________________________________________________________________\n",
            "None\n"
          ]
        }
      ]
    },
    {
      "cell_type": "code",
      "metadata": {
        "id": "AIg2f1HBxqof",
        "colab": {
          "base_uri": "https://localhost:8080/"
        },
        "outputId": "715fedb7-d31d-47aa-9489-68908b800ffd"
      },
      "source": [
        "history = model.fit(predictors, label, epochs=100, verbose=1)"
      ],
      "execution_count": 12,
      "outputs": [
        {
          "output_type": "stream",
          "name": "stdout",
          "text": [
            "Epoch 1/100\n",
            "484/484 [==============================] - 65s 120ms/step - loss: 6.8492 - accuracy: 0.0212\n",
            "Epoch 2/100\n",
            "484/484 [==============================] - 72s 149ms/step - loss: 6.4592 - accuracy: 0.0285\n",
            "Epoch 3/100\n",
            "484/484 [==============================] - 73s 151ms/step - loss: 6.2633 - accuracy: 0.0362\n",
            "Epoch 4/100\n",
            "484/484 [==============================] - 72s 149ms/step - loss: 6.0596 - accuracy: 0.0404\n",
            "Epoch 5/100\n",
            "484/484 [==============================] - 72s 150ms/step - loss: 5.8113 - accuracy: 0.0523\n",
            "Epoch 6/100\n",
            "484/484 [==============================] - 72s 150ms/step - loss: 5.5345 - accuracy: 0.0629\n",
            "Epoch 7/100\n",
            "484/484 [==============================] - 72s 149ms/step - loss: 5.2523 - accuracy: 0.0786\n",
            "Epoch 8/100\n",
            "484/484 [==============================] - 72s 149ms/step - loss: 4.9387 - accuracy: 0.0907\n",
            "Epoch 9/100\n",
            "484/484 [==============================] - 72s 149ms/step - loss: 4.6267 - accuracy: 0.1080\n",
            "Epoch 10/100\n",
            "484/484 [==============================] - 72s 148ms/step - loss: 4.2805 - accuracy: 0.1327\n",
            "Epoch 11/100\n",
            "484/484 [==============================] - 72s 149ms/step - loss: 3.9309 - accuracy: 0.1651\n",
            "Epoch 12/100\n",
            "484/484 [==============================] - 73s 150ms/step - loss: 3.5712 - accuracy: 0.2148\n",
            "Epoch 13/100\n",
            "484/484 [==============================] - 73s 151ms/step - loss: 3.2310 - accuracy: 0.2688\n",
            "Epoch 14/100\n",
            "484/484 [==============================] - 72s 149ms/step - loss: 2.9103 - accuracy: 0.3296\n",
            "Epoch 15/100\n",
            "484/484 [==============================] - 72s 149ms/step - loss: 2.6413 - accuracy: 0.3800\n",
            "Epoch 16/100\n",
            "484/484 [==============================] - 73s 151ms/step - loss: 2.4101 - accuracy: 0.4264\n",
            "Epoch 17/100\n",
            "484/484 [==============================] - 73s 151ms/step - loss: 2.1973 - accuracy: 0.4668\n",
            "Epoch 18/100\n",
            "484/484 [==============================] - 73s 150ms/step - loss: 2.0187 - accuracy: 0.5063\n",
            "Epoch 19/100\n",
            "484/484 [==============================] - 72s 150ms/step - loss: 1.8672 - accuracy: 0.5393\n",
            "Epoch 20/100\n",
            "484/484 [==============================] - 72s 149ms/step - loss: 1.7328 - accuracy: 0.5704\n",
            "Epoch 21/100\n",
            "484/484 [==============================] - 72s 149ms/step - loss: 1.6119 - accuracy: 0.5944\n",
            "Epoch 22/100\n",
            "484/484 [==============================] - 72s 149ms/step - loss: 1.4942 - accuracy: 0.6246\n",
            "Epoch 23/100\n",
            "484/484 [==============================] - 72s 150ms/step - loss: 1.3998 - accuracy: 0.6435\n",
            "Epoch 24/100\n",
            "484/484 [==============================] - 73s 151ms/step - loss: 1.3247 - accuracy: 0.6619\n",
            "Epoch 25/100\n",
            "484/484 [==============================] - 72s 149ms/step - loss: 1.2474 - accuracy: 0.6799\n",
            "Epoch 26/100\n",
            "484/484 [==============================] - 72s 149ms/step - loss: 1.1823 - accuracy: 0.6978\n",
            "Epoch 27/100\n",
            "484/484 [==============================] - 72s 150ms/step - loss: 1.1282 - accuracy: 0.7106\n",
            "Epoch 28/100\n",
            "484/484 [==============================] - 73s 150ms/step - loss: 1.0777 - accuracy: 0.7207\n",
            "Epoch 29/100\n",
            "484/484 [==============================] - 73s 150ms/step - loss: 1.0358 - accuracy: 0.7313\n",
            "Epoch 30/100\n",
            "484/484 [==============================] - 72s 149ms/step - loss: 0.9814 - accuracy: 0.7445\n",
            "Epoch 31/100\n",
            "484/484 [==============================] - 73s 150ms/step - loss: 0.9353 - accuracy: 0.7606\n",
            "Epoch 32/100\n",
            "484/484 [==============================] - 73s 150ms/step - loss: 0.9150 - accuracy: 0.7623\n",
            "Epoch 33/100\n",
            "484/484 [==============================] - 73s 151ms/step - loss: 0.8858 - accuracy: 0.7694\n",
            "Epoch 34/100\n",
            "484/484 [==============================] - 73s 150ms/step - loss: 0.8440 - accuracy: 0.7813\n",
            "Epoch 35/100\n",
            "484/484 [==============================] - 73s 150ms/step - loss: 0.8280 - accuracy: 0.7837\n",
            "Epoch 36/100\n",
            "484/484 [==============================] - 72s 149ms/step - loss: 0.8172 - accuracy: 0.7870\n",
            "Epoch 37/100\n",
            "484/484 [==============================] - 72s 149ms/step - loss: 0.8042 - accuracy: 0.7879\n",
            "Epoch 38/100\n",
            "484/484 [==============================] - 73s 150ms/step - loss: 0.7794 - accuracy: 0.7971\n",
            "Epoch 39/100\n",
            "484/484 [==============================] - 73s 151ms/step - loss: 0.7504 - accuracy: 0.8044\n",
            "Epoch 40/100\n",
            "484/484 [==============================] - 73s 150ms/step - loss: 0.7530 - accuracy: 0.8004\n",
            "Epoch 41/100\n",
            "484/484 [==============================] - 73s 151ms/step - loss: 0.7301 - accuracy: 0.8068\n",
            "Epoch 42/100\n",
            "484/484 [==============================] - 74s 152ms/step - loss: 0.7248 - accuracy: 0.8082\n",
            "Epoch 43/100\n",
            "484/484 [==============================] - 73s 151ms/step - loss: 0.7084 - accuracy: 0.8125\n",
            "Epoch 44/100\n",
            "484/484 [==============================] - 73s 151ms/step - loss: 0.7061 - accuracy: 0.8121\n",
            "Epoch 45/100\n",
            "484/484 [==============================] - 73s 151ms/step - loss: 0.6920 - accuracy: 0.8154\n",
            "Epoch 46/100\n",
            "484/484 [==============================] - 73s 152ms/step - loss: 0.6752 - accuracy: 0.8195\n",
            "Epoch 47/100\n",
            "484/484 [==============================] - 73s 151ms/step - loss: 0.6677 - accuracy: 0.8209\n",
            "Epoch 48/100\n",
            "484/484 [==============================] - 74s 152ms/step - loss: 0.6672 - accuracy: 0.8218\n",
            "Epoch 49/100\n",
            "484/484 [==============================] - 72s 150ms/step - loss: 0.6522 - accuracy: 0.8263\n",
            "Epoch 50/100\n",
            "484/484 [==============================] - 72s 149ms/step - loss: 0.6432 - accuracy: 0.8278\n",
            "Epoch 51/100\n",
            "484/484 [==============================] - 73s 150ms/step - loss: 0.6508 - accuracy: 0.8243\n",
            "Epoch 52/100\n",
            "484/484 [==============================] - 73s 150ms/step - loss: 0.6421 - accuracy: 0.8245\n",
            "Epoch 53/100\n",
            "484/484 [==============================] - 73s 150ms/step - loss: 0.6293 - accuracy: 0.8280\n",
            "Epoch 54/100\n",
            "484/484 [==============================] - 72s 149ms/step - loss: 0.6394 - accuracy: 0.8238\n",
            "Epoch 55/100\n",
            "484/484 [==============================] - 72s 150ms/step - loss: 0.6247 - accuracy: 0.8311\n",
            "Epoch 56/100\n",
            "484/484 [==============================] - 72s 150ms/step - loss: 0.6170 - accuracy: 0.8297\n",
            "Epoch 57/100\n",
            "484/484 [==============================] - 72s 150ms/step - loss: 0.6176 - accuracy: 0.8287\n",
            "Epoch 58/100\n",
            "484/484 [==============================] - 72s 149ms/step - loss: 0.6106 - accuracy: 0.8307\n",
            "Epoch 59/100\n",
            "484/484 [==============================] - 72s 149ms/step - loss: 0.6035 - accuracy: 0.8331\n",
            "Epoch 60/100\n",
            "484/484 [==============================] - 72s 149ms/step - loss: 0.5945 - accuracy: 0.8340\n",
            "Epoch 61/100\n",
            "484/484 [==============================] - 73s 150ms/step - loss: 0.5895 - accuracy: 0.8357\n",
            "Epoch 62/100\n",
            "484/484 [==============================] - 73s 151ms/step - loss: 0.5927 - accuracy: 0.8367\n",
            "Epoch 63/100\n",
            "484/484 [==============================] - 72s 149ms/step - loss: 0.5974 - accuracy: 0.8344\n",
            "Epoch 64/100\n",
            "484/484 [==============================] - 73s 150ms/step - loss: 0.6103 - accuracy: 0.8286\n",
            "Epoch 65/100\n",
            "484/484 [==============================] - 72s 149ms/step - loss: 0.5892 - accuracy: 0.8364\n",
            "Epoch 66/100\n",
            "484/484 [==============================] - 72s 150ms/step - loss: 0.5701 - accuracy: 0.8411\n",
            "Epoch 67/100\n",
            "484/484 [==============================] - 73s 150ms/step - loss: 0.5774 - accuracy: 0.8373\n",
            "Epoch 68/100\n",
            "484/484 [==============================] - 72s 149ms/step - loss: 0.5779 - accuracy: 0.8367\n",
            "Epoch 69/100\n",
            "484/484 [==============================] - 72s 149ms/step - loss: 0.5750 - accuracy: 0.8392\n",
            "Epoch 70/100\n",
            "484/484 [==============================] - 72s 149ms/step - loss: 0.5669 - accuracy: 0.8418\n",
            "Epoch 71/100\n",
            "484/484 [==============================] - 72s 150ms/step - loss: 0.5686 - accuracy: 0.8380\n",
            "Epoch 72/100\n",
            "484/484 [==============================] - 72s 149ms/step - loss: 0.5755 - accuracy: 0.8367\n",
            "Epoch 73/100\n",
            "484/484 [==============================] - 72s 149ms/step - loss: 0.5739 - accuracy: 0.8364\n",
            "Epoch 74/100\n",
            "484/484 [==============================] - 72s 150ms/step - loss: 0.5654 - accuracy: 0.8389\n",
            "Epoch 75/100\n",
            "484/484 [==============================] - 73s 150ms/step - loss: 0.5616 - accuracy: 0.8385\n",
            "Epoch 76/100\n",
            "484/484 [==============================] - 72s 150ms/step - loss: 0.5515 - accuracy: 0.8412\n",
            "Epoch 77/100\n",
            "484/484 [==============================] - 72s 149ms/step - loss: 0.5658 - accuracy: 0.8395\n",
            "Epoch 78/100\n",
            "484/484 [==============================] - 62s 129ms/step - loss: 0.5838 - accuracy: 0.8324\n",
            "Epoch 79/100\n",
            "484/484 [==============================] - 57s 117ms/step - loss: 0.5526 - accuracy: 0.8401\n",
            "Epoch 80/100\n",
            "484/484 [==============================] - 57s 117ms/step - loss: 0.5492 - accuracy: 0.8434\n",
            "Epoch 81/100\n",
            "484/484 [==============================] - 57s 117ms/step - loss: 0.5428 - accuracy: 0.8430\n",
            "Epoch 82/100\n",
            "484/484 [==============================] - 57s 117ms/step - loss: 0.5447 - accuracy: 0.8433\n",
            "Epoch 83/100\n",
            "484/484 [==============================] - 57s 118ms/step - loss: 0.5625 - accuracy: 0.8364\n",
            "Epoch 84/100\n",
            "484/484 [==============================] - 57s 119ms/step - loss: 0.5646 - accuracy: 0.8372\n",
            "Epoch 85/100\n",
            "484/484 [==============================] - 57s 119ms/step - loss: 0.5412 - accuracy: 0.8426\n",
            "Epoch 86/100\n",
            "484/484 [==============================] - 57s 118ms/step - loss: 0.5400 - accuracy: 0.8426\n",
            "Epoch 87/100\n",
            "484/484 [==============================] - 57s 119ms/step - loss: 0.5371 - accuracy: 0.8450\n",
            "Epoch 88/100\n",
            "484/484 [==============================] - 57s 118ms/step - loss: 0.5363 - accuracy: 0.8441\n",
            "Epoch 89/100\n",
            "484/484 [==============================] - 57s 118ms/step - loss: 0.5435 - accuracy: 0.8425\n",
            "Epoch 90/100\n",
            "484/484 [==============================] - 57s 118ms/step - loss: 0.5416 - accuracy: 0.8416\n",
            "Epoch 91/100\n",
            "484/484 [==============================] - 57s 118ms/step - loss: 0.5386 - accuracy: 0.8426\n",
            "Epoch 92/100\n",
            "484/484 [==============================] - 57s 118ms/step - loss: 0.5387 - accuracy: 0.8425\n",
            "Epoch 93/100\n",
            "484/484 [==============================] - 57s 117ms/step - loss: 0.5446 - accuracy: 0.8394\n",
            "Epoch 94/100\n",
            "484/484 [==============================] - 57s 117ms/step - loss: 0.5438 - accuracy: 0.8404\n",
            "Epoch 95/100\n",
            "484/484 [==============================] - 57s 117ms/step - loss: 0.5349 - accuracy: 0.8426\n",
            "Epoch 96/100\n",
            "484/484 [==============================] - 57s 117ms/step - loss: 0.5337 - accuracy: 0.8428\n",
            "Epoch 97/100\n",
            "484/484 [==============================] - 57s 117ms/step - loss: 0.5264 - accuracy: 0.8456\n",
            "Epoch 98/100\n",
            "484/484 [==============================] - 57s 117ms/step - loss: 0.5220 - accuracy: 0.8455\n",
            "Epoch 99/100\n",
            "484/484 [==============================] - 57s 117ms/step - loss: 0.5288 - accuracy: 0.8455\n",
            "Epoch 100/100\n",
            "484/484 [==============================] - 56s 117ms/step - loss: 0.5269 - accuracy: 0.8448\n"
          ]
        }
      ]
    },
    {
      "cell_type": "code",
      "metadata": {
        "id": "1fXTEO3GJ282",
        "colab": {
          "base_uri": "https://localhost:8080/",
          "height": 545
        },
        "outputId": "43676a2c-b5c8-4669-aca1-5310b0e0ddcc"
      },
      "source": [
        "import matplotlib.pyplot as plt\n",
        "acc = history.history['accuracy']\n",
        "loss = history.history['loss']\n",
        "\n",
        "epochs = range(len(acc))\n",
        "\n",
        "plt.plot(epochs, acc, 'b', label='Training accuracy')\n",
        "plt.title('Training accuracy')\n",
        "\n",
        "plt.figure()\n",
        "\n",
        "plt.plot(epochs, loss, 'b', label='Training Loss')\n",
        "plt.title('Training loss')\n",
        "plt.legend()\n",
        "\n",
        "plt.show()"
      ],
      "execution_count": 13,
      "outputs": [
        {
          "output_type": "display_data",
          "data": {
            "image/png": "[encoded data removed]",
            "text/plain": [
              "<Figure size 432x288 with 1 Axes>"
            ]
          },
          "metadata": {
            "needs_background": "light"
          }
        },
        {
          "output_type": "display_data",
          "data": {
            "image/png": "[encoded data removed]",
            "text/plain": [
              "<Figure size 432x288 with 1 Axes>"
            ]
          },
          "metadata": {
            "needs_background": "light"
          }
        }
      ]
    },
    {
      "cell_type": "code",
      "metadata": {
        "id": "6Vc6PHgxa6Hm",
        "colab": {
          "base_uri": "https://localhost:8080/"
        },
        "outputId": "1aa9cc97-0288-4e11-be94-93f8b423ee78"
      },
      "source": [
        "seed_text = \"Help me Obi Wan Kenobi, you're my only hope\"\n",
        "next_words = 100\n",
        "  \n",
        "for _ in range(next_words):\n",
        "\ttoken_list = tokenizer.texts_to_sequences([seed_text])[0]\n",
        "\ttoken_list = pad_sequences([token_list], maxlen=max_sequence_len-1, padding='pre')\n",
        "\t# predicted = model.predict_classes(token_list, verbose=0)\n",
        "\tpredicted = np.argmax(model.predict(token_list),axis=1)\n",
        "\n",
        "\toutput_word = \"\"\n",
        "\tfor word, index in tokenizer.word_index.items():\n",
        "\t\tif index == predicted:\n",
        "\t\t\toutput_word = word\n",
        "\t\t\tbreak\n",
        "\tseed_text += \" \" + output_word\n",
        "print(seed_text)"
      ],
      "execution_count": 15,
      "outputs": [
        {
          "output_type": "stream",
          "name": "stdout",
          "text": [
            "Help me Obi Wan Kenobi, you're my only hope by authority ill new ' more bright in trust heaven's contents deceive warm'd warm'd ' hang in allay'd light light light light light allay'd light both twain allay'd die as art as night as night grow light light light light mother ' more eyed torn die in lease to thee so i near strong friend ' so so near slain slain near chest hate hid razed cover away away away away away more more hits torn ' not torn rotten now now my name mad eyed ' worth her glory in me love thee more nearly nearly you away still\n"
          ]
        }
      ]
    },
    {
      "cell_type": "code",
      "source": [
        ""
      ],
      "metadata": {
        "id": "B7W5mSkj7wK-"
      },
      "execution_count": null,
      "outputs": []
    }
  ]
}